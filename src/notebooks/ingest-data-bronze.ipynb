{
 "cells": [
  {
   "cell_type": "markdown",
   "id": "76131081",
   "metadata": {},
   "source": [
    "# Importações"
   ]
  },
  {
   "cell_type": "code",
   "execution_count": 3,
   "id": "89975186",
   "metadata": {},
   "outputs": [],
   "source": [
    "import kagglehub, os, shutil\n",
    "from pathlib import Path"
   ]
  },
  {
   "cell_type": "markdown",
   "id": "a289e884",
   "metadata": {},
   "source": [
    "# Consumindo informações do Kaggle"
   ]
  },
  {
   "cell_type": "code",
   "execution_count": 4,
   "id": "4c2186f5",
   "metadata": {},
   "outputs": [
    {
     "name": "stdout",
     "output_type": "stream",
     "text": [
      "Path to dataset files: /home/gabriel/.cache/kagglehub/datasets/olistbr/brazilian-ecommerce/versions/2\n"
     ]
    }
   ],
   "source": [
    "path = kagglehub.dataset_download(\"olistbr/brazilian-ecommerce\")\n",
    "\n",
    "print(\"Path to dataset files:\", path)"
   ]
  },
  {
   "cell_type": "markdown",
   "id": "3aca503d",
   "metadata": {},
   "source": [
    "# Movendo os arquivos para camada bronze"
   ]
  },
  {
   "cell_type": "code",
   "execution_count": 5,
   "id": "add223f7",
   "metadata": {},
   "outputs": [],
   "source": [
    "src_path = os.path.expanduser('~/Documents/PySpark-Projects/Sales-project/data/{stage}')\n",
    "Path(src_path.format(stage='bronze')).mkdir(parents=True, exist_ok=True)"
   ]
  },
  {
   "cell_type": "code",
   "execution_count": 6,
   "id": "0f30a598",
   "metadata": {},
   "outputs": [],
   "source": [
    "for i in os.listdir(path):\n",
    "    if i.endswith('.csv'):\n",
    "        inicio = os.path.join(path, i)\n",
    "        destino = os.path.join(src_path.format(stage='bronze'), i)\n",
    "\n",
    "        # deletando o arquivo antigo caso exista\n",
    "        for file in src_path.format(stage='bronze'):\n",
    "            if i == file:\n",
    "                os.remove(destino)\n",
    "            \n",
    "        # movendo arquivo recente para consumo\n",
    "        shutil.move(inicio, destino)\n",
    "\n",
    "        print(f'Arquivo - {i} - movido com sucesso!')\n",
    "\n",
    "        # removendo o arquivo na origem\n",
    "        shutil.remove(inicio)"
   ]
  },
  {
   "cell_type": "code",
   "execution_count": null,
   "id": "1f99ac96",
   "metadata": {},
   "outputs": [],
   "source": []
  }
 ],
 "metadata": {
  "kernelspec": {
   "display_name": ".venv",
   "language": "python",
   "name": "python3"
  },
  "language_info": {
   "codemirror_mode": {
    "name": "ipython",
    "version": 3
   },
   "file_extension": ".py",
   "mimetype": "text/x-python",
   "name": "python",
   "nbconvert_exporter": "python",
   "pygments_lexer": "ipython3",
   "version": "3.10.12"
  }
 },
 "nbformat": 4,
 "nbformat_minor": 5
}
