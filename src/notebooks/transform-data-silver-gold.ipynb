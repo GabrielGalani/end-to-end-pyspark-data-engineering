{
 "cells": [
  {
   "cell_type": "markdown",
   "id": "94203d11",
   "metadata": {},
   "source": [
    "# Importações"
   ]
  },
  {
   "cell_type": "code",
   "execution_count": 42,
   "id": "e2b3ea6a",
   "metadata": {},
   "outputs": [],
   "source": [
    "from pyspark.sql import SparkSession, Row\n",
    "from pyspark.sql.functions import col, sum, first, concat_ws, unix_timestamp, round, expr, format_string\n",
    "from pathlib import Path\n",
    "from delta import configure_spark_with_delta_pip\n",
    "import os, shutil"
   ]
  },
  {
   "cell_type": "markdown",
   "id": "4a70a268",
   "metadata": {},
   "source": [
    "Criando a sessão spark"
   ]
  },
  {
   "cell_type": "code",
   "execution_count": 2,
   "id": "0c7289ea",
   "metadata": {},
   "outputs": [
    {
     "name": "stderr",
     "output_type": "stream",
     "text": [
      "25/05/21 16:24:23 WARN Utils: Your hostname, gabriel-virtual-machine resolves to a loopback address: 127.0.1.1; using 192.168.16.128 instead (on interface ens33)\n",
      "25/05/21 16:24:23 WARN Utils: Set SPARK_LOCAL_IP if you need to bind to another address\n"
     ]
    },
    {
     "name": "stdout",
     "output_type": "stream",
     "text": [
      ":: loading settings :: url = jar:file:/home/gabriel/Documents/PySpark-Projects/Sales-project/.venv/lib/python3.10/site-packages/pyspark/jars/ivy-2.5.1.jar!/org/apache/ivy/core/settings/ivysettings.xml\n"
     ]
    },
    {
     "name": "stderr",
     "output_type": "stream",
     "text": [
      "Ivy Default Cache set to: /home/gabriel/.ivy2/cache\n",
      "The jars for the packages stored in: /home/gabriel/.ivy2/jars\n",
      "io.delta#delta-spark_2.12 added as a dependency\n",
      ":: resolving dependencies :: org.apache.spark#spark-submit-parent-871ce7ef-ddf8-41d7-b00f-b252345b5c90;1.0\n",
      "\tconfs: [default]\n",
      "\tfound io.delta#delta-spark_2.12;3.3.1 in central\n",
      "\tfound io.delta#delta-storage;3.3.1 in central\n",
      "\tfound org.antlr#antlr4-runtime;4.9.3 in central\n",
      ":: resolution report :: resolve 2693ms :: artifacts dl 101ms\n",
      "\t:: modules in use:\n",
      "\tio.delta#delta-spark_2.12;3.3.1 from central in [default]\n",
      "\tio.delta#delta-storage;3.3.1 from central in [default]\n",
      "\torg.antlr#antlr4-runtime;4.9.3 from central in [default]\n",
      "\t---------------------------------------------------------------------\n",
      "\t|                  |            modules            ||   artifacts   |\n",
      "\t|       conf       | number| search|dwnlded|evicted|| number|dwnlded|\n",
      "\t---------------------------------------------------------------------\n",
      "\t|      default     |   3   |   0   |   0   |   0   ||   3   |   0   |\n",
      "\t---------------------------------------------------------------------\n",
      ":: retrieving :: org.apache.spark#spark-submit-parent-871ce7ef-ddf8-41d7-b00f-b252345b5c90\n",
      "\tconfs: [default]\n",
      "\t0 artifacts copied, 3 already retrieved (0kB/81ms)\n",
      "25/05/21 16:24:36 WARN NativeCodeLoader: Unable to load native-hadoop library for your platform... using builtin-java classes where applicable\n",
      "Setting default log level to \"WARN\".\n",
      "To adjust logging level use sc.setLogLevel(newLevel). For SparkR, use setLogLevel(newLevel).\n",
      "25/05/21 16:24:55 WARN SparkSession: Cannot use delta.sql.DeltaSparkSessionExtensions to configure session extensions.\n",
      "java.lang.ClassNotFoundException: delta.sql.DeltaSparkSessionExtensions\n",
      "\tat java.base/java.net.URLClassLoader.findClass(URLClassLoader.java:476)\n",
      "\tat java.base/java.lang.ClassLoader.loadClass(ClassLoader.java:594)\n",
      "\tat java.base/java.lang.ClassLoader.loadClass(ClassLoader.java:527)\n",
      "\tat java.base/java.lang.Class.forName0(Native Method)\n",
      "\tat java.base/java.lang.Class.forName(Class.java:398)\n",
      "\tat org.apache.spark.util.SparkClassUtils.classForName(SparkClassUtils.scala:41)\n",
      "\tat org.apache.spark.util.SparkClassUtils.classForName$(SparkClassUtils.scala:36)\n",
      "\tat org.apache.spark.util.Utils$.classForName(Utils.scala:94)\n",
      "\tat org.apache.spark.sql.SparkSession$.$anonfun$applyExtensions$2(SparkSession.scala:1367)\n",
      "\tat org.apache.spark.sql.SparkSession$.$anonfun$applyExtensions$2$adapted(SparkSession.scala:1365)\n",
      "\tat scala.collection.mutable.ResizableArray.foreach(ResizableArray.scala:62)\n",
      "\tat scala.collection.mutable.ResizableArray.foreach$(ResizableArray.scala:55)\n",
      "\tat scala.collection.mutable.ArrayBuffer.foreach(ArrayBuffer.scala:49)\n",
      "\tat org.apache.spark.sql.SparkSession$.org$apache$spark$sql$SparkSession$$applyExtensions(SparkSession.scala:1365)\n",
      "\tat org.apache.spark.sql.SparkSession.<init>(SparkSession.scala:105)\n",
      "\tat java.base/jdk.internal.reflect.NativeConstructorAccessorImpl.newInstance0(Native Method)\n",
      "\tat java.base/jdk.internal.reflect.NativeConstructorAccessorImpl.newInstance(NativeConstructorAccessorImpl.java:62)\n",
      "\tat java.base/jdk.internal.reflect.DelegatingConstructorAccessorImpl.newInstance(DelegatingConstructorAccessorImpl.java:45)\n",
      "\tat java.base/java.lang.reflect.Constructor.newInstance(Constructor.java:490)\n",
      "\tat py4j.reflection.MethodInvoker.invoke(MethodInvoker.java:247)\n",
      "\tat py4j.reflection.ReflectionEngine.invoke(ReflectionEngine.java:374)\n",
      "\tat py4j.Gateway.invoke(Gateway.java:238)\n",
      "\tat py4j.commands.ConstructorCommand.invokeConstructor(ConstructorCommand.java:80)\n",
      "\tat py4j.commands.ConstructorCommand.execute(ConstructorCommand.java:69)\n",
      "\tat py4j.ClientServerConnection.waitForCommands(ClientServerConnection.java:182)\n",
      "\tat py4j.ClientServerConnection.run(ClientServerConnection.java:106)\n",
      "\tat java.base/java.lang.Thread.run(Thread.java:829)\n"
     ]
    }
   ],
   "source": [
    "builder = SparkSession.builder \\\n",
    "    .appName(\"transform-silver\") \\\n",
    "    .config(\"spark.sql.extensions\", \"delta.sql.DeltaSparkSessionExtensions\") \\\n",
    "    .config(\"spark.sql.catalog.spark_catalog\", \"org.apache.spark.sql.delta.catalog.DeltaCatalog\") \\\n",
    "        \n",
    "spark = configure_spark_with_delta_pip(builder).getOrCreate()"
   ]
  },
  {
   "cell_type": "code",
   "execution_count": 3,
   "id": "e81c5c80",
   "metadata": {},
   "outputs": [
    {
     "name": "stdout",
     "output_type": "stream",
     "text": [
      "<pyspark.sql.session.SparkSession object at 0x7062e1941120>\n"
     ]
    }
   ],
   "source": [
    "print(spark)"
   ]
  },
  {
   "cell_type": "code",
   "execution_count": 4,
   "id": "0e5c6faa",
   "metadata": {},
   "outputs": [
    {
     "name": "stdout",
     "output_type": "stream",
     "text": [
      "3.5.5\n"
     ]
    }
   ],
   "source": [
    "print(spark.version)"
   ]
  },
  {
   "cell_type": "markdown",
   "id": "a908991e",
   "metadata": {},
   "source": [
    "# Variantes"
   ]
  },
  {
   "cell_type": "code",
   "execution_count": 5,
   "id": "fa6d35d1",
   "metadata": {},
   "outputs": [],
   "source": [
    "src_path = os.path.expanduser(\"~/Documents/PySpark-Projects/Sales-project/data/{stage}/{file_name}\")"
   ]
  },
  {
   "cell_type": "markdown",
   "id": "61590fc8",
   "metadata": {},
   "source": [
    "# Transformação tabela FATO"
   ]
  },
  {
   "cell_type": "markdown",
   "id": "a5042ea1",
   "metadata": {},
   "source": [
    "A tabela fato não existe como gostariamos, com isso, vamos estruturar a tabela fato com as informações que temos."
   ]
  },
  {
   "cell_type": "markdown",
   "id": "a29eb7ee",
   "metadata": {},
   "source": [
    "## Lendo arquivo Olist Orders"
   ]
  },
  {
   "cell_type": "code",
   "execution_count": 6,
   "id": "efe40e4a",
   "metadata": {},
   "outputs": [
    {
     "name": "stderr",
     "output_type": "stream",
     "text": [
      "25/05/21 16:25:31 WARN SparkStringUtils: Truncated the string representation of a plan since it was too large. This behavior can be adjusted by setting 'spark.sql.debug.maxToStringFields'.\n",
      "[Stage 8:>                                                          (0 + 1) / 1]\r"
     ]
    },
    {
     "name": "stdout",
     "output_type": "stream",
     "text": [
      "+--------------------------------+--------------------------------+------------+------------------------+-------------------+----------------------------+-----------------------------+-----------------------------+\n",
      "|order_id                        |customer_id                     |order_status|order_purchase_timestamp|order_approved_at  |order_delivered_carrier_date|order_delivered_customer_date|order_estimated_delivery_date|\n",
      "+--------------------------------+--------------------------------+------------+------------------------+-------------------+----------------------------+-----------------------------+-----------------------------+\n",
      "|e481f51cbdc54678b7cc49136f2d6af7|9ef432eb6251297304e76186b10a928d|delivered   |2017-10-02 10:56:33     |2017-10-02 11:07:15|2017-10-04 19:55:00         |2017-10-10 21:25:13          |2017-10-18 00:00:00          |\n",
      "|53cdb2fc8bc7dce0b6741e2150273451|b0830fb4747a6c6d20dea0b8c802d7ef|delivered   |2018-07-24 20:41:37     |2018-07-26 03:24:27|2018-07-26 14:31:00         |2018-08-07 15:27:45          |2018-08-13 00:00:00          |\n",
      "|47770eb9100c2d0c44946d9cf07ec65d|41ce2a54c0b03bf3443c3d931a367089|delivered   |2018-08-08 08:38:49     |2018-08-08 08:55:23|2018-08-08 13:50:00         |2018-08-17 18:06:29          |2018-09-04 00:00:00          |\n",
      "|949d5b44dbf5de918fe9c16f97b45f8a|f88197465ea7920adcdbec7375364d82|delivered   |2017-11-18 19:28:06     |2017-11-18 19:45:59|2017-11-22 13:39:59         |2017-12-02 00:28:42          |2017-12-15 00:00:00          |\n",
      "|ad21c59c0840e6cb83a9ceb5573f8159|8ab97904e6daea8866dbdbc4fb7aad2c|delivered   |2018-02-13 21:18:39     |2018-02-13 22:20:29|2018-02-14 19:46:34         |2018-02-16 18:17:02          |2018-02-26 00:00:00          |\n",
      "+--------------------------------+--------------------------------+------------+------------------------+-------------------+----------------------------+-----------------------------+-----------------------------+\n",
      "only showing top 5 rows\n",
      "\n"
     ]
    },
    {
     "name": "stderr",
     "output_type": "stream",
     "text": [
      "                                                                                \r"
     ]
    }
   ],
   "source": [
    "dataset = spark.read.format('delta').load(src_path.format(stage='silver', file_name='olit_orders'))\n",
    "dataset.show(5, False)"
   ]
  },
  {
   "cell_type": "markdown",
   "id": "25494d17",
   "metadata": {},
   "source": [
    "Essta tabela é a base da tabela fato. Vamos agora agregar as informações"
   ]
  },
  {
   "cell_type": "markdown",
   "id": "2fef1ce9",
   "metadata": {},
   "source": [
    "## Lendo arquivo Order Payment"
   ]
  },
  {
   "cell_type": "code",
   "execution_count": 7,
   "id": "d973252f",
   "metadata": {},
   "outputs": [
    {
     "name": "stderr",
     "output_type": "stream",
     "text": [
      "                                                                                \r"
     ]
    },
    {
     "name": "stdout",
     "output_type": "stream",
     "text": [
      "+--------------------------------+------------------+------------+--------------------+-------------+\n",
      "|order_id                        |payment_sequential|payment_type|payment_installments|payment_value|\n",
      "+--------------------------------+------------------+------------+--------------------+-------------+\n",
      "|b81ef226f3fe1789b1e8b2acac839d17|1                 |credit_card |8                   |99.33        |\n",
      "|a9810da82917af2d9aefd1278f1dcfa0|1                 |credit_card |1                   |24.39        |\n",
      "|25e8ea4e93396b6fa0d3dd708e76c1bd|1                 |credit_card |1                   |65.71        |\n",
      "|ba78997921bbcdc1373bb41e913ab953|1                 |credit_card |8                   |107.78       |\n",
      "|42fdf880ba16b47b59251dd489d4441a|1                 |credit_card |2                   |128.45       |\n",
      "+--------------------------------+------------------+------------+--------------------+-------------+\n",
      "only showing top 5 rows\n",
      "\n"
     ]
    }
   ],
   "source": [
    "dataset_payment = spark.read.format('delta').load(src_path.format(stage='silver', file_name='olit_order_payment'))\n",
    "dataset_payment.show(5, False)"
   ]
  },
  {
   "cell_type": "markdown",
   "id": "78f22d69",
   "metadata": {},
   "source": [
    "Agora vamos juntar esse dataset com o dataset fato e manter as colunas que são relevantes para nós"
   ]
  },
  {
   "cell_type": "code",
   "execution_count": 8,
   "id": "f52e5cff",
   "metadata": {},
   "outputs": [
    {
     "name": "stderr",
     "output_type": "stream",
     "text": [
      "                                                                                \r"
     ]
    },
    {
     "name": "stdout",
     "output_type": "stream",
     "text": [
      "+--------------------------------+------------------+------------+--------------------+-------------+--------------------------------+------------+------------------------+-------------------+----------------------------+-----------------------------+-----------------------------+\n",
      "|order_id                        |payment_sequential|payment_type|payment_installments|payment_value|customer_id                     |order_status|order_purchase_timestamp|order_approved_at  |order_delivered_carrier_date|order_delivered_customer_date|order_estimated_delivery_date|\n",
      "+--------------------------------+------------------+------------+--------------------+-------------+--------------------------------+------------+------------------------+-------------------+----------------------------+-----------------------------+-----------------------------+\n",
      "|e481f51cbdc54678b7cc49136f2d6af7|2                 |voucher     |1                   |18.59        |9ef432eb6251297304e76186b10a928d|delivered   |2017-10-02 10:56:33     |2017-10-02 11:07:15|2017-10-04 19:55:00         |2017-10-10 21:25:13          |2017-10-18 00:00:00          |\n",
      "|e481f51cbdc54678b7cc49136f2d6af7|3                 |voucher     |1                   |2.0          |9ef432eb6251297304e76186b10a928d|delivered   |2017-10-02 10:56:33     |2017-10-02 11:07:15|2017-10-04 19:55:00         |2017-10-10 21:25:13          |2017-10-18 00:00:00          |\n",
      "|e481f51cbdc54678b7cc49136f2d6af7|1                 |credit_card |1                   |18.12        |9ef432eb6251297304e76186b10a928d|delivered   |2017-10-02 10:56:33     |2017-10-02 11:07:15|2017-10-04 19:55:00         |2017-10-10 21:25:13          |2017-10-18 00:00:00          |\n",
      "|53cdb2fc8bc7dce0b6741e2150273451|1                 |boleto      |1                   |141.46       |b0830fb4747a6c6d20dea0b8c802d7ef|delivered   |2018-07-24 20:41:37     |2018-07-26 03:24:27|2018-07-26 14:31:00         |2018-08-07 15:27:45          |2018-08-13 00:00:00          |\n",
      "|47770eb9100c2d0c44946d9cf07ec65d|1                 |credit_card |3                   |179.12       |41ce2a54c0b03bf3443c3d931a367089|delivered   |2018-08-08 08:38:49     |2018-08-08 08:55:23|2018-08-08 13:50:00         |2018-08-17 18:06:29          |2018-09-04 00:00:00          |\n",
      "+--------------------------------+------------------+------------+--------------------+-------------+--------------------------------+------------+------------------------+-------------------+----------------------------+-----------------------------+-----------------------------+\n",
      "only showing top 5 rows\n",
      "\n"
     ]
    }
   ],
   "source": [
    "dataset = dataset_payment.join(dataset, on=\"order_id\", how=\"inner\")\n",
    "dataset.show(5, False)"
   ]
  },
  {
   "cell_type": "code",
   "execution_count": 9,
   "id": "58d3f6f0",
   "metadata": {},
   "outputs": [
    {
     "name": "stderr",
     "output_type": "stream",
     "text": [
      "                                                                                \r"
     ]
    },
    {
     "name": "stdout",
     "output_type": "stream",
     "text": [
      "+--------------------------------+--------------------------------+------------+------------+------------------------+-------------------+----------------------------+-----------------------------+-----------------------------+--------------------+------------------+-------------+\n",
      "|order_id                        |customer_id                     |payment_type|order_status|order_purchase_timestamp|order_approved_at  |order_delivered_carrier_date|order_delivered_customer_date|order_estimated_delivery_date|payment_installments|payment_sequential|payment_value|\n",
      "+--------------------------------+--------------------------------+------------+------------+------------------------+-------------------+----------------------------+-----------------------------+-----------------------------+--------------------+------------------+-------------+\n",
      "|e481f51cbdc54678b7cc49136f2d6af7|9ef432eb6251297304e76186b10a928d|voucher     |delivered   |2017-10-02 10:56:33     |2017-10-02 11:07:15|2017-10-04 19:55:00         |2017-10-10 21:25:13          |2017-10-18 00:00:00          |1                   |2                 |18.59        |\n",
      "|e481f51cbdc54678b7cc49136f2d6af7|9ef432eb6251297304e76186b10a928d|voucher     |delivered   |2017-10-02 10:56:33     |2017-10-02 11:07:15|2017-10-04 19:55:00         |2017-10-10 21:25:13          |2017-10-18 00:00:00          |1                   |3                 |2.0          |\n",
      "|e481f51cbdc54678b7cc49136f2d6af7|9ef432eb6251297304e76186b10a928d|credit_card |delivered   |2017-10-02 10:56:33     |2017-10-02 11:07:15|2017-10-04 19:55:00         |2017-10-10 21:25:13          |2017-10-18 00:00:00          |1                   |1                 |18.12        |\n",
      "|53cdb2fc8bc7dce0b6741e2150273451|b0830fb4747a6c6d20dea0b8c802d7ef|boleto      |delivered   |2018-07-24 20:41:37     |2018-07-26 03:24:27|2018-07-26 14:31:00         |2018-08-07 15:27:45          |2018-08-13 00:00:00          |1                   |1                 |141.46       |\n",
      "|47770eb9100c2d0c44946d9cf07ec65d|41ce2a54c0b03bf3443c3d931a367089|credit_card |delivered   |2018-08-08 08:38:49     |2018-08-08 08:55:23|2018-08-08 13:50:00         |2018-08-17 18:06:29          |2018-09-04 00:00:00          |3                   |1                 |179.12       |\n",
      "+--------------------------------+--------------------------------+------------+------------+------------------------+-------------------+----------------------------+-----------------------------+-----------------------------+--------------------+------------------+-------------+\n",
      "only showing top 5 rows\n",
      "\n"
     ]
    }
   ],
   "source": [
    "dataset = dataset.select(\n",
    "    col(\"order_id\"),\n",
    "    col(\"customer_id\"),\n",
    "    col(\"payment_type\"),\n",
    "    col(\"order_status\"),\n",
    "    col(\"order_purchase_timestamp\"),\n",
    "    col(\"order_approved_at\"),\n",
    "    col(\"order_delivered_carrier_date\"),\n",
    "    col(\"order_delivered_customer_date\"),\n",
    "    col(\"order_estimated_delivery_date\"),\n",
    "    col(\"payment_installments\"),\n",
    "    col(\"payment_sequential\"),\n",
    "    col(\"payment_value\")\n",
    ")\n",
    "\n",
    "dataset.show(5, False)"
   ]
  },
  {
   "cell_type": "markdown",
   "id": "f7b9fdf1",
   "metadata": {},
   "source": [
    "Vamos agora separar Fato x Dimensão de pagamento"
   ]
  },
  {
   "cell_type": "markdown",
   "id": "ff344858",
   "metadata": {},
   "source": [
    "Vamos começar com a dimensão de pagamento. A chave única, será a order_id + payment_sequential"
   ]
  },
  {
   "cell_type": "code",
   "execution_count": 10,
   "id": "84509122",
   "metadata": {},
   "outputs": [
    {
     "name": "stderr",
     "output_type": "stream",
     "text": [
      "                                                                                \r"
     ]
    },
    {
     "name": "stdout",
     "output_type": "stream",
     "text": [
      "+----------------------------------+--------------------------------+------------+--------------------+------------------+-------------+\n",
      "|id_payment                        |order_id                        |payment_type|payment_installments|payment_sequential|payment_value|\n",
      "+----------------------------------+--------------------------------+------------+--------------------+------------------+-------------+\n",
      "|e481f51cbdc54678b7cc49136f2d6af7_1|e481f51cbdc54678b7cc49136f2d6af7|credit_card |1                   |1                 |18.12        |\n",
      "|e481f51cbdc54678b7cc49136f2d6af7_3|e481f51cbdc54678b7cc49136f2d6af7|voucher     |1                   |3                 |2.0          |\n",
      "|e481f51cbdc54678b7cc49136f2d6af7_2|e481f51cbdc54678b7cc49136f2d6af7|voucher     |1                   |2                 |18.59        |\n",
      "+----------------------------------+--------------------------------+------------+--------------------+------------------+-------------+\n",
      "\n"
     ]
    }
   ],
   "source": [
    "dataset_payment = dataset_payment.withColumn('id_payment', concat_ws('_', col('order_id'), col('payment_sequential')))\n",
    "dataset_payment = dataset_payment.select(\n",
    "    col('id_payment'),\n",
    "    col('order_id'),\n",
    "    col('payment_type'),\n",
    "    col('payment_installments'),\n",
    "    col('payment_sequential'),\n",
    "    col('payment_value')\n",
    ")\n",
    "dataset_payment.filter(col('order_id')=='e481f51cbdc54678b7cc49136f2d6af7').show(5, False)"
   ]
  },
  {
   "cell_type": "markdown",
   "id": "0e2c528f",
   "metadata": {},
   "source": [
    "vamos agora salvar nossa dimensão de pagamento"
   ]
  },
  {
   "cell_type": "code",
   "execution_count": 11,
   "id": "5979e8cd",
   "metadata": {},
   "outputs": [
    {
     "name": "stderr",
     "output_type": "stream",
     "text": [
      "                                                                                \r"
     ]
    }
   ],
   "source": [
    "Path(src_path.format(stage='gold', file_name='olit_payment_type')).mkdir(parents=True, exist_ok=True)\n",
    "dataset_payment.write.mode('overwrite')\\\n",
    "    .format('delta')\\\n",
    "        .option(\"overwriteSchema\", \"true\") \\\n",
    "        .option('compression', 'snappy')\\\n",
    "            .save(src_path.format(stage='gold', file_name='olit_payment_type'))"
   ]
  },
  {
   "cell_type": "markdown",
   "id": "97a9d69e",
   "metadata": {},
   "source": [
    "Agora vamos deixar a fato separada"
   ]
  },
  {
   "cell_type": "code",
   "execution_count": 12,
   "id": "135a7756",
   "metadata": {},
   "outputs": [
    {
     "name": "stderr",
     "output_type": "stream",
     "text": [
      "                                                                                \r"
     ]
    },
    {
     "name": "stdout",
     "output_type": "stream",
     "text": [
      "+--------------------------------+--------------------------------+------------+------------+------------------------+-------------------+----------------------------+-----------------------------+-----------------------------+--------------------+------------------+-------------+----------------------------------+\n",
      "|order_id                        |customer_id                     |payment_type|order_status|order_purchase_timestamp|order_approved_at  |order_delivered_carrier_date|order_delivered_customer_date|order_estimated_delivery_date|payment_installments|payment_sequential|payment_value|payment_id                        |\n",
      "+--------------------------------+--------------------------------+------------+------------+------------------------+-------------------+----------------------------+-----------------------------+-----------------------------+--------------------+------------------+-------------+----------------------------------+\n",
      "|e481f51cbdc54678b7cc49136f2d6af7|9ef432eb6251297304e76186b10a928d|voucher     |delivered   |2017-10-02 10:56:33     |2017-10-02 11:07:15|2017-10-04 19:55:00         |2017-10-10 21:25:13          |2017-10-18 00:00:00          |1                   |2                 |18.59        |e481f51cbdc54678b7cc49136f2d6af7_2|\n",
      "|e481f51cbdc54678b7cc49136f2d6af7|9ef432eb6251297304e76186b10a928d|voucher     |delivered   |2017-10-02 10:56:33     |2017-10-02 11:07:15|2017-10-04 19:55:00         |2017-10-10 21:25:13          |2017-10-18 00:00:00          |1                   |3                 |2.0          |e481f51cbdc54678b7cc49136f2d6af7_3|\n",
      "|e481f51cbdc54678b7cc49136f2d6af7|9ef432eb6251297304e76186b10a928d|credit_card |delivered   |2017-10-02 10:56:33     |2017-10-02 11:07:15|2017-10-04 19:55:00         |2017-10-10 21:25:13          |2017-10-18 00:00:00          |1                   |1                 |18.12        |e481f51cbdc54678b7cc49136f2d6af7_1|\n",
      "+--------------------------------+--------------------------------+------------+------------+------------------------+-------------------+----------------------------+-----------------------------+-----------------------------+--------------------+------------------+-------------+----------------------------------+\n",
      "\n"
     ]
    }
   ],
   "source": [
    "dataset = dataset.withColumn('payment_id', concat_ws('_', col('order_id'), col('payment_sequential')))\n",
    "dataset.filter(col('order_id')=='e481f51cbdc54678b7cc49136f2d6af7').show(5, False)"
   ]
  },
  {
   "cell_type": "markdown",
   "id": "e04b5699",
   "metadata": {},
   "source": [
    "agora temos a fato com dados unicos em nossa coluna chave"
   ]
  },
  {
   "cell_type": "markdown",
   "id": "a91b0228",
   "metadata": {},
   "source": [
    "## Dimensão de Review"
   ]
  },
  {
   "cell_type": "code",
   "execution_count": 13,
   "id": "e296421d",
   "metadata": {},
   "outputs": [
    {
     "name": "stderr",
     "output_type": "stream",
     "text": [
      "                                                                                \r"
     ]
    },
    {
     "name": "stdout",
     "output_type": "stream",
     "text": [
      "+--------------------------------+--------------------------------+------------+--------------------+--------------------------------------------------------------------------------------------------------------------------------------------------------------------------+--------------------+-----------------------+\n",
      "|order_id                        |review_id                       |review_score|review_comment_title|review_comment_message                                                                                                                                                    |review_creation_date|review_answer_timestamp|\n",
      "+--------------------------------+--------------------------------+------------+--------------------+--------------------------------------------------------------------------------------------------------------------------------------------------------------------------+--------------------+-----------------------+\n",
      "|e481f51cbdc54678b7cc49136f2d6af7|a54f0611adc9ed256b57ede6b6eb5114|4           |NULL                |Não testei o produto ainda, mas ele veio correto e em boas condições. Apenas a caixa que veio bem amassada e danificada, o que ficará chato, pois se trata de um presente.|2017-10-11          |2017-10-12             |\n",
      "+--------------------------------+--------------------------------+------------+--------------------+--------------------------------------------------------------------------------------------------------------------------------------------------------------------------+--------------------+-----------------------+\n",
      "\n"
     ]
    }
   ],
   "source": [
    "dataset_review=spark.read.format('delta').load(src_path.format(stage='silver', file_name='olit_order_reviews'))\n",
    "dataset_review.filter(col('order_id')=='e481f51cbdc54678b7cc49136f2d6af7').show(5, False)"
   ]
  },
  {
   "cell_type": "markdown",
   "id": "7cb59ffc",
   "metadata": {},
   "source": [
    "Vamos verificar como deve ser a chave dessa coluna"
   ]
  },
  {
   "cell_type": "code",
   "execution_count": 14,
   "id": "e8acabce",
   "metadata": {},
   "outputs": [
    {
     "name": "stderr",
     "output_type": "stream",
     "text": [
      "                                                                                \r"
     ]
    },
    {
     "name": "stdout",
     "output_type": "stream",
     "text": [
      "+--------+---------+-----+\n",
      "|order_id|review_id|count|\n",
      "+--------+---------+-----+\n",
      "+--------+---------+-----+\n",
      "\n"
     ]
    }
   ],
   "source": [
    "dataset_review.groupBy(\n",
    "    col('order_id'),\n",
    "    col('review_id')\n",
    ").count().filter(col('count')>1).show(truncate=False)"
   ]
  },
  {
   "cell_type": "markdown",
   "id": "82376a10",
   "metadata": {},
   "source": [
    "O identificador único deve ser criado baseado na order_id + review_id"
   ]
  },
  {
   "cell_type": "markdown",
   "id": "6e5f0c50",
   "metadata": {},
   "source": [
    "Para isso vamos criar a Pk concatenando a order_id + review_id e deixar para o autoincremento carregar a dimensão"
   ]
  },
  {
   "cell_type": "code",
   "execution_count": 15,
   "id": "cef34f82",
   "metadata": {},
   "outputs": [
    {
     "name": "stderr",
     "output_type": "stream",
     "text": [
      "[Stage 75:=======================================>                (35 + 2) / 50]\r"
     ]
    },
    {
     "name": "stdout",
     "output_type": "stream",
     "text": [
      "+--------------------------------+--------------------------------+------------+------------------------+----------------------------------------------------------------------------------------------------------------------------------------------------------+--------------------+-----------------------+\n",
      "|order_id                        |review_id                       |review_score|review_comment_title    |review_comment_message                                                                                                                                    |review_creation_date|review_answer_timestamp|\n",
      "+--------------------------------+--------------------------------+------------+------------------------+----------------------------------------------------------------------------------------------------------------------------------------------------------+--------------------+-----------------------+\n",
      "|729c445f5f350f88d5c9a3911d6e9bc0|8f9aa50ee40780ba3f79614530a34ebe|5           |Muito bom               |Creme maravilhoso e entrega super rápida                                                                                                                  |2018-05-10          |2018-05-10             |\n",
      "|4b6e439f8ebc7348898173190aec97e0|dd4bf233838e89a87e45fad7a6180fbe|2           |recomendo               |loja cumpriu o prazo porem o produto é muito pequeno                                                                                                      |2018-07-07          |2018-07-10             |\n",
      "|e497f72041dc38eaa6794c1c143e8005|b1fe0958525057d8ed78fa7c7f9149bc|5           |super recomendo         |que esta agilidade e qualidade de serviço seja ininterrupta.                                                                                              |2018-06-22          |2018-06-28             |\n",
      "|fb7f4f9f554fcd3ae98197ab5e81bb53|a0cc3e98765cbbffc843dd862d687594|5           |Eficiência.             |Muito boa a loja, entregou muito antes do prazo.                                                                                                          |2018-07-27          |2018-07-27             |\n",
      "|772c351a74ac46cb09d3733ed52c8058|385eb8c971979c041e4a81a4cee8e1b2|3           |Comprei dois e recebi um|Posso dizer que é a segunda vez que compro pelo stark primeira vez entregaram antes do prazo e tudo certo agora comprei duas luminárias entregaram uma só.|2018-06-21          |2018-06-21             |\n",
      "+--------------------------------+--------------------------------+------------+------------------------+----------------------------------------------------------------------------------------------------------------------------------------------------------+--------------------+-----------------------+\n",
      "only showing top 5 rows\n",
      "\n"
     ]
    },
    {
     "name": "stderr",
     "output_type": "stream",
     "text": [
      "                                                                                \r"
     ]
    }
   ],
   "source": [
    "dataset_review.show(5, False)"
   ]
  },
  {
   "cell_type": "markdown",
   "id": "8333a51d",
   "metadata": {},
   "source": [
    "Agora vamos salvar a dimensão de reviews na camada gold"
   ]
  },
  {
   "cell_type": "code",
   "execution_count": 16,
   "id": "655b702e",
   "metadata": {},
   "outputs": [
    {
     "name": "stderr",
     "output_type": "stream",
     "text": [
      "                                                                                \r"
     ]
    }
   ],
   "source": [
    "Path(src_path.format(stage='gold', file_name='olit_order_reviews')).mkdir(parents=True, exist_ok=True)\n",
    "dataset_review.write.mode('overwrite')\\\n",
    "    .format('delta')\\\n",
    "        .option('compression', 'snappy')\\\n",
    "            .save(src_path.format(stage='gold', file_name='olit_order_reviews'))"
   ]
  },
  {
   "cell_type": "markdown",
   "id": "31e03ac8",
   "metadata": {},
   "source": [
    "# Trabalhando com a dimensão de Ordens Itens"
   ]
  },
  {
   "cell_type": "markdown",
   "id": "182b7fb3",
   "metadata": {},
   "source": []
  },
  {
   "cell_type": "code",
   "execution_count": 17,
   "id": "2e321867",
   "metadata": {},
   "outputs": [
    {
     "name": "stderr",
     "output_type": "stream",
     "text": [
      "                                                                                \r"
     ]
    },
    {
     "name": "stdout",
     "output_type": "stream",
     "text": [
      "+--------------------------------+-------------+--------------------------------+--------------------------------+-------------------+-----+-------------+\n",
      "|order_id                        |order_item_id|product_id                      |seller_id                       |shipping_limit_date|price|freight_value|\n",
      "+--------------------------------+-------------+--------------------------------+--------------------------------+-------------------+-----+-------------+\n",
      "|014405982914c2cde2796ddcf0b8703d|1            |6782d593f63105318f46bbf7633279bf|325f3178fb58e2a9778334621eecdbf9|2017-08-01 17:50:17|27.9 |3.81         |\n",
      "|014405982914c2cde2796ddcf0b8703d|2            |e95ee6822b66ac6058e2e4aff656071a|a17f621c590ea0fab3d5d883e1630ec6|2017-08-01 17:50:17|21.33|25.39        |\n",
      "+--------------------------------+-------------+--------------------------------+--------------------------------+-------------------+-----+-------------+\n",
      "\n"
     ]
    }
   ],
   "source": [
    "df_order_itens = spark.read.format('delta').load(src_path.format(stage='silver', file_name='olit_dm_order_itens'))\n",
    "df_order_itens.filter(col('order_id')=='014405982914c2cde2796ddcf0b8703d').show(5, False)"
   ]
  },
  {
   "cell_type": "markdown",
   "id": "9061fe51",
   "metadata": {},
   "source": [
    "Entendendo a regra do negócio, identificamos que uma venda pode ter mais de 1 produto e a soma de todos os produtos deve ser a somoa total da venda sem o frete. Também entendemos que uma venda pode ter mais de um fornecedor. Com isso vamos validar valor total da venda e valor total do frete para levarmos para fato"
   ]
  },
  {
   "cell_type": "code",
   "execution_count": 18,
   "id": "27f2e986",
   "metadata": {},
   "outputs": [
    {
     "name": "stderr",
     "output_type": "stream",
     "text": [
      "[Stage 102:>                                                        (0 + 2) / 2]\r"
     ]
    },
    {
     "name": "stdout",
     "output_type": "stream",
     "text": [
      "+--------------------------------+-----+\n",
      "|order_id                        |count|\n",
      "+--------------------------------+-----+\n",
      "|014405982914c2cde2796ddcf0b8703d|2    |\n",
      "|05afef1c185862cab9062b322ff25cc5|2    |\n",
      "|078c2d9bb7e5905e870838448db0d3b3|2    |\n",
      "|0baa56401ae212e308d73cba2911ae20|2    |\n",
      "|0cb32545f515420d9f3cba2c55ae3c4f|2    |\n",
      "|116debdd5705aaa51630c3e292565d06|2    |\n",
      "|118045506e1c1dda060171af43fe11b4|5    |\n",
      "|125e0c61fdbfc589f33683322310b7a9|4    |\n",
      "|1c4a92d82c1b0dec18bef12da3fa7756|3    |\n",
      "|2f5e702c70321e3f1aea2611b6e240a2|2    |\n",
      "|354f62589ab0a15eb57e820d6fcbe9b5|2    |\n",
      "|3cbd4333ba67528bd122a8ad17b73821|2    |\n",
      "|3e22c141d2861860889375c6fd7b89b3|2    |\n",
      "|3ee6694bb99d5a6db0deceffcd099597|2    |\n",
      "|414a0b1cbb58b3ae7ce9c39083fcf007|2    |\n",
      "|4609e3dffa747068028fe0a5962b41f2|2    |\n",
      "|46a1ac51daefad9fbb8e65caacd43539|2    |\n",
      "|482a3e5009a4090348fe6f7d637a53a4|2    |\n",
      "|483ff5a41552b4071ff9d8bef07c6ee7|2    |\n",
      "|502d7a6ef832644f5208f0af59e4c5bb|2    |\n",
      "+--------------------------------+-----+\n",
      "only showing top 20 rows\n",
      "\n"
     ]
    },
    {
     "name": "stderr",
     "output_type": "stream",
     "text": [
      "                                                                                \r"
     ]
    }
   ],
   "source": [
    "df_order_itens.groupBy(col('order_id')).count().filter(col('count')>1).show(truncate=False)"
   ]
  },
  {
   "cell_type": "code",
   "execution_count": 19,
   "id": "7fc900fd",
   "metadata": {},
   "outputs": [
    {
     "name": "stderr",
     "output_type": "stream",
     "text": [
      "                                                                                \r"
     ]
    },
    {
     "name": "stdout",
     "output_type": "stream",
     "text": [
      "+--------------------+-------------+--------------------+--------------------+-------------------+-----+-------------+\n",
      "|            order_id|order_item_id|          product_id|           seller_id|shipping_limit_date|price|freight_value|\n",
      "+--------------------+-------------+--------------------+--------------------+-------------------+-----+-------------+\n",
      "|014405982914c2cde...|            1|6782d593f63105318...|325f3178fb58e2a97...|2017-08-01 17:50:17| 27.9|         3.81|\n",
      "|014405982914c2cde...|            2|e95ee6822b66ac605...|a17f621c590ea0fab...|2017-08-01 17:50:17|21.33|        25.39|\n",
      "+--------------------+-------------+--------------------+--------------------+-------------------+-----+-------------+\n",
      "\n"
     ]
    }
   ],
   "source": [
    "df_order_itens.filter(col('order_id')=='014405982914c2cde2796ddcf0b8703d').show()"
   ]
  },
  {
   "cell_type": "code",
   "execution_count": 20,
   "id": "2e1e1fdd",
   "metadata": {},
   "outputs": [
    {
     "name": "stderr",
     "output_type": "stream",
     "text": [
      "                                                                                \r"
     ]
    },
    {
     "name": "stdout",
     "output_type": "stream",
     "text": [
      "+--------------------+--------------------+------------+------------+------------------------+-------------------+----------------------------+-----------------------------+-----------------------------+--------------------+------------------+-------------+--------------------+\n",
      "|            order_id|         customer_id|payment_type|order_status|order_purchase_timestamp|  order_approved_at|order_delivered_carrier_date|order_delivered_customer_date|order_estimated_delivery_date|payment_installments|payment_sequential|payment_value|          payment_id|\n",
      "+--------------------+--------------------+------------+------------+------------------------+-------------------+----------------------------+-----------------------------+-----------------------------+--------------------+------------------+-------------+--------------------+\n",
      "|014405982914c2cde...|2de342d6e5905a5a8...| credit_card|   delivered|     2017-07-26 17:38:47|2017-07-26 17:50:17|         2017-07-27 19:39:52|          2017-07-31 15:53:33|          2017-08-17 00:00:00|                   7|                 1|        78.43|014405982914c2cde...|\n",
      "+--------------------+--------------------+------------+------------+------------------------+-------------------+----------------------------+-----------------------------+-----------------------------+--------------------+------------------+-------------+--------------------+\n",
      "\n"
     ]
    }
   ],
   "source": [
    "dataset.filter(col('order_id')=='014405982914c2cde2796ddcf0b8703d').show()"
   ]
  },
  {
   "cell_type": "markdown",
   "id": "bc93a6e3",
   "metadata": {},
   "source": [
    "vamos unir a fato para trazer as chaves da dimensão de itens"
   ]
  },
  {
   "cell_type": "code",
   "execution_count": 21,
   "id": "9072064f",
   "metadata": {},
   "outputs": [
    {
     "ename": "NameError",
     "evalue": "name 'teste' is not defined",
     "output_type": "error",
     "traceback": [
      "\u001b[0;31m---------------------------------------------------------------------------\u001b[0m",
      "\u001b[0;31mNameError\u001b[0m                                 Traceback (most recent call last)",
      "Cell \u001b[0;32mIn[21], line 2\u001b[0m\n\u001b[1;32m      1\u001b[0m dataset \u001b[38;5;241m=\u001b[39m dataset\u001b[38;5;241m.\u001b[39mjoin(df_order_itens, on\u001b[38;5;241m=\u001b[39m\u001b[38;5;124m\"\u001b[39m\u001b[38;5;124morder_id\u001b[39m\u001b[38;5;124m\"\u001b[39m, how\u001b[38;5;241m=\u001b[39m\u001b[38;5;124m\"\u001b[39m\u001b[38;5;124minner\u001b[39m\u001b[38;5;124m\"\u001b[39m)\n\u001b[0;32m----> 2\u001b[0m dataset \u001b[38;5;241m=\u001b[39m \u001b[43mteste\u001b[49m\u001b[38;5;241m.\u001b[39mselect(\n\u001b[1;32m      3\u001b[0m     col(\u001b[38;5;124m\"\u001b[39m\u001b[38;5;124morder_id\u001b[39m\u001b[38;5;124m\"\u001b[39m),\n\u001b[1;32m      4\u001b[0m     col(\u001b[38;5;124m'\u001b[39m\u001b[38;5;124mpayment_id\u001b[39m\u001b[38;5;124m'\u001b[39m),\n\u001b[1;32m      5\u001b[0m     col(\u001b[38;5;124m\"\u001b[39m\u001b[38;5;124mcustomer_id\u001b[39m\u001b[38;5;124m\"\u001b[39m),\n\u001b[1;32m      6\u001b[0m     col(\u001b[38;5;124m'\u001b[39m\u001b[38;5;124mseller_id\u001b[39m\u001b[38;5;124m'\u001b[39m),\n\u001b[1;32m      7\u001b[0m     col(\u001b[38;5;124m'\u001b[39m\u001b[38;5;124mproduct_id\u001b[39m\u001b[38;5;124m'\u001b[39m),\n\u001b[1;32m      8\u001b[0m     col(\u001b[38;5;124m\"\u001b[39m\u001b[38;5;124mpayment_type\u001b[39m\u001b[38;5;124m\"\u001b[39m),\n\u001b[1;32m      9\u001b[0m     col(\u001b[38;5;124m\"\u001b[39m\u001b[38;5;124morder_status\u001b[39m\u001b[38;5;124m\"\u001b[39m),\n\u001b[1;32m     10\u001b[0m     col(\u001b[38;5;124m\"\u001b[39m\u001b[38;5;124morder_purchase_timestamp\u001b[39m\u001b[38;5;124m\"\u001b[39m),\n\u001b[1;32m     11\u001b[0m     col(\u001b[38;5;124m\"\u001b[39m\u001b[38;5;124morder_approved_at\u001b[39m\u001b[38;5;124m\"\u001b[39m),\n\u001b[1;32m     12\u001b[0m     col(\u001b[38;5;124m\"\u001b[39m\u001b[38;5;124morder_delivered_carrier_date\u001b[39m\u001b[38;5;124m\"\u001b[39m),\n\u001b[1;32m     13\u001b[0m     col(\u001b[38;5;124m\"\u001b[39m\u001b[38;5;124morder_delivered_customer_date\u001b[39m\u001b[38;5;124m\"\u001b[39m),\n\u001b[1;32m     14\u001b[0m     col(\u001b[38;5;124m\"\u001b[39m\u001b[38;5;124morder_estimated_delivery_date\u001b[39m\u001b[38;5;124m\"\u001b[39m),\n\u001b[1;32m     15\u001b[0m     col(\u001b[38;5;124m'\u001b[39m\u001b[38;5;124mshipping_limit_date\u001b[39m\u001b[38;5;124m'\u001b[39m),\n\u001b[1;32m     16\u001b[0m     col(\u001b[38;5;124m\"\u001b[39m\u001b[38;5;124mpayment_installments\u001b[39m\u001b[38;5;124m\"\u001b[39m),\n\u001b[1;32m     17\u001b[0m     col(\u001b[38;5;124m\"\u001b[39m\u001b[38;5;124mpayment_sequential\u001b[39m\u001b[38;5;124m\"\u001b[39m),\n\u001b[1;32m     18\u001b[0m     col(\u001b[38;5;124m\"\u001b[39m\u001b[38;5;124mpayment_value\u001b[39m\u001b[38;5;124m\"\u001b[39m),\n\u001b[1;32m     19\u001b[0m     col(\u001b[38;5;124m'\u001b[39m\u001b[38;5;124mprice\u001b[39m\u001b[38;5;124m'\u001b[39m),\n\u001b[1;32m     20\u001b[0m     col(\u001b[38;5;124m'\u001b[39m\u001b[38;5;124mfreight_value\u001b[39m\u001b[38;5;124m'\u001b[39m)\n\u001b[1;32m     21\u001b[0m )\n\u001b[1;32m     22\u001b[0m dataset\u001b[38;5;241m.\u001b[39mfilter(col(\u001b[38;5;124m'\u001b[39m\u001b[38;5;124morder_id\u001b[39m\u001b[38;5;124m'\u001b[39m)\u001b[38;5;241m==\u001b[39m\u001b[38;5;124m'\u001b[39m\u001b[38;5;124m014405982914c2cde2796ddcf0b8703d\u001b[39m\u001b[38;5;124m'\u001b[39m)\u001b[38;5;241m.\u001b[39mshow(truncate\u001b[38;5;241m=\u001b[39m\u001b[38;5;28;01mFalse\u001b[39;00m)\n",
      "\u001b[0;31mNameError\u001b[0m: name 'teste' is not defined"
     ]
    }
   ],
   "source": [
    "dataset = dataset.join(df_order_itens, on=\"order_id\", how=\"inner\")\n",
    "dataset = teste.select(\n",
    "    col(\"order_id\"),\n",
    "    col('payment_id'),\n",
    "    col(\"customer_id\"),\n",
    "    col('seller_id'),\n",
    "    col('product_id'),\n",
    "    col(\"payment_type\"),\n",
    "    col(\"order_status\"),\n",
    "    col(\"order_purchase_timestamp\"),\n",
    "    col(\"order_approved_at\"),\n",
    "    col(\"order_delivered_carrier_date\"),\n",
    "    col(\"order_delivered_customer_date\"),\n",
    "    col(\"order_estimated_delivery_date\"),\n",
    "    col('shipping_limit_date'),\n",
    "    col(\"payment_installments\"),\n",
    "    col(\"payment_sequential\"),\n",
    "    col(\"payment_value\"),\n",
    "    col('price'),\n",
    "    col('freight_value')\n",
    ")\n",
    "dataset.filter(col('order_id')=='014405982914c2cde2796ddcf0b8703d').show(truncate=False)"
   ]
  },
  {
   "cell_type": "markdown",
   "id": "064df850",
   "metadata": {},
   "source": [
    "Agora nossa fato está com as colunas necessárias e podemos desconsiderar o arquivo de itens como uma dimensão, pois devido a estrutura atual, se adequa mais o seller e o produto serem dimensões separadas"
   ]
  },
  {
   "cell_type": "markdown",
   "id": "1113ff9f",
   "metadata": {},
   "source": [
    "# Dimensão de produtos"
   ]
  },
  {
   "cell_type": "code",
   "execution_count": null,
   "id": "205c3ce4",
   "metadata": {},
   "outputs": [
    {
     "name": "stderr",
     "output_type": "stream",
     "text": [
      "                                                                                \r"
     ]
    },
    {
     "name": "stdout",
     "output_type": "stream",
     "text": [
      "+--------------------------------+---------------------+-------------------+--------------------------+------------------+----------------+-----------------+-----------------+----------------+\n",
      "|product_id                      |product_category_name|product_name_lenght|product_description_lenght|product_photos_qty|product_weight_g|product_length_cm|product_height_cm|product_width_cm|\n",
      "+--------------------------------+---------------------+-------------------+--------------------------+------------------+----------------+-----------------+-----------------+----------------+\n",
      "|e95ee6822b66ac6058e2e4aff656071a|esporte_lazer        |52                 |1153                      |1                 |180             |17               |11               |14              |\n",
      "+--------------------------------+---------------------+-------------------+--------------------------+------------------+----------------+-----------------+-----------------+----------------+\n",
      "\n"
     ]
    }
   ],
   "source": [
    "df_produtos = spark.read.format('delta').load(src_path.format(stage='silver', file_name='olist_products'))\n",
    "df_produtos.filter(col('product_id')=='e95ee6822b66ac6058e2e4aff656071a').show(5, False)"
   ]
  },
  {
   "cell_type": "markdown",
   "id": "906e1a4e",
   "metadata": {},
   "source": [
    "A tabela de produtos está bem estruturada, vamos ver a tipagem das informações"
   ]
  },
  {
   "cell_type": "code",
   "execution_count": null,
   "id": "7ff744e4",
   "metadata": {},
   "outputs": [
    {
     "name": "stdout",
     "output_type": "stream",
     "text": [
      "root\n",
      " |-- product_id: string (nullable = true)\n",
      " |-- product_category_name: string (nullable = true)\n",
      " |-- product_name_lenght: integer (nullable = true)\n",
      " |-- product_description_lenght: integer (nullable = true)\n",
      " |-- product_photos_qty: integer (nullable = true)\n",
      " |-- product_weight_g: integer (nullable = true)\n",
      " |-- product_length_cm: integer (nullable = true)\n",
      " |-- product_height_cm: integer (nullable = true)\n",
      " |-- product_width_cm: integer (nullable = true)\n",
      "\n"
     ]
    }
   ],
   "source": [
    "df_produtos.printSchema()"
   ]
  },
  {
   "cell_type": "markdown",
   "id": "c08edf85",
   "metadata": {},
   "source": [
    "A tipagem está correta, vamos salvar as informações"
   ]
  },
  {
   "cell_type": "code",
   "execution_count": null,
   "id": "1252ff75",
   "metadata": {},
   "outputs": [
    {
     "name": "stderr",
     "output_type": "stream",
     "text": [
      "                                                                                \r"
     ]
    }
   ],
   "source": [
    "Path(src_path.format(stage='gold', file_name='olit_products')).mkdir(parents=True, exist_ok=True)\n",
    "df_produtos.write.mode('overwrite')\\\n",
    "    .format('delta')\\\n",
    "        .option('compression', 'snappy')\\\n",
    "            .save(src_path.format(stage='gold', file_name='olit_products'))"
   ]
  },
  {
   "cell_type": "markdown",
   "id": "2edf9c2c",
   "metadata": {},
   "source": [
    "Dimensão customers"
   ]
  },
  {
   "cell_type": "code",
   "execution_count": null,
   "id": "5e4a7259",
   "metadata": {},
   "outputs": [
    {
     "name": "stderr",
     "output_type": "stream",
     "text": [
      "                                                                                \r"
     ]
    },
    {
     "name": "stdout",
     "output_type": "stream",
     "text": [
      "+--------------------------------+--------------------------------+\n",
      "|customer_id                     |customer_unique_id              |\n",
      "+--------------------------------+--------------------------------+\n",
      "|2de342d6e5905a5a8bb3a991c855f3e2|e8d87ee946600f7753579a074fbd2d5d|\n",
      "+--------------------------------+--------------------------------+\n",
      "\n"
     ]
    }
   ],
   "source": [
    "df_customer = spark.read.format('delta').load(src_path.format(stage='silver', file_name='olit_dm_customers_order'))\n",
    "df_customer.filter(col('customer_id')=='2de342d6e5905a5a8bb3a991c855f3e2').show(5, False)"
   ]
  },
  {
   "cell_type": "code",
   "execution_count": null,
   "id": "06eb3b9b",
   "metadata": {},
   "outputs": [
    {
     "name": "stderr",
     "output_type": "stream",
     "text": [
      "                                                                                \r"
     ]
    }
   ],
   "source": [
    "Path(src_path.format(stage='gold', file_name='olit_dm_customers_order')).mkdir(parents=True, exist_ok=True)\n",
    "df_customer.write.mode('overwrite')\\\n",
    "    .format('delta')\\\n",
    "        .option('compression', 'snappy')\\\n",
    "            .save(src_path.format(stage='gold', file_name='olit_dm_customers_order'))"
   ]
  },
  {
   "cell_type": "code",
   "execution_count": null,
   "id": "0d02a5ba",
   "metadata": {},
   "outputs": [
    {
     "name": "stderr",
     "output_type": "stream",
     "text": [
      "                                                                                \r"
     ]
    },
    {
     "name": "stdout",
     "output_type": "stream",
     "text": [
      "+--------------------------------+------------------------+-------------+--------------+\n",
      "|customer_unique_id              |customer_zip_code_prefix|customer_city|customer_state|\n",
      "+--------------------------------+------------------------+-------------+--------------+\n",
      "|e8d87ee946600f7753579a074fbd2d5d|26551                   |mesquita     |RJ            |\n",
      "+--------------------------------+------------------------+-------------+--------------+\n",
      "\n"
     ]
    }
   ],
   "source": [
    "df_customer_unique = spark.read.format('delta').load(src_path.format(stage='silver', file_name='olit_dm_customers'))\n",
    "df_customer_unique.filter(col('customer_unique_id')=='e8d87ee946600f7753579a074fbd2d5d').show(5, False)"
   ]
  },
  {
   "cell_type": "code",
   "execution_count": null,
   "id": "25d30152",
   "metadata": {},
   "outputs": [
    {
     "name": "stderr",
     "output_type": "stream",
     "text": [
      "                                                                                \r"
     ]
    }
   ],
   "source": [
    "Path(src_path.format(stage='gold', file_name='olit_dm_customers')).mkdir(parents=True, exist_ok=True)\n",
    "df_customer_unique.write.mode('overwrite')\\\n",
    "    .format('delta')\\\n",
    "        .option('compression', 'snappy')\\\n",
    "            .save(src_path.format(stage='gold', file_name='olit_dm_customers'))"
   ]
  },
  {
   "cell_type": "markdown",
   "id": "0266851e",
   "metadata": {},
   "source": [
    "# Dimensão de geolocalização"
   ]
  },
  {
   "cell_type": "code",
   "execution_count": null,
   "id": "74c841ca",
   "metadata": {},
   "outputs": [
    {
     "name": "stderr",
     "output_type": "stream",
     "text": [
      "[Stage 489:=====================================================> (49 + 1) / 50]\r"
     ]
    },
    {
     "name": "stdout",
     "output_type": "stream",
     "text": [
      "+---------------------------+-------------------+-------------------+----------------+-----------------+\n",
      "|geolocation_zip_code_prefix|    geolocation_lat|    geolocation_lng|geolocation_city|geolocation_state|\n",
      "+---------------------------+-------------------+-------------------+----------------+-----------------+\n",
      "|                       1001| -23.54929199999999|-46.633559478233785|       sao paulo|               SP|\n",
      "|                       1002| -23.54831797807146| -46.63542110199666|       sao paulo|               SP|\n",
      "|                       1003| -23.54903244546711| -46.63531311226845|       sao paulo|               SP|\n",
      "|                       1004|-23.550115903139222| -46.63512161420169|       sao paulo|               SP|\n",
      "|                       1005|-23.549819091869107| -46.63560588995324|       sao paulo|               SP|\n",
      "+---------------------------+-------------------+-------------------+----------------+-----------------+\n",
      "only showing top 5 rows\n",
      "\n"
     ]
    },
    {
     "name": "stderr",
     "output_type": "stream",
     "text": [
      "                                                                                \r"
     ]
    }
   ],
   "source": [
    "df_geolocation = spark.read.format('delta').load(src_path.format(stage='silver', file_name='olit_dm_geolocation'))\n",
    "df_geolocation.show(5)"
   ]
  },
  {
   "cell_type": "markdown",
   "id": "930d7a3e",
   "metadata": {},
   "source": [
    "Vamos ver a tipagem dos dados"
   ]
  },
  {
   "cell_type": "code",
   "execution_count": null,
   "id": "97895725",
   "metadata": {},
   "outputs": [
    {
     "name": "stdout",
     "output_type": "stream",
     "text": [
      "root\n",
      " |-- geolocation_zip_code_prefix: integer (nullable = true)\n",
      " |-- geolocation_lat: double (nullable = true)\n",
      " |-- geolocation_lng: double (nullable = true)\n",
      " |-- geolocation_city: string (nullable = true)\n",
      " |-- geolocation_state: string (nullable = true)\n",
      "\n"
     ]
    }
   ],
   "source": [
    "df_geolocation.printSchema()"
   ]
  },
  {
   "cell_type": "code",
   "execution_count": null,
   "id": "a5b97680",
   "metadata": {},
   "outputs": [
    {
     "name": "stderr",
     "output_type": "stream",
     "text": [
      "                                                                                \r"
     ]
    }
   ],
   "source": [
    "Path(src_path.format(stage='gold', file_name='olit_geolocation')).mkdir(parents=True, exist_ok=True)\n",
    "df_geolocation.write.mode('overwrite')\\\n",
    "    .format('delta')\\\n",
    "        .option('compression', 'snappy')\\\n",
    "            .save(src_path.format(stage='gold', file_name='olit_geolocation'))"
   ]
  },
  {
   "cell_type": "markdown",
   "id": "a7aaaa6d",
   "metadata": {},
   "source": [
    "# Concluindo a fato"
   ]
  },
  {
   "cell_type": "code",
   "execution_count": null,
   "id": "cf267db7",
   "metadata": {},
   "outputs": [
    {
     "name": "stderr",
     "output_type": "stream",
     "text": [
      "[Stage 504:=================================================>     (45 + 2) / 50]\r"
     ]
    },
    {
     "name": "stdout",
     "output_type": "stream",
     "text": [
      "+--------------------------------+----------------------------------+--------------------------------+--------------------------------+--------------------------------+------------+------------+------------------------+-------------------+----------------------------+-----------------------------+-----------------------------+-------------------+--------------------+------------------+-------------+-----+-------------+\n",
      "|order_id                        |payment_id                        |customer_id                     |seller_id                       |product_id                      |payment_type|order_status|order_purchase_timestamp|order_approved_at  |order_delivered_carrier_date|order_delivered_customer_date|order_estimated_delivery_date|shipping_limit_date|payment_installments|payment_sequential|payment_value|price|freight_value|\n",
      "+--------------------------------+----------------------------------+--------------------------------+--------------------------------+--------------------------------+------------+------------+------------------------+-------------------+----------------------------+-----------------------------+-----------------------------+-------------------+--------------------+------------------+-------------+-----+-------------+\n",
      "|e481f51cbdc54678b7cc49136f2d6af7|e481f51cbdc54678b7cc49136f2d6af7_2|9ef432eb6251297304e76186b10a928d|3504c0cb71d7fa48d967e0e4c94d59d9|87285b34884572647811a353c7ac498a|voucher     |delivered   |2017-10-02 10:56:33     |2017-10-02 11:07:15|2017-10-04 19:55:00         |2017-10-10 21:25:13          |2017-10-18 00:00:00          |2017-10-06 11:07:15|1                   |2                 |18.59        |29.99|8.72         |\n",
      "|e481f51cbdc54678b7cc49136f2d6af7|e481f51cbdc54678b7cc49136f2d6af7_3|9ef432eb6251297304e76186b10a928d|3504c0cb71d7fa48d967e0e4c94d59d9|87285b34884572647811a353c7ac498a|voucher     |delivered   |2017-10-02 10:56:33     |2017-10-02 11:07:15|2017-10-04 19:55:00         |2017-10-10 21:25:13          |2017-10-18 00:00:00          |2017-10-06 11:07:15|1                   |3                 |2.0          |29.99|8.72         |\n",
      "|e481f51cbdc54678b7cc49136f2d6af7|e481f51cbdc54678b7cc49136f2d6af7_1|9ef432eb6251297304e76186b10a928d|3504c0cb71d7fa48d967e0e4c94d59d9|87285b34884572647811a353c7ac498a|credit_card |delivered   |2017-10-02 10:56:33     |2017-10-02 11:07:15|2017-10-04 19:55:00         |2017-10-10 21:25:13          |2017-10-18 00:00:00          |2017-10-06 11:07:15|1                   |1                 |18.12        |29.99|8.72         |\n",
      "|53cdb2fc8bc7dce0b6741e2150273451|53cdb2fc8bc7dce0b6741e2150273451_1|b0830fb4747a6c6d20dea0b8c802d7ef|289cdb325fb7e7f891c38608bf9e0962|595fac2a385ac33a80bd5114aec74eb8|boleto      |delivered   |2018-07-24 20:41:37     |2018-07-26 03:24:27|2018-07-26 14:31:00         |2018-08-07 15:27:45          |2018-08-13 00:00:00          |2018-07-30 03:24:27|1                   |1                 |141.46       |118.7|22.76        |\n",
      "|47770eb9100c2d0c44946d9cf07ec65d|47770eb9100c2d0c44946d9cf07ec65d_1|41ce2a54c0b03bf3443c3d931a367089|4869f7a5dfa277a7dca6462dcf3b52b2|aa4383b373c6aca5d8797843e5594415|credit_card |delivered   |2018-08-08 08:38:49     |2018-08-08 08:55:23|2018-08-08 13:50:00         |2018-08-17 18:06:29          |2018-09-04 00:00:00          |2018-08-13 08:55:23|3                   |1                 |179.12       |159.9|19.22        |\n",
      "+--------------------------------+----------------------------------+--------------------------------+--------------------------------+--------------------------------+------------+------------+------------------------+-------------------+----------------------------+-----------------------------+-----------------------------+-------------------+--------------------+------------------+-------------+-----+-------------+\n",
      "only showing top 5 rows\n",
      "\n"
     ]
    },
    {
     "name": "stderr",
     "output_type": "stream",
     "text": [
      "                                                                                \r"
     ]
    }
   ],
   "source": [
    "dataset.show(5, False)"
   ]
  },
  {
   "cell_type": "markdown",
   "id": "ea32757d",
   "metadata": {},
   "source": []
  },
  {
   "cell_type": "code",
   "execution_count": 24,
   "id": "acfa4c44",
   "metadata": {},
   "outputs": [
    {
     "name": "stderr",
     "output_type": "stream",
     "text": [
      "                                                                                \r"
     ]
    },
    {
     "name": "stdout",
     "output_type": "stream",
     "text": [
      "+--------------------+--------------------+--------------------+--------------------+--------------------+------------+------------------------+-------------------+----------------------------+-----------------------------+-----------------------------+-------------------+--------------------+------------------+-------------+-----+-------------+\n",
      "|            order_id|          payment_id|         customer_id|           seller_id|          product_id|order_status|order_purchase_timestamp|  order_approved_at|order_delivered_carrier_date|order_delivered_customer_date|order_estimated_delivery_date|shipping_limit_date|payment_installments|payment_sequential|payment_value|price|freight_value|\n",
      "+--------------------+--------------------+--------------------+--------------------+--------------------+------------+------------------------+-------------------+----------------------------+-----------------------------+-----------------------------+-------------------+--------------------+------------------+-------------+-----+-------------+\n",
      "|e481f51cbdc54678b...|e481f51cbdc54678b...|9ef432eb625129730...|3504c0cb71d7fa48d...|87285b34884572647...|   delivered|     2017-10-02 10:56:33|2017-10-02 11:07:15|         2017-10-04 19:55:00|          2017-10-10 21:25:13|          2017-10-18 00:00:00|2017-10-06 11:07:15|                   1|                 2|        18.59|29.99|         8.72|\n",
      "|e481f51cbdc54678b...|e481f51cbdc54678b...|9ef432eb625129730...|3504c0cb71d7fa48d...|87285b34884572647...|   delivered|     2017-10-02 10:56:33|2017-10-02 11:07:15|         2017-10-04 19:55:00|          2017-10-10 21:25:13|          2017-10-18 00:00:00|2017-10-06 11:07:15|                   1|                 3|          2.0|29.99|         8.72|\n",
      "|e481f51cbdc54678b...|e481f51cbdc54678b...|9ef432eb625129730...|3504c0cb71d7fa48d...|87285b34884572647...|   delivered|     2017-10-02 10:56:33|2017-10-02 11:07:15|         2017-10-04 19:55:00|          2017-10-10 21:25:13|          2017-10-18 00:00:00|2017-10-06 11:07:15|                   1|                 1|        18.12|29.99|         8.72|\n",
      "|53cdb2fc8bc7dce0b...|53cdb2fc8bc7dce0b...|b0830fb4747a6c6d2...|289cdb325fb7e7f89...|595fac2a385ac33a8...|   delivered|     2018-07-24 20:41:37|2018-07-26 03:24:27|         2018-07-26 14:31:00|          2018-08-07 15:27:45|          2018-08-13 00:00:00|2018-07-30 03:24:27|                   1|                 1|       141.46|118.7|        22.76|\n",
      "|47770eb9100c2d0c4...|47770eb9100c2d0c4...|41ce2a54c0b03bf34...|4869f7a5dfa277a7d...|aa4383b373c6aca5d...|   delivered|     2018-08-08 08:38:49|2018-08-08 08:55:23|         2018-08-08 13:50:00|          2018-08-17 18:06:29|          2018-09-04 00:00:00|2018-08-13 08:55:23|                   3|                 1|       179.12|159.9|        19.22|\n",
      "+--------------------+--------------------+--------------------+--------------------+--------------------+------------+------------------------+-------------------+----------------------------+-----------------------------+-----------------------------+-------------------+--------------------+------------------+-------------+-----+-------------+\n",
      "only showing top 5 rows\n",
      "\n"
     ]
    }
   ],
   "source": [
    "dataset = dataset.select(\n",
    "    col('order_id'),\n",
    "    col('payment_id'),\n",
    "    col('customer_id'),\n",
    "    col('seller_id'),\n",
    "    col('product_id'),\n",
    "    col('order_status'),\n",
    "    col('order_purchase_timestamp'),\n",
    "    col('order_approved_at'),\n",
    "    col('order_delivered_carrier_date'),\n",
    "    col('order_delivered_customer_date'),\n",
    "    col('order_estimated_delivery_date'),\n",
    "    col('shipping_limit_date'),\n",
    "    col('payment_installments'),\n",
    "    col('payment_sequential'),\n",
    "    col('payment_value'),\n",
    "    col('price'),\n",
    "    col('freight_value'),\n",
    "\n",
    ")\n",
    "\n",
    "dataset.show(5)"
   ]
  },
  {
   "cell_type": "markdown",
   "id": "d10d184c",
   "metadata": {},
   "source": [
    "### Agora, vamos realizar cálculos sobre nossa tabela fato, os cáculos serão\n",
    "\n",
    "- Valor Total do Pedido; <br>\n",
    "- Tempo de Aprovação do Pedido <br>\n",
    "- Tempo de Entrega Real <br>\n",
    "- Atraso na Entrega <br>\n",
    "- Ticket Médio por Pedido <br>\n",
    "- Número de Parcelas x Valor por Parcela <br>\n",
    "- Tempo de Coleta pelo Transportador <br>\n",
    "- Faturamento por Produto / Pedido / Vendedor <br>\n",
    "- Margem de Frete <br>\n",
    "- Qtd. de Parcelas por Pedido <br>\n",
    "- Status de Entrega Categorizado <br>\n",
    "- Indicador de Pedido Concluído <br>"
   ]
  },
  {
   "cell_type": "markdown",
   "id": "3777d88c",
   "metadata": {},
   "source": [
    "#### Valor Total do Pedido <br>\n",
    "- Ajuda a entender o valor real gerado por cada item (produto + frete), essencial para análises de receita, comportamento de compra e margem de lucro.<br>\n",
    "- Calculo: (produto + frete)<br>"
   ]
  },
  {
   "cell_type": "code",
   "execution_count": 25,
   "id": "4f5b2d16",
   "metadata": {},
   "outputs": [
    {
     "name": "stderr",
     "output_type": "stream",
     "text": [
      "[Stage 149:===============================================>       (43 + 2) / 50]\r"
     ]
    },
    {
     "name": "stdout",
     "output_type": "stream",
     "text": [
      "+--------------------+--------------------+--------------------+--------------------+--------------------+------------+------------------------+-------------------+----------------------------+-----------------------------+-----------------------------+-------------------+--------------------+------------------+-------------+-----+-------------+\n",
      "|            order_id|          payment_id|         customer_id|           seller_id|          product_id|order_status|order_purchase_timestamp|  order_approved_at|order_delivered_carrier_date|order_delivered_customer_date|order_estimated_delivery_date|shipping_limit_date|payment_installments|payment_sequential|payment_value|price|freight_value|\n",
      "+--------------------+--------------------+--------------------+--------------------+--------------------+------------+------------------------+-------------------+----------------------------+-----------------------------+-----------------------------+-------------------+--------------------+------------------+-------------+-----+-------------+\n",
      "|e481f51cbdc54678b...|e481f51cbdc54678b...|9ef432eb625129730...|3504c0cb71d7fa48d...|87285b34884572647...|   delivered|     2017-10-02 10:56:33|2017-10-02 11:07:15|         2017-10-04 19:55:00|          2017-10-10 21:25:13|          2017-10-18 00:00:00|2017-10-06 11:07:15|                   1|                 2|        18.59|29.99|         8.72|\n",
      "+--------------------+--------------------+--------------------+--------------------+--------------------+------------+------------------------+-------------------+----------------------------+-----------------------------+-----------------------------+-------------------+--------------------+------------------+-------------+-----+-------------+\n",
      "only showing top 1 row\n",
      "\n"
     ]
    },
    {
     "name": "stderr",
     "output_type": "stream",
     "text": [
      "                                                                                \r"
     ]
    }
   ],
   "source": [
    "dataset.show(1)"
   ]
  },
  {
   "cell_type": "code",
   "execution_count": 27,
   "id": "735d3f9f",
   "metadata": {},
   "outputs": [
    {
     "name": "stderr",
     "output_type": "stream",
     "text": [
      "                                                                                \r"
     ]
    },
    {
     "name": "stdout",
     "output_type": "stream",
     "text": [
      "+--------------------------------+----------------------------------+--------------------------------+--------------------------------+--------------------------------+------------+------------------------+-------------------+----------------------------+-----------------------------+-----------------------------+-------------------+--------------------+------------------+-------------+-----+-------------+-----------------+\n",
      "|order_id                        |payment_id                        |customer_id                     |seller_id                       |product_id                      |order_status|order_purchase_timestamp|order_approved_at  |order_delivered_carrier_date|order_delivered_customer_date|order_estimated_delivery_date|shipping_limit_date|payment_installments|payment_sequential|payment_value|price|freight_value|total_order_value|\n",
      "+--------------------------------+----------------------------------+--------------------------------+--------------------------------+--------------------------------+------------+------------------------+-------------------+----------------------------+-----------------------------+-----------------------------+-------------------+--------------------+------------------+-------------+-----+-------------+-----------------+\n",
      "|e481f51cbdc54678b7cc49136f2d6af7|e481f51cbdc54678b7cc49136f2d6af7_2|9ef432eb6251297304e76186b10a928d|3504c0cb71d7fa48d967e0e4c94d59d9|87285b34884572647811a353c7ac498a|delivered   |2017-10-02 10:56:33     |2017-10-02 11:07:15|2017-10-04 19:55:00         |2017-10-10 21:25:13          |2017-10-18 00:00:00          |2017-10-06 11:07:15|1                   |2                 |18.59        |29.99|8.72         |38.71            |\n",
      "|e481f51cbdc54678b7cc49136f2d6af7|e481f51cbdc54678b7cc49136f2d6af7_3|9ef432eb6251297304e76186b10a928d|3504c0cb71d7fa48d967e0e4c94d59d9|87285b34884572647811a353c7ac498a|delivered   |2017-10-02 10:56:33     |2017-10-02 11:07:15|2017-10-04 19:55:00         |2017-10-10 21:25:13          |2017-10-18 00:00:00          |2017-10-06 11:07:15|1                   |3                 |2.0          |29.99|8.72         |38.71            |\n",
      "|e481f51cbdc54678b7cc49136f2d6af7|e481f51cbdc54678b7cc49136f2d6af7_1|9ef432eb6251297304e76186b10a928d|3504c0cb71d7fa48d967e0e4c94d59d9|87285b34884572647811a353c7ac498a|delivered   |2017-10-02 10:56:33     |2017-10-02 11:07:15|2017-10-04 19:55:00         |2017-10-10 21:25:13          |2017-10-18 00:00:00          |2017-10-06 11:07:15|1                   |1                 |18.12        |29.99|8.72         |38.71            |\n",
      "+--------------------------------+----------------------------------+--------------------------------+--------------------------------+--------------------------------+------------+------------------------+-------------------+----------------------------+-----------------------------+-----------------------------+-------------------+--------------------+------------------+-------------+-----+-------------+-----------------+\n",
      "only showing top 3 rows\n",
      "\n"
     ]
    }
   ],
   "source": [
    "dataset = dataset.withColumn('total_order_value', col('price') + col('freight_value'))\n",
    "dataset.show(3, False)"
   ]
  },
  {
   "cell_type": "markdown",
   "id": "ac9db002",
   "metadata": {},
   "source": [
    "#### Tempo de Aprovação do Pedido\n",
    "- Permite avaliar o desempenho do processo de aprovação — quanto mais rápido, melhor a experiência do cliente. Pode indicar gargalos no sistema de pagamento.\n",
    "- Cálculo: order_approved_at - order_purchase_timestamp"
   ]
  },
  {
   "cell_type": "code",
   "execution_count": 45,
   "id": "75d7bff9",
   "metadata": {},
   "outputs": [
    {
     "name": "stderr",
     "output_type": "stream",
     "text": [
      "                                                                                \r"
     ]
    },
    {
     "name": "stdout",
     "output_type": "stream",
     "text": [
      "+--------------------------------+----------------------------------+--------------------------------+--------------------------------+--------------------------------+------------+------------------------+-------------------+----------------------------+-----------------------------+-----------------------------+-------------------+--------------------+------------------+-------------+-----+-------------+-----------------+------------------------------+--------------------+\n",
      "|order_id                        |payment_id                        |customer_id                     |seller_id                       |product_id                      |order_status|order_purchase_timestamp|order_approved_at  |order_delivered_carrier_date|order_delivered_customer_date|order_estimated_delivery_date|shipping_limit_date|payment_installments|payment_sequential|payment_value|price|freight_value|total_order_value|actual_delevery_time_in_number|actual_delevery_time|\n",
      "+--------------------------------+----------------------------------+--------------------------------+--------------------------------+--------------------------------+------------+------------------------+-------------------+----------------------------+-----------------------------+-----------------------------+-------------------+--------------------+------------------+-------------+-----+-------------+-----------------+------------------------------+--------------------+\n",
      "|e481f51cbdc54678b7cc49136f2d6af7|e481f51cbdc54678b7cc49136f2d6af7_2|9ef432eb6251297304e76186b10a928d|3504c0cb71d7fa48d967e0e4c94d59d9|87285b34884572647811a353c7ac498a|delivered   |2017-10-02 10:56:33     |2017-10-02 11:07:15|2017-10-04 19:55:00         |2017-10-10 21:25:13          |2017-10-18 00:00:00          |2017-10-06 11:07:15|1                   |2                 |18.59        |29.99|8.72         |38.71            |10.7                          |00:10:42            |\n",
      "|e481f51cbdc54678b7cc49136f2d6af7|e481f51cbdc54678b7cc49136f2d6af7_3|9ef432eb6251297304e76186b10a928d|3504c0cb71d7fa48d967e0e4c94d59d9|87285b34884572647811a353c7ac498a|delivered   |2017-10-02 10:56:33     |2017-10-02 11:07:15|2017-10-04 19:55:00         |2017-10-10 21:25:13          |2017-10-18 00:00:00          |2017-10-06 11:07:15|1                   |3                 |2.0          |29.99|8.72         |38.71            |10.7                          |00:10:42            |\n",
      "|e481f51cbdc54678b7cc49136f2d6af7|e481f51cbdc54678b7cc49136f2d6af7_1|9ef432eb6251297304e76186b10a928d|3504c0cb71d7fa48d967e0e4c94d59d9|87285b34884572647811a353c7ac498a|delivered   |2017-10-02 10:56:33     |2017-10-02 11:07:15|2017-10-04 19:55:00         |2017-10-10 21:25:13          |2017-10-18 00:00:00          |2017-10-06 11:07:15|1                   |1                 |18.12        |29.99|8.72         |38.71            |10.7                          |00:10:42            |\n",
      "+--------------------------------+----------------------------------+--------------------------------+--------------------------------+--------------------------------+------------+------------------------+-------------------+----------------------------+-----------------------------+-----------------------------+-------------------+--------------------+------------------+-------------+-----+-------------+-----------------+------------------------------+--------------------+\n",
      "only showing top 3 rows\n",
      "\n"
     ]
    }
   ],
   "source": [
    "dataset = dataset.withColumn(\n",
    "    'actual_delevery_time_in_number',\n",
    "    round(\n",
    "        (unix_timestamp(col('order_approved_at')) - unix_timestamp(col('order_purchase_timestamp'))) / 60, 2\n",
    "    )\n",
    ")\n",
    "\n",
    "dataset = dataset.withColumn(\n",
    "    'actual_delevery_time',\n",
    "    format_string(\n",
    "        '%02d:%02d:%02d',\n",
    "        ((unix_timestamp(col('order_approved_at')) - unix_timestamp(col('order_purchase_timestamp'))) / 3600).cast('int'),\n",
    "        (((unix_timestamp(col('order_approved_at')) - unix_timestamp(col('order_purchase_timestamp'))) % 3600) / 60).cast('int'),\n",
    "        ((unix_timestamp(col('order_approved_at')) - unix_timestamp(col('order_purchase_timestamp'))) % 60).cast('int')\n",
    "    )\n",
    ")\n",
    "\n",
    "dataset.show(3, False)"
   ]
  },
  {
   "cell_type": "markdown",
   "id": "01172c09",
   "metadata": {},
   "source": [
    "#### Tempo de Entrega Real\n",
    "- Usado para avaliar o SLA (Service Level Agreement) de entrega. Útil para detectar atrasos ou otimizar a logística.\n",
    "- order_delivered_customer_date - order_purchase_timestamp"
   ]
  },
  {
   "cell_type": "code",
   "execution_count": 49,
   "id": "e2124a26",
   "metadata": {},
   "outputs": [
    {
     "name": "stderr",
     "output_type": "stream",
     "text": [
      "                                                                                \r"
     ]
    },
    {
     "name": "stdout",
     "output_type": "stream",
     "text": [
      "+--------------------------------+----------------------------------+--------------------------------+--------------------------------+--------------------------------+------------+------------------------+-------------------+----------------------------+-----------------------------+-----------------------------+-------------------+--------------------+------------------+-------------+-----+-------------+-----------------+------------------------------+--------------------+-----------------------------------+-------------------------+\n",
      "|order_id                        |payment_id                        |customer_id                     |seller_id                       |product_id                      |order_status|order_purchase_timestamp|order_approved_at  |order_delivered_carrier_date|order_delivered_customer_date|order_estimated_delivery_date|shipping_limit_date|payment_installments|payment_sequential|payment_value|price|freight_value|total_order_value|actual_delevery_time_in_number|actual_delevery_time|actual_delevery_time_days_in_number|actual_delevery_time_days|\n",
      "+--------------------------------+----------------------------------+--------------------------------+--------------------------------+--------------------------------+------------+------------------------+-------------------+----------------------------+-----------------------------+-----------------------------+-------------------+--------------------+------------------+-------------+-----+-------------+-----------------+------------------------------+--------------------+-----------------------------------+-------------------------+\n",
      "|e481f51cbdc54678b7cc49136f2d6af7|e481f51cbdc54678b7cc49136f2d6af7_2|9ef432eb6251297304e76186b10a928d|3504c0cb71d7fa48d967e0e4c94d59d9|87285b34884572647811a353c7ac498a|delivered   |2017-10-02 10:56:33     |2017-10-02 11:07:15|2017-10-04 19:55:00         |2017-10-10 21:25:13          |2017-10-18 00:00:00          |2017-10-06 11:07:15|1                   |2                 |18.59        |29.99|8.72         |38.71            |10.7                          |00:10:42            |12148.67                           |08:28:40                 |\n",
      "|e481f51cbdc54678b7cc49136f2d6af7|e481f51cbdc54678b7cc49136f2d6af7_3|9ef432eb6251297304e76186b10a928d|3504c0cb71d7fa48d967e0e4c94d59d9|87285b34884572647811a353c7ac498a|delivered   |2017-10-02 10:56:33     |2017-10-02 11:07:15|2017-10-04 19:55:00         |2017-10-10 21:25:13          |2017-10-18 00:00:00          |2017-10-06 11:07:15|1                   |3                 |2.0          |29.99|8.72         |38.71            |10.7                          |00:10:42            |12148.67                           |08:28:40                 |\n",
      "|e481f51cbdc54678b7cc49136f2d6af7|e481f51cbdc54678b7cc49136f2d6af7_1|9ef432eb6251297304e76186b10a928d|3504c0cb71d7fa48d967e0e4c94d59d9|87285b34884572647811a353c7ac498a|delivered   |2017-10-02 10:56:33     |2017-10-02 11:07:15|2017-10-04 19:55:00         |2017-10-10 21:25:13          |2017-10-18 00:00:00          |2017-10-06 11:07:15|1                   |1                 |18.12        |29.99|8.72         |38.71            |10.7                          |00:10:42            |12148.67                           |08:28:40                 |\n",
      "+--------------------------------+----------------------------------+--------------------------------+--------------------------------+--------------------------------+------------+------------------------+-------------------+----------------------------+-----------------------------+-----------------------------+-------------------+--------------------+------------------+-------------+-----+-------------+-----------------+------------------------------+--------------------+-----------------------------------+-------------------------+\n",
      "only showing top 3 rows\n",
      "\n"
     ]
    }
   ],
   "source": [
    "dataset = dataset.withColumn(\n",
    "    'actual_delevery_time_days_in_number',\n",
    "    round(\n",
    "        (unix_timestamp(col('order_delivered_customer_date')) - unix_timestamp(col('order_purchase_timestamp'))) / 60, 2\n",
    "    )\n",
    ")\n",
    "\n",
    "dataset = dataset.withColumn(\n",
    "    'actual_delevery_time_days',\n",
    "    format_string(\n",
    "        '%02d:%02d:%02d',\n",
    "        (((unix_timestamp(col('order_delivered_customer_date')) - unix_timestamp(col('order_purchase_timestamp'))) / 3600)/24).cast('int'), # Dividindo por 24 para ter os dias\n",
    "        (((unix_timestamp(col('order_delivered_customer_date')) - unix_timestamp(col('order_purchase_timestamp'))) % 3600) / 60).cast('int'),\n",
    "        ((unix_timestamp(col('order_delivered_customer_date')) - unix_timestamp(col('order_purchase_timestamp'))) % 60).cast('int')\n",
    "    )\n",
    ")\n",
    "\n",
    "dataset.show(3, False)"
   ]
  },
  {
   "cell_type": "markdown",
   "id": "7fe82b6a",
   "metadata": {},
   "source": [
    "#### Atraso na Entrega\n",
    "- Permite analisar se o prazo prometido foi cumprido. Se for positivo, houve atraso; se negativo, foi entregue antes do prazo.\n",
    "- order_delivered_customer_date - order_estimated_delivery_date"
   ]
  },
  {
   "cell_type": "code",
   "execution_count": 50,
   "id": "38118ac9",
   "metadata": {},
   "outputs": [
    {
     "name": "stderr",
     "output_type": "stream",
     "text": [
      "                                                                                \r"
     ]
    },
    {
     "name": "stdout",
     "output_type": "stream",
     "text": [
      "+--------------------------------+----------------------------------+--------------------------------+--------------------------------+--------------------------------+------------+------------------------+-------------------+----------------------------+-----------------------------+-----------------------------+-------------------+--------------------+------------------+-------------+-----+-------------+-----------------+------------------------------+--------------------+-----------------------------------+-------------------------+-----------------------------+-------------------+\n",
      "|order_id                        |payment_id                        |customer_id                     |seller_id                       |product_id                      |order_status|order_purchase_timestamp|order_approved_at  |order_delivered_carrier_date|order_delivered_customer_date|order_estimated_delivery_date|shipping_limit_date|payment_installments|payment_sequential|payment_value|price|freight_value|total_order_value|actual_delevery_time_in_number|actual_delevery_time|actual_delevery_time_days_in_number|actual_delevery_time_days|delivery_delay_days_in_number|delivery_delay_days|\n",
      "+--------------------------------+----------------------------------+--------------------------------+--------------------------------+--------------------------------+------------+------------------------+-------------------+----------------------------+-----------------------------+-----------------------------+-------------------+--------------------+------------------+-------------+-----+-------------+-----------------+------------------------------+--------------------+-----------------------------------+-------------------------+-----------------------------+-------------------+\n",
      "|e481f51cbdc54678b7cc49136f2d6af7|e481f51cbdc54678b7cc49136f2d6af7_2|9ef432eb6251297304e76186b10a928d|3504c0cb71d7fa48d967e0e4c94d59d9|87285b34884572647811a353c7ac498a|delivered   |2017-10-02 10:56:33     |2017-10-02 11:07:15|2017-10-04 19:55:00         |2017-10-10 21:25:13          |2017-10-18 00:00:00          |2017-10-06 11:07:15|1                   |2                 |18.59        |29.99|8.72         |38.71            |10.7                          |00:10:42            |12148.67                           |08:28:40                 |-10174.78                    |-7:-34:-47         |\n",
      "|e481f51cbdc54678b7cc49136f2d6af7|e481f51cbdc54678b7cc49136f2d6af7_3|9ef432eb6251297304e76186b10a928d|3504c0cb71d7fa48d967e0e4c94d59d9|87285b34884572647811a353c7ac498a|delivered   |2017-10-02 10:56:33     |2017-10-02 11:07:15|2017-10-04 19:55:00         |2017-10-10 21:25:13          |2017-10-18 00:00:00          |2017-10-06 11:07:15|1                   |3                 |2.0          |29.99|8.72         |38.71            |10.7                          |00:10:42            |12148.67                           |08:28:40                 |-10174.78                    |-7:-34:-47         |\n",
      "|e481f51cbdc54678b7cc49136f2d6af7|e481f51cbdc54678b7cc49136f2d6af7_1|9ef432eb6251297304e76186b10a928d|3504c0cb71d7fa48d967e0e4c94d59d9|87285b34884572647811a353c7ac498a|delivered   |2017-10-02 10:56:33     |2017-10-02 11:07:15|2017-10-04 19:55:00         |2017-10-10 21:25:13          |2017-10-18 00:00:00          |2017-10-06 11:07:15|1                   |1                 |18.12        |29.99|8.72         |38.71            |10.7                          |00:10:42            |12148.67                           |08:28:40                 |-10174.78                    |-7:-34:-47         |\n",
      "+--------------------------------+----------------------------------+--------------------------------+--------------------------------+--------------------------------+------------+------------------------+-------------------+----------------------------+-----------------------------+-----------------------------+-------------------+--------------------+------------------+-------------+-----+-------------+-----------------+------------------------------+--------------------+-----------------------------------+-------------------------+-----------------------------+-------------------+\n",
      "only showing top 3 rows\n",
      "\n"
     ]
    }
   ],
   "source": [
    "dataset = dataset.withColumn(\n",
    "    'delivery_delay_days_in_number',\n",
    "    round(\n",
    "        (unix_timestamp(col('order_delivered_customer_date')) - unix_timestamp(col('order_estimated_delivery_date'))) / 60, 2\n",
    "    )\n",
    ")\n",
    "\n",
    "dataset = dataset.withColumn(\n",
    "    'delivery_delay_days',\n",
    "    format_string(\n",
    "        '%02d:%02d:%02d',\n",
    "        (((unix_timestamp(col('order_delivered_customer_date')) - unix_timestamp(col('order_estimated_delivery_date'))) / 3600)/24).cast('int'), # Dividindo por 24 para ter os dias\n",
    "        (((unix_timestamp(col('order_delivered_customer_date')) - unix_timestamp(col('order_estimated_delivery_date'))) % 3600) / 60).cast('int'),\n",
    "        ((unix_timestamp(col('order_delivered_customer_date')) - unix_timestamp(col('order_estimated_delivery_date'))) % 60).cast('int')\n",
    "    )\n",
    ")\n",
    "\n",
    "dataset.show(3, False)"
   ]
  },
  {
   "cell_type": "markdown",
   "id": "a3a189f6",
   "metadata": {},
   "source": [
    "#### Ticket Médio por Pedido\n",
    "- Importante para entender o comportamento de compra por cliente, segmentar consumidores e planejar campanhas de marketing.\n",
    "- Agrupar por order_id e calcular sum(payment_value)"
   ]
  },
  {
   "cell_type": "code",
   "execution_count": null,
   "id": "c1d8ebe5",
   "metadata": {},
   "outputs": [],
   "source": []
  }
 ],
 "metadata": {
  "kernelspec": {
   "display_name": ".venv",
   "language": "python",
   "name": "python3"
  },
  "language_info": {
   "codemirror_mode": {
    "name": "ipython",
    "version": 3
   },
   "file_extension": ".py",
   "mimetype": "text/x-python",
   "name": "python",
   "nbconvert_exporter": "python",
   "pygments_lexer": "ipython3",
   "version": "3.10.12"
  }
 },
 "nbformat": 4,
 "nbformat_minor": 5
}
