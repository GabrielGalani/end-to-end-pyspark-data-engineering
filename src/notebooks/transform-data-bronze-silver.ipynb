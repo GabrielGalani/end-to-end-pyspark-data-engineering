{
 "cells": [
  {
   "cell_type": "markdown",
   "id": "a27cb175",
   "metadata": {},
   "source": [
    "# Importações"
   ]
  },
  {
   "cell_type": "code",
   "execution_count": 94,
   "id": "5f36f3ea",
   "metadata": {},
   "outputs": [],
   "source": [
    "from pyspark.sql import SparkSession, Row\n",
    "from delta import configure_spark_with_delta_pip\n",
    "from pyspark.sql.functions import col, trim\n",
    "from pathlib import Path\n",
    "from geopy.geocoders import Nominatim\n",
    "import os, time"
   ]
  },
  {
   "cell_type": "markdown",
   "id": "9349493a",
   "metadata": {},
   "source": [
    "# Analise exploratória e tratamentos para camada silver"
   ]
  },
  {
   "cell_type": "code",
   "execution_count": 2,
   "id": "2f91ea8b",
   "metadata": {},
   "outputs": [],
   "source": [
    "src_path = os.path.expanduser('~/Documents/PySpark-Projects/Sales-project/data/{stage}')"
   ]
  },
  {
   "cell_type": "markdown",
   "id": "4c593b87",
   "metadata": {},
   "source": [
    "## Criando a sessão spark"
   ]
  },
  {
   "cell_type": "code",
   "execution_count": 3,
   "id": "94901a42",
   "metadata": {},
   "outputs": [
    {
     "name": "stderr",
     "output_type": "stream",
     "text": [
      "25/05/19 16:03:57 WARN Utils: Your hostname, gabriel-virtual-machine resolves to a loopback address: 127.0.1.1; using 192.168.16.128 instead (on interface ens33)\n",
      "25/05/19 16:03:57 WARN Utils: Set SPARK_LOCAL_IP if you need to bind to another address\n"
     ]
    },
    {
     "name": "stdout",
     "output_type": "stream",
     "text": [
      ":: loading settings :: url = jar:file:/home/gabriel/Documents/PySpark-Projects/Sales-project/.venv/lib/python3.10/site-packages/pyspark/jars/ivy-2.5.1.jar!/org/apache/ivy/core/settings/ivysettings.xml\n"
     ]
    },
    {
     "name": "stderr",
     "output_type": "stream",
     "text": [
      "Ivy Default Cache set to: /home/gabriel/.ivy2/cache\n",
      "The jars for the packages stored in: /home/gabriel/.ivy2/jars\n",
      "io.delta#delta-spark_2.12 added as a dependency\n",
      ":: resolving dependencies :: org.apache.spark#spark-submit-parent-e751f44f-c931-4cad-a6a6-54297739db09;1.0\n",
      "\tconfs: [default]\n",
      "\tfound io.delta#delta-spark_2.12;3.3.1 in central\n",
      "\tfound io.delta#delta-storage;3.3.1 in central\n",
      "\tfound org.antlr#antlr4-runtime;4.9.3 in central\n",
      ":: resolution report :: resolve 2588ms :: artifacts dl 29ms\n",
      "\t:: modules in use:\n",
      "\tio.delta#delta-spark_2.12;3.3.1 from central in [default]\n",
      "\tio.delta#delta-storage;3.3.1 from central in [default]\n",
      "\torg.antlr#antlr4-runtime;4.9.3 from central in [default]\n",
      "\t---------------------------------------------------------------------\n",
      "\t|                  |            modules            ||   artifacts   |\n",
      "\t|       conf       | number| search|dwnlded|evicted|| number|dwnlded|\n",
      "\t---------------------------------------------------------------------\n",
      "\t|      default     |   3   |   0   |   0   |   0   ||   3   |   0   |\n",
      "\t---------------------------------------------------------------------\n",
      ":: retrieving :: org.apache.spark#spark-submit-parent-e751f44f-c931-4cad-a6a6-54297739db09\n",
      "\tconfs: [default]\n",
      "\t0 artifacts copied, 3 already retrieved (0kB/10ms)\n",
      "25/05/19 16:04:04 WARN NativeCodeLoader: Unable to load native-hadoop library for your platform... using builtin-java classes where applicable\n",
      "Setting default log level to \"WARN\".\n",
      "To adjust logging level use sc.setLogLevel(newLevel). For SparkR, use setLogLevel(newLevel).\n",
      "25/05/19 16:04:11 WARN Utils: Service 'SparkUI' could not bind on port 4040. Attempting port 4041.\n"
     ]
    }
   ],
   "source": [
    "builder = SparkSession.builder \\\n",
    "    .appName(\"etl-app\") \\\n",
    "    .config(\"spark.sql.extensions\", \"io.delta.sql.DeltaSparkSessionExtension\") \\\n",
    "    .config(\"spark.sql.catalog.spark_catalog\", \"org.apache.spark.sql.delta.catalog.DeltaCatalog\")\n",
    "\n",
    "spark = configure_spark_with_delta_pip(builder).getOrCreate()"
   ]
  },
  {
   "cell_type": "markdown",
   "id": "fe611eea",
   "metadata": {},
   "source": [
    "Versão do spark usada"
   ]
  },
  {
   "cell_type": "code",
   "execution_count": 4,
   "id": "74df49b1",
   "metadata": {},
   "outputs": [
    {
     "name": "stdout",
     "output_type": "stream",
     "text": [
      "3.5.5\n"
     ]
    }
   ],
   "source": [
    "print(spark.version)"
   ]
  },
  {
   "cell_type": "code",
   "execution_count": 5,
   "id": "843c3e13",
   "metadata": {},
   "outputs": [
    {
     "name": "stdout",
     "output_type": "stream",
     "text": [
      "<SparkContext master=local[*] appName=etl-app>\n"
     ]
    }
   ],
   "source": [
    "print(spark.sparkContext)"
   ]
  },
  {
   "cell_type": "markdown",
   "id": "f1f8f2d2",
   "metadata": {},
   "source": [
    "## Analise de customers"
   ]
  },
  {
   "cell_type": "markdown",
   "id": "cfa44ff7",
   "metadata": {},
   "source": [
    "### Lendo o arquivo"
   ]
  },
  {
   "cell_type": "code",
   "execution_count": 6,
   "id": "7a9e498d",
   "metadata": {},
   "outputs": [
    {
     "name": "stderr",
     "output_type": "stream",
     "text": [
      "                                                                                \r"
     ]
    },
    {
     "name": "stdout",
     "output_type": "stream",
     "text": [
      "+--------------------+--------------------+------------------------+--------------------+--------------+\n",
      "|         customer_id|  customer_unique_id|customer_zip_code_prefix|       customer_city|customer_state|\n",
      "+--------------------+--------------------+------------------------+--------------------+--------------+\n",
      "|06b8999e2fba1a1fb...|861eff4711a542e4b...|                   14409|              franca|            SP|\n",
      "|18955e83d337fd6b2...|290c77bc529b7ac93...|                    9790|sao bernardo do c...|            SP|\n",
      "|4e7b3e00288586ebd...|060e732b5b29e8181...|                    1151|           sao paulo|            SP|\n",
      "|b2b6027bc5c5109e5...|259dac757896d24d7...|                    8775|     mogi das cruzes|            SP|\n",
      "|4f2d8ab171c80ec83...|345ecd01c38d18a90...|                   13056|            campinas|            SP|\n",
      "|879864dab9bc30475...|4c93744516667ad3b...|                   89254|      jaragua do sul|            SC|\n",
      "|fd826e7cf63160e53...|addec96d2e059c80c...|                    4534|           sao paulo|            SP|\n",
      "|5e274e7a0c3809e14...|57b2a98a409812fe9...|                   35182|             timoteo|            MG|\n",
      "|5adf08e34b2e99398...|1175e95fb47ddff9d...|                   81560|            curitiba|            PR|\n",
      "|4b7139f34592b3a31...|9afe194fb833f79e3...|                   30575|      belo horizonte|            MG|\n",
      "+--------------------+--------------------+------------------------+--------------------+--------------+\n",
      "only showing top 10 rows\n",
      "\n"
     ]
    }
   ],
   "source": [
    "df_customers = spark.read.csv(os.path.join(src_path.format(stage='bronze'), 'olist_customers_dataset.csv'), header=True, sep=\",\", inferSchema=True)\n",
    "df_customers.show(10)"
   ]
  },
  {
   "cell_type": "markdown",
   "id": "028745f2",
   "metadata": {},
   "source": [
    "Verificando a existencia de dados inconsistentes (nulos, vazios e etc...) em colunas principais como customer_id e customer_unique_id"
   ]
  },
  {
   "cell_type": "code",
   "execution_count": 7,
   "id": "8b42d44e",
   "metadata": {},
   "outputs": [
    {
     "name": "stderr",
     "output_type": "stream",
     "text": [
      "[Stage 4:>                                                          (0 + 1) / 1]\r"
     ]
    },
    {
     "name": "stdout",
     "output_type": "stream",
     "text": [
      "+-----------+------------------+------------------------+-------------+--------------+\n",
      "|customer_id|customer_unique_id|customer_zip_code_prefix|customer_city|customer_state|\n",
      "+-----------+------------------+------------------------+-------------+--------------+\n",
      "+-----------+------------------+------------------------+-------------+--------------+\n",
      "\n"
     ]
    },
    {
     "name": "stderr",
     "output_type": "stream",
     "text": [
      "                                                                                \r"
     ]
    }
   ],
   "source": [
    "df_customers.filter(\n",
    "    col('customer_id').isNull() | \n",
    "    (trim(col('customer_id')) == '')\n",
    ").show()"
   ]
  },
  {
   "cell_type": "code",
   "execution_count": 8,
   "id": "edeabcf5",
   "metadata": {},
   "outputs": [
    {
     "name": "stderr",
     "output_type": "stream",
     "text": [
      "                                                                                \r"
     ]
    },
    {
     "name": "stdout",
     "output_type": "stream",
     "text": [
      "+-----------+------------------+------------------------+-------------+--------------+\n",
      "|customer_id|customer_unique_id|customer_zip_code_prefix|customer_city|customer_state|\n",
      "+-----------+------------------+------------------------+-------------+--------------+\n",
      "+-----------+------------------+------------------------+-------------+--------------+\n",
      "\n"
     ]
    },
    {
     "name": "stderr",
     "output_type": "stream",
     "text": [
      "                                                                                \r"
     ]
    }
   ],
   "source": [
    "df_customers.filter(\n",
    "    col('customer_unique_id').isNull() |\n",
    "    (trim(col('customer_unique_id')) == '')\n",
    ").show()"
   ]
  },
  {
   "cell_type": "markdown",
   "id": "1a74df44",
   "metadata": {},
   "source": [
    "Decisão: As colunas principais não contem dados nulos, nenhuma ação deve ser tomada"
   ]
  },
  {
   "cell_type": "markdown",
   "id": "2528bbcd",
   "metadata": {},
   "source": [
    "Verificando a tipagem das colunas (Schema)"
   ]
  },
  {
   "cell_type": "code",
   "execution_count": 9,
   "id": "335e77d5",
   "metadata": {},
   "outputs": [
    {
     "name": "stdout",
     "output_type": "stream",
     "text": [
      "root\n",
      " |-- customer_id: string (nullable = true)\n",
      " |-- customer_unique_id: string (nullable = true)\n",
      " |-- customer_zip_code_prefix: integer (nullable = true)\n",
      " |-- customer_city: string (nullable = true)\n",
      " |-- customer_state: string (nullable = true)\n",
      "\n"
     ]
    }
   ],
   "source": [
    "df_customers.printSchema()"
   ]
  },
  {
   "cell_type": "markdown",
   "id": "8657f7ba",
   "metadata": {},
   "source": [
    "Decisão: A tipagem dos dados parece adequada"
   ]
  },
  {
   "cell_type": "markdown",
   "id": "94952e8e",
   "metadata": {},
   "source": [
    "Analisando dataset"
   ]
  },
  {
   "cell_type": "code",
   "execution_count": 10,
   "id": "ed504b9d",
   "metadata": {},
   "outputs": [
    {
     "name": "stdout",
     "output_type": "stream",
     "text": [
      "+--------------------+--------------------+------------------------+--------------------+--------------+\n",
      "|         customer_id|  customer_unique_id|customer_zip_code_prefix|       customer_city|customer_state|\n",
      "+--------------------+--------------------+------------------------+--------------------+--------------+\n",
      "|06b8999e2fba1a1fb...|861eff4711a542e4b...|                   14409|              franca|            SP|\n",
      "|18955e83d337fd6b2...|290c77bc529b7ac93...|                    9790|sao bernardo do c...|            SP|\n",
      "|4e7b3e00288586ebd...|060e732b5b29e8181...|                    1151|           sao paulo|            SP|\n",
      "|b2b6027bc5c5109e5...|259dac757896d24d7...|                    8775|     mogi das cruzes|            SP|\n",
      "|4f2d8ab171c80ec83...|345ecd01c38d18a90...|                   13056|            campinas|            SP|\n",
      "|879864dab9bc30475...|4c93744516667ad3b...|                   89254|      jaragua do sul|            SC|\n",
      "|fd826e7cf63160e53...|addec96d2e059c80c...|                    4534|           sao paulo|            SP|\n",
      "|5e274e7a0c3809e14...|57b2a98a409812fe9...|                   35182|             timoteo|            MG|\n",
      "|5adf08e34b2e99398...|1175e95fb47ddff9d...|                   81560|            curitiba|            PR|\n",
      "|4b7139f34592b3a31...|9afe194fb833f79e3...|                   30575|      belo horizonte|            MG|\n",
      "|9fb35e4ed6f0a14a4...|2a7745e1ed516b289...|                   39400|       montes claros|            MG|\n",
      "|5aa9e4fdd4dfd2095...|2a46fb94aef5cbeeb...|                   20231|      rio de janeiro|            RJ|\n",
      "|b2d1536598b73a9ab...|918dc87cd72cd9f6e...|                   18682|    lencois paulista|            SP|\n",
      "|eabebad39a88bb6f5...|295c05e81917928d7...|                    5704|           sao paulo|            SP|\n",
      "|1f1c7bf1c9b041b29...|3151a81801c838636...|                   95110|       caxias do sul|            RS|\n",
      "|206f3129c0e4d7d0b...|21f748a16f4e1688a...|                   13412|          piracicaba|            SP|\n",
      "|a7c125a0a07b75146...|5c2991dbd08bbf3cf...|                   22750|      rio de janeiro|            RJ|\n",
      "|c5c61596a3b6bd0ce...|b6e99561fe6f34a55...|                    7124|           guarulhos|            SP|\n",
      "|9b8ce803689b3562d...|7f3a72e8f988c6e73...|                    5416|           sao paulo|            SP|\n",
      "|49d0ea0986edde72d...|3e6fd6b2f0d499456...|                   68485|              pacaja|            PA|\n",
      "+--------------------+--------------------+------------------------+--------------------+--------------+\n",
      "only showing top 20 rows\n",
      "\n"
     ]
    }
   ],
   "source": [
    "df_customers.show()"
   ]
  },
  {
   "cell_type": "markdown",
   "id": "4553ce59",
   "metadata": {},
   "source": [
    "Analise de dados duplicados"
   ]
  },
  {
   "cell_type": "code",
   "execution_count": 11,
   "id": "81991157",
   "metadata": {},
   "outputs": [
    {
     "name": "stderr",
     "output_type": "stream",
     "text": [
      "[Stage 12:>                                                         (0 + 1) / 1]\r"
     ]
    },
    {
     "name": "stdout",
     "output_type": "stream",
     "text": [
      "+-----------+-----+\n",
      "|customer_id|count|\n",
      "+-----------+-----+\n",
      "+-----------+-----+\n",
      "\n"
     ]
    },
    {
     "name": "stderr",
     "output_type": "stream",
     "text": [
      "                                                                                \r"
     ]
    }
   ],
   "source": [
    "df_customers.groupBy('customer_id')\\\n",
    "    .count()\\\n",
    "        .filter(col('count')>1)\\\n",
    "            .show()"
   ]
  },
  {
   "cell_type": "code",
   "execution_count": 12,
   "id": "ecb17881",
   "metadata": {},
   "outputs": [
    {
     "name": "stderr",
     "output_type": "stream",
     "text": [
      "[Stage 13:=============================>                            (1 + 1) / 2]\r"
     ]
    },
    {
     "name": "stdout",
     "output_type": "stream",
     "text": [
      "+--------------------------------+-----+\n",
      "|customer_unique_id              |count|\n",
      "+--------------------------------+-----+\n",
      "|4b384b778ebc0449d0244902bfce7beb|2    |\n",
      "|c85df1c6ef6f7bb605e1c49d34f172ee|2    |\n",
      "|5b71ca52f13f79c2be72b2aad8755c0a|2    |\n",
      "|cbe71e4cb0b82b97bbec5cd51e0fa3ea|2    |\n",
      "|f31d2c22ddcad145e224e6dc48f349b9|2    |\n",
      "|4011b7579e894fa929d2de97b4928f41|2    |\n",
      "|7e7301841ddb4064c2f3a31e4c154932|2    |\n",
      "|7b0eaf68a16e4808e5388c67345033c9|2    |\n",
      "|5a2e847dd085d36e3ba8916b75e794ed|2    |\n",
      "|1d2435aa3b858d45c707c9fc25e18779|2    |\n",
      "|f00e99f043c33da533ebc107f5a68c4e|2    |\n",
      "|bce006e903be688f122a39f45b210090|2    |\n",
      "|26e025af2347c3968f6a578f853a9da2|2    |\n",
      "|4e3b6c25502ef69e5c5e54616bf67ed7|2    |\n",
      "|a35e6ad969a4298593c504f69c03efb4|2    |\n",
      "|4702ba5faa8283e0f6b6a545cdaf8a9f|2    |\n",
      "|7e4bebe20140a71b34263a659ba1ce11|2    |\n",
      "|98a8081d6f922b47f0b48d0b10665047|2    |\n",
      "|453c2895f29b6d9a47f8cb48e00b024b|2    |\n",
      "|216ab90e27f18940cfac8f9f02fb4239|2    |\n",
      "+--------------------------------+-----+\n",
      "only showing top 20 rows\n",
      "\n"
     ]
    },
    {
     "name": "stderr",
     "output_type": "stream",
     "text": [
      "                                                                                \r"
     ]
    }
   ],
   "source": [
    "df_customers.groupBy('customer_unique_id')\\\n",
    "    .count()\\\n",
    "        .filter(col('count')>1)\\\n",
    "            .show(truncate=False)"
   ]
  },
  {
   "cell_type": "code",
   "execution_count": 13,
   "id": "47613d5a",
   "metadata": {},
   "outputs": [
    {
     "name": "stderr",
     "output_type": "stream",
     "text": [
      "                                                                                \r"
     ]
    },
    {
     "name": "stdout",
     "output_type": "stream",
     "text": [
      "+--------------------------------+--------------------------------+------------------------+--------------+--------------+\n",
      "|customer_id                     |customer_unique_id              |customer_zip_code_prefix|customer_city |customer_state|\n",
      "+--------------------------------+--------------------------------+------------------------+--------------+--------------+\n",
      "|ce990e6331cacfbe30d267a2f847276a|4b384b778ebc0449d0244902bfce7beb|30170                   |belo horizonte|MG            |\n",
      "|da81a00964085d84df193ee32dc97d20|4b384b778ebc0449d0244902bfce7beb|30170                   |belo horizonte|MG            |\n",
      "+--------------------------------+--------------------------------+------------------------+--------------+--------------+\n",
      "\n"
     ]
    }
   ],
   "source": [
    "df_customers.filter(col('customer_unique_id')=='4b384b778ebc0449d0244902bfce7beb').show(truncate=False)"
   ]
  },
  {
   "cell_type": "markdown",
   "id": "17bad6ff",
   "metadata": {},
   "source": [
    "Decisão: Avaliando a estrutura recebida, identificou-se que a coluna customer_id relaciona-se com o arquivo de ordens - olist_orders_dataset.csv e que podemos gerar uma dimensão de clientes 1 x m com as clunas customer_unique_id, customer_zip_code_prefix, customer_xity, customer_state"
   ]
  },
  {
   "cell_type": "markdown",
   "id": "c23bdfc1",
   "metadata": {},
   "source": [
    "### Separando um dataset 1 x m de customers"
   ]
  },
  {
   "cell_type": "code",
   "execution_count": 14,
   "id": "43a3ba13",
   "metadata": {},
   "outputs": [
    {
     "name": "stderr",
     "output_type": "stream",
     "text": [
      "[Stage 20:>                                                         (0 + 1) / 1]\r"
     ]
    },
    {
     "name": "stdout",
     "output_type": "stream",
     "text": [
      "+--------------------+------------------------+--------------------+--------------+\n",
      "|  customer_unique_id|customer_zip_code_prefix|       customer_city|customer_state|\n",
      "+--------------------+------------------------+--------------------+--------------+\n",
      "|a5844ba4bfc8d0cc6...|                    8225|           sao paulo|            SP|\n",
      "|fa7e6f153b7724fda...|                   25850|      paraiba do sul|            RJ|\n",
      "|ca87392503c5a503f...|                   78580|       alta floresta|            MT|\n",
      "|c1a56ed1e45dde683...|                   27913|               macae|            RJ|\n",
      "|f48a9bdc7d38b43bb...|                   36080|        juiz de fora|            MG|\n",
      "|9e1a43ff4b344d862...|                   23059|      rio de janeiro|            RJ|\n",
      "|3f9d987156fddc08e...|                   13840|          mogi-guacu|            SP|\n",
      "|76967eb50da869a31...|                    2410|           sao paulo|            SP|\n",
      "|728bcc9495f951828...|                    4295|           sao paulo|            SP|\n",
      "|6ef326dc1bc04a8e6...|                   13032|            campinas|            SP|\n",
      "|53c7fe58f9f5f5d8a...|                   96400|                bage|            RS|\n",
      "|02f1bf7b0a3e8e4f9...|                   25870|comendador levy g...|            RJ|\n",
      "|fae9d22f06d65f5aa...|                    5625|           sao paulo|            SP|\n",
      "|44bd7571a7dad9683...|                    7500|        santa isabel|            SP|\n",
      "|aa884350c48f72808...|                   13563|          sao carlos|            SP|\n",
      "|e3a5f5e65ff3b7808...|                   96508|    cachoeira do sul|            RS|\n",
      "|ad0a5744b9ef9ec05...|                   36220|      antonio carlos|            MG|\n",
      "|39455728f0fbc1ed6...|                   36750|               palma|            MG|\n",
      "|0058e7db269cc1155...|                   13026|            campinas|            SP|\n",
      "|377b1fa711a628cfb...|                   14530|        miguelopolis|            SP|\n",
      "+--------------------+------------------------+--------------------+--------------+\n",
      "only showing top 20 rows\n",
      "\n"
     ]
    },
    {
     "name": "stderr",
     "output_type": "stream",
     "text": [
      "                                                                                \r"
     ]
    }
   ],
   "source": [
    "df_customers_unique = df_customers.select('customer_unique_id', 'customer_zip_code_prefix', 'customer_city', 'customer_state').distinct()\n",
    "df_customers_unique.show(truncate=True)"
   ]
  },
  {
   "cell_type": "markdown",
   "id": "3e6a5b49",
   "metadata": {},
   "source": [
    "### Salvando arquivos na silver"
   ]
  },
  {
   "cell_type": "markdown",
   "id": "e16d1688",
   "metadata": {},
   "source": [
    "Salvando df Dm_customers_order"
   ]
  },
  {
   "cell_type": "code",
   "execution_count": 15,
   "id": "fc7553b9",
   "metadata": {},
   "outputs": [
    {
     "name": "stderr",
     "output_type": "stream",
     "text": [
      "25/05/19 16:05:40 WARN SparkStringUtils: Truncated the string representation of a plan since it was too large. This behavior can be adjusted by setting 'spark.sql.debug.maxToStringFields'.\n",
      "                                                                                \r"
     ]
    }
   ],
   "source": [
    "Path(os.path.join(src_path.format(stage='silver'), 'olit_dm_customers_order')).mkdir(parents=True, exist_ok=True)\n",
    "df_customers = df_customers.select('customer_id', 'customer_unique_id')\n",
    "df_customers.write.mode('overwrite')\\\n",
    "    .format('delta')\\\n",
    "        .option(\"compression\", \"snappy\")\\\n",
    "            .save(os.path.join(src_path.format(stage='silver'), 'olit_dm_customers_order'))"
   ]
  },
  {
   "cell_type": "code",
   "execution_count": 16,
   "id": "c0fdf77d",
   "metadata": {},
   "outputs": [
    {
     "name": "stderr",
     "output_type": "stream",
     "text": [
      "                                                                                \r"
     ]
    }
   ],
   "source": [
    "Path(os.path.join(src_path.format(stage='silver'), 'olit_dm_customers')).mkdir(parents=True, exist_ok=True)\n",
    "df_customers_unique.write.mode('overwrite')\\\n",
    "    .format('delta')\\\n",
    "    .option(\"compression\", \"snappy\")\\\n",
    "        .save(os.path.join(src_path.format(stage='silver'), 'olit_dm_customers'))"
   ]
  },
  {
   "cell_type": "code",
   "execution_count": null,
   "id": "5766fc81",
   "metadata": {},
   "outputs": [],
   "source": []
  },
  {
   "cell_type": "markdown",
   "id": "a1eacc5f",
   "metadata": {},
   "source": [
    "# Analise geolocation dataset"
   ]
  },
  {
   "cell_type": "code",
   "execution_count": 17,
   "id": "2861fb0f",
   "metadata": {},
   "outputs": [
    {
     "name": "stderr",
     "output_type": "stream",
     "text": [
      "                                                                                \r"
     ]
    },
    {
     "name": "stdout",
     "output_type": "stream",
     "text": [
      "+---------------------------+-------------------+-------------------+----------------+-----------------+\n",
      "|geolocation_zip_code_prefix|    geolocation_lat|    geolocation_lng|geolocation_city|geolocation_state|\n",
      "+---------------------------+-------------------+-------------------+----------------+-----------------+\n",
      "|                       1037| -23.54562128115268| -46.63929204800168|       sao paulo|               SP|\n",
      "|                       1046|-23.546081127035535| -46.64482029837157|       sao paulo|               SP|\n",
      "|                       1046| -23.54612896641469| -46.64295148361138|       sao paulo|               SP|\n",
      "|                       1041|  -23.5443921648681| -46.63949930627844|       sao paulo|               SP|\n",
      "|                       1035|-23.541577961711493| -46.64160722329613|       sao paulo|               SP|\n",
      "|                       1012|-23.547762303364266| -46.63536053788448|       são paulo|               SP|\n",
      "|                       1047|-23.546273112412678| -46.64122516971552|       sao paulo|               SP|\n",
      "|                       1013|-23.546923208436723|  -46.6342636964915|       sao paulo|               SP|\n",
      "|                       1029|-23.543769055769133| -46.63427784085132|       sao paulo|               SP|\n",
      "|                       1011|-23.547639550320632| -46.63603162315495|       sao paulo|               SP|\n",
      "|                       1013|-23.547325128224376| -46.63418378613892|       sao paulo|               SP|\n",
      "|                       1032| -23.53841810407414|-46.634778375266734|       sao paulo|               SP|\n",
      "|                       1014|-23.546435343326205| -46.63383023397196|       sao paulo|               SP|\n",
      "|                       1012|-23.548945985189434| -46.63467113292871|       sao paulo|               SP|\n",
      "|                       1037|-23.545187340816042| -46.63785524104107|       são paulo|               SP|\n",
      "|                       1046|-23.546081127035535| -46.64482029837157|       sao paulo|               SP|\n",
      "|                       1039|-23.541883009983316| -46.63991946670314|       sao paulo|               SP|\n",
      "|                       1024|-23.541389521053937|-46.629899087812184|       são paulo|               SP|\n",
      "|                       1009| -23.54693540437998| -46.63658792659698|       sao paulo|               SP|\n",
      "|                       1046|-23.545884279214015|-46.643163191240035|       sao paulo|               SP|\n",
      "+---------------------------+-------------------+-------------------+----------------+-----------------+\n",
      "only showing top 20 rows\n",
      "\n"
     ]
    }
   ],
   "source": [
    "df_geolocation = spark.read.csv(os.path.join(src_path.format(stage='bronze'), 'olist_geolocation_dataset.csv'), header=True, sep=\",\", inferSchema=True)\n",
    "df_geolocation.show()"
   ]
  },
  {
   "cell_type": "markdown",
   "id": "0f13bd03",
   "metadata": {},
   "source": [
    "Vamos se há algum padrão que devemos seguir"
   ]
  },
  {
   "cell_type": "code",
   "execution_count": 18,
   "id": "c51fe09d",
   "metadata": {},
   "outputs": [
    {
     "name": "stderr",
     "output_type": "stream",
     "text": [
      "[Stage 52:>                                                         (0 + 1) / 1]\r"
     ]
    },
    {
     "name": "stdout",
     "output_type": "stream",
     "text": [
      "+---------------------------+-------------------+-------------------+----------------+-----------------+-----+\n",
      "|geolocation_zip_code_prefix|    geolocation_lat|    geolocation_lng|geolocation_city|geolocation_state|count|\n",
      "+---------------------------+-------------------+-------------------+----------------+-----------------+-----+\n",
      "|                       1026| -23.53925652899767|-46.633440525535235|       sao paulo|               SP|    2|\n",
      "|                       1106|-23.531062064948905|-46.629505278925556|       sao paulo|               SP|    2|\n",
      "|                       1241|-23.545792634196992|  -46.6567234730798|       sao paulo|               SP|    3|\n",
      "|                       1226|-23.538190850683794|-46.651323227306854|       são paulo|               SP|    4|\n",
      "|                       1223|-23.543735510964265| -46.65415427699233|       sao paulo|               SP|    2|\n",
      "|                       1303|-23.551504721622702| -46.64945164585375|       sao paulo|               SP|    3|\n",
      "|                       1306|-23.554051920624367|  -46.6487385976975|       são paulo|               SP|    4|\n",
      "|                       1306|-23.554051920624367|  -46.6487385976975|       sao paulo|               SP|    6|\n",
      "|                       1332|-23.560667077990644| -46.65212849125743|       sao paulo|               SP|    2|\n",
      "|                       1404| -23.56708790175425|-46.654359318339246|       sao paulo|               SP|    7|\n",
      "|                       1433|-23.577661519562607| -46.67074707591319|       sao paulo|               SP|    2|\n",
      "|                       1441|-23.577709985861734| -46.69330789771487|       sao paulo|               SP|    4|\n",
      "|                       1415| -23.55150606272721|-46.654135569940564|       sao paulo|               SP|    2|\n",
      "|                       1532| -23.57418642936694|  -46.6357481924808|       são paulo|               SP|    3|\n",
      "|                       2013|-23.501039877603997|-46.637789893011686|       sao paulo|               SP|    2|\n",
      "|                       2022|   -23.503235899124| -46.63832674543861|       sao paulo|               SP|    3|\n",
      "|                       2077|-23.501848610046736| -46.59854287330482|       sao paulo|               SP|    4|\n",
      "|                       2180| -23.51796174271452| -46.56586340175424|       sao paulo|               SP|    3|\n",
      "|                       2168| -23.52218624279628| -46.57970414962962|       sao paulo|               SP|    2|\n",
      "|                       2121|-23.509798868168936|-46.592326749379616|       sao paulo|               SP|    2|\n",
      "+---------------------------+-------------------+-------------------+----------------+-----------------+-----+\n",
      "only showing top 20 rows\n",
      "\n"
     ]
    },
    {
     "name": "stderr",
     "output_type": "stream",
     "text": [
      "                                                                                \r"
     ]
    }
   ],
   "source": [
    "df_geolocation.groupBy(df_geolocation.columns).count().filter(col('count') > 1).show(truncate=True)"
   ]
  },
  {
   "cell_type": "code",
   "execution_count": 19,
   "id": "b4c2105e",
   "metadata": {},
   "outputs": [
    {
     "name": "stdout",
     "output_type": "stream",
     "text": [
      "+---------------------------+-------------------+-------------------+----------------+-----------------+\n",
      "|geolocation_zip_code_prefix|    geolocation_lat|    geolocation_lng|geolocation_city|geolocation_state|\n",
      "+---------------------------+-------------------+-------------------+----------------+-----------------+\n",
      "|                       1026|-23.539494799586286|-46.632843914149746|       são paulo|               SP|\n",
      "|                       1026| -23.53984025062037|  -46.6302639919499|       sao paulo|               SP|\n",
      "|                       1026| -23.53984025062037|  -46.6302639919499|       sao paulo|               SP|\n",
      "|                       1026|-23.539439503750902| -46.63306386663973|       sao paulo|               SP|\n",
      "|                       1026|-23.539167607276784| -46.63524162031853|       sao paulo|               SP|\n",
      "|                       1026|-23.539167607276784| -46.63524162031853|       sao paulo|               SP|\n",
      "|                       1026|-23.538895356079482| -46.63545499624909|       sao paulo|               SP|\n",
      "|                       1026|-23.539616057447088|-46.631187497778285|       sao paulo|               SP|\n",
      "|                       1026| -23.53984025062037|  -46.6302639919499|       são paulo|               SP|\n",
      "|                       1026|-23.539425401610018| -46.63342428573489|       sao paulo|               SP|\n",
      "|                       1026| -23.54001724395527|-46.629740913122546|       sao paulo|               SP|\n",
      "|                       1026| -23.53984025062037|  -46.6302639919499|       sao paulo|               SP|\n",
      "|                       1026| -23.53925652899767| -46.63316199708581|       sao paulo|               SP|\n",
      "|                       1026|-23.539425401610018| -46.63342428573489|       sao paulo|               SP|\n",
      "|                       1026|-23.539439503750902| -46.63306386663973|       sao paulo|               SP|\n",
      "|                       1026| -23.53984025062037|  -46.6302639919499|       sao paulo|               SP|\n",
      "|                       1026| -23.54001724395527|-46.629740913122546|       sao paulo|               SP|\n",
      "|                       1026| -23.53984025062037|  -46.6302639919499|       sao paulo|               SP|\n",
      "|                       1026|-23.540654472935568| -46.62894329724743|       sao paulo|               SP|\n",
      "|                       1026| -23.53984025062037|  -46.6302639919499|       sao paulo|               SP|\n",
      "+---------------------------+-------------------+-------------------+----------------+-----------------+\n",
      "only showing top 20 rows\n",
      "\n"
     ]
    }
   ],
   "source": [
    "df_geolocation.filter(col('geolocation_zip_code_prefix') == '1026').show(truncate=True)"
   ]
  },
  {
   "cell_type": "markdown",
   "id": "d1f978be",
   "metadata": {},
   "source": [
    "Ha dados duplicados e não há um padrão. Isso acontece devido ao range de de endereços dentro de um mesmo cep (representado pela chave geolocation zip code). Para sequência e nosso objetivo, vamos tornar unicos nossos cep, pois a ideia é ter o range e o cep suprirá nossa necessidade"
   ]
  },
  {
   "cell_type": "code",
   "execution_count": 20,
   "id": "e52b88fc",
   "metadata": {},
   "outputs": [],
   "source": [
    "df_geolocation = df_geolocation.select('geolocation_zip_code_prefix', 'geolocation_lat', 'geolocation_lng', 'geolocation_city', 'geolocation_state')\\\n",
    "    .dropDuplicates(['geolocation_zip_code_prefix'])"
   ]
  },
  {
   "cell_type": "code",
   "execution_count": 21,
   "id": "735c04e1",
   "metadata": {},
   "outputs": [
    {
     "name": "stderr",
     "output_type": "stream",
     "text": [
      "[Stage 54:=============================>                            (1 + 1) / 2]\r"
     ]
    },
    {
     "name": "stdout",
     "output_type": "stream",
     "text": [
      "+---------------------------+-------------------+-------------------+----------------+-----------------+\n",
      "|geolocation_zip_code_prefix|    geolocation_lat|    geolocation_lng|geolocation_city|geolocation_state|\n",
      "+---------------------------+-------------------+-------------------+----------------+-----------------+\n",
      "|                       1026|-23.539494799586286|-46.632843914149746|       são paulo|               SP|\n",
      "+---------------------------+-------------------+-------------------+----------------+-----------------+\n",
      "\n"
     ]
    },
    {
     "name": "stderr",
     "output_type": "stream",
     "text": [
      "                                                                                \r"
     ]
    }
   ],
   "source": [
    "df_geolocation.filter(col('geolocation_zip_code_prefix') == '1026').show(truncate=True)"
   ]
  },
  {
   "cell_type": "markdown",
   "id": "6a987ab9",
   "metadata": {},
   "source": [
    "Agora, vamos verificar se há dados vazios ou nulos"
   ]
  },
  {
   "cell_type": "code",
   "execution_count": 22,
   "id": "b75821cd",
   "metadata": {},
   "outputs": [
    {
     "name": "stderr",
     "output_type": "stream",
     "text": [
      "[Stage 57:>                                                         (0 + 2) / 2]\r"
     ]
    },
    {
     "name": "stdout",
     "output_type": "stream",
     "text": [
      "+---------------------------+---------------+---------------+----------------+-----------------+\n",
      "|geolocation_zip_code_prefix|geolocation_lat|geolocation_lng|geolocation_city|geolocation_state|\n",
      "+---------------------------+---------------+---------------+----------------+-----------------+\n",
      "+---------------------------+---------------+---------------+----------------+-----------------+\n",
      "\n"
     ]
    },
    {
     "name": "stderr",
     "output_type": "stream",
     "text": [
      "                                                                                \r"
     ]
    }
   ],
   "source": [
    "df_geolocation.filter(col('geolocation_zip_code_prefix').isNull()).show()"
   ]
  },
  {
   "cell_type": "code",
   "execution_count": 23,
   "id": "f4a18b95",
   "metadata": {},
   "outputs": [
    {
     "name": "stdout",
     "output_type": "stream",
     "text": [
      "+---------------------------+---------------+---------------+----------------+-----------------+\n",
      "|geolocation_zip_code_prefix|geolocation_lat|geolocation_lng|geolocation_city|geolocation_state|\n",
      "+---------------------------+---------------+---------------+----------------+-----------------+\n",
      "+---------------------------+---------------+---------------+----------------+-----------------+\n",
      "\n"
     ]
    }
   ],
   "source": [
    "df_geolocation.filter(col('geolocation_zip_code_prefix')=='').show()"
   ]
  },
  {
   "cell_type": "markdown",
   "id": "902c2e95",
   "metadata": {},
   "source": [
    "Agora antes de salvar, mas aguardar pelo arquivo de sellers que também possui geolocalização para completarmos"
   ]
  },
  {
   "cell_type": "code",
   "execution_count": null,
   "id": "9b25e84e",
   "metadata": {},
   "outputs": [],
   "source": []
  },
  {
   "cell_type": "markdown",
   "id": "de3f26ea",
   "metadata": {},
   "source": [
    "# Analise do arquivo Olist Order Items "
   ]
  },
  {
   "cell_type": "code",
   "execution_count": 25,
   "id": "1234edd5",
   "metadata": {},
   "outputs": [
    {
     "name": "stderr",
     "output_type": "stream",
     "text": [
      "                                                                                \r"
     ]
    },
    {
     "name": "stdout",
     "output_type": "stream",
     "text": [
      "+--------------------------------+-------------+--------------------------------+--------------------------------+-------------------+------+-------------+\n",
      "|order_id                        |order_item_id|product_id                      |seller_id                       |shipping_limit_date|price |freight_value|\n",
      "+--------------------------------+-------------+--------------------------------+--------------------------------+-------------------+------+-------------+\n",
      "|00010242fe8c5a6d1ba2dd792cb16214|1            |4244733e06e7ecb4970a6e2683c13e61|48436dade18ac8b2bce089ec2a041202|2017-09-19 09:45:35|58.9  |13.29        |\n",
      "|00018f77f2f0320c557190d7a144bdd3|1            |e5f2d52b802189ee658865ca93d83a8f|dd7ddc04e1b6c2c614352b383efe2d36|2017-05-03 11:05:13|239.9 |19.93        |\n",
      "|000229ec398224ef6ca0657da4fc703e|1            |c777355d18b72b67abbeef9df44fd0fd|5b51032eddd242adc84c38acab88f23d|2018-01-18 14:48:30|199.0 |17.87        |\n",
      "|00024acbcdf0a6daa1e931b038114c75|1            |7634da152a4610f1595efa32f14722fc|9d7a1d34a5052409006425275ba1c2b4|2018-08-15 10:10:18|12.99 |12.79        |\n",
      "|00042b26cf59d7ce69dfabb4e55b4fd9|1            |ac6c3623068f30de03045865e4e10089|df560393f3a51e74553ab94004ba5c87|2017-02-13 13:57:51|199.9 |18.14        |\n",
      "|00048cc3ae777c65dbb7d2a0634bc1ea|1            |ef92defde845ab8450f9d70c526ef70f|6426d21aca402a131fc0a5d0960a3c90|2017-05-23 03:55:27|21.9  |12.69        |\n",
      "|00054e8431b9d7675808bcb819fb4a32|1            |8d4f2bb7e93e6710a28f34fa83ee7d28|7040e82f899a04d1b434b795a43b4617|2017-12-14 12:10:31|19.9  |11.85        |\n",
      "|000576fe39319847cbb9d288c5617fa6|1            |557d850972a7d6f792fd18ae1400d9b6|5996cddab893a4652a15592fb58ab8db|2018-07-10 12:30:45|810.0 |70.75        |\n",
      "|0005a1a1728c9d785b8e2b08b904576c|1            |310ae3c140ff94b03219ad0adc3c778f|a416b6a846a11724393025641d4edd5e|2018-03-26 18:31:29|145.95|11.65        |\n",
      "|0005f50442cb953dcd1d21e1fb923495|1            |4535b0e1091c278dfd193e5a1d63b39f|ba143b05f0110f0dc71ad71b4466ce92|2018-07-06 14:10:56|53.99 |11.4         |\n",
      "+--------------------------------+-------------+--------------------------------+--------------------------------+-------------------+------+-------------+\n",
      "only showing top 10 rows\n",
      "\n"
     ]
    }
   ],
   "source": [
    "df_order_itens = spark.read.csv(os.path.join(src_path.format(stage='bronze'), 'olist_order_items_dataset.csv'), header=True, sep=\",\", inferSchema=True)\n",
    "df_order_itens.show(truncate=False, n=10)"
   ]
  },
  {
   "cell_type": "code",
   "execution_count": 26,
   "id": "b902567b",
   "metadata": {},
   "outputs": [
    {
     "name": "stdout",
     "output_type": "stream",
     "text": [
      "+--------------------+-------------+--------------------+--------------------+-------------------+-----+-------------+\n",
      "|            order_id|order_item_id|          product_id|           seller_id|shipping_limit_date|price|freight_value|\n",
      "+--------------------+-------------+--------------------+--------------------+-------------------+-----+-------------+\n",
      "|00010242fe8c5a6d1...|            1|4244733e06e7ecb49...|48436dade18ac8b2b...|2017-09-19 09:45:35| 58.9|        13.29|\n",
      "+--------------------+-------------+--------------------+--------------------+-------------------+-----+-------------+\n",
      "\n"
     ]
    }
   ],
   "source": [
    "df_order_itens.filter(col('order_id')=='00010242fe8c5a6d1ba2dd792cb16214').show(truncate=True)"
   ]
  },
  {
   "cell_type": "markdown",
   "id": "483bc40f",
   "metadata": {},
   "source": [
    "Entendendo o dataset, vê-se que que a coluna order_id é o numero do pagamento, o order_item_id é o numero da linha da nota, e os damais são produtos, vendedor e entregas.\n",
    "\n",
    "Vamos verificar se há dados vazios ou nulos em colunas relevantes como a producto, seller e order_id"
   ]
  },
  {
   "cell_type": "code",
   "execution_count": 27,
   "id": "24df43e5",
   "metadata": {},
   "outputs": [
    {
     "name": "stdout",
     "output_type": "stream",
     "text": [
      "+--------+-------------+----------+---------+-------------------+-----+-------------+\n",
      "|order_id|order_item_id|product_id|seller_id|shipping_limit_date|price|freight_value|\n",
      "+--------+-------------+----------+---------+-------------------+-----+-------------+\n",
      "+--------+-------------+----------+---------+-------------------+-----+-------------+\n",
      "\n"
     ]
    }
   ],
   "source": [
    "df_order_itens.filter((col('order_id').isNull()) | (col('order_id')=='')).show()"
   ]
  },
  {
   "cell_type": "code",
   "execution_count": 28,
   "id": "d4490366",
   "metadata": {},
   "outputs": [
    {
     "name": "stdout",
     "output_type": "stream",
     "text": [
      "+--------+-------------+----------+---------+-------------------+-----+-------------+\n",
      "|order_id|order_item_id|product_id|seller_id|shipping_limit_date|price|freight_value|\n",
      "+--------+-------------+----------+---------+-------------------+-----+-------------+\n",
      "+--------+-------------+----------+---------+-------------------+-----+-------------+\n",
      "\n"
     ]
    }
   ],
   "source": [
    "df_order_itens.filter((col('product_id').isNull()) | (col('product_id')=='')).show()"
   ]
  },
  {
   "cell_type": "code",
   "execution_count": 29,
   "id": "16801228",
   "metadata": {},
   "outputs": [
    {
     "name": "stdout",
     "output_type": "stream",
     "text": [
      "+--------+-------------+----------+---------+-------------------+-----+-------------+\n",
      "|order_id|order_item_id|product_id|seller_id|shipping_limit_date|price|freight_value|\n",
      "+--------+-------------+----------+---------+-------------------+-----+-------------+\n",
      "+--------+-------------+----------+---------+-------------------+-----+-------------+\n",
      "\n"
     ]
    }
   ],
   "source": [
    "df_order_itens.filter((col('seller_id').isNull()) | (col('seller_id')=='')).show()"
   ]
  },
  {
   "cell_type": "markdown",
   "id": "47003ab8",
   "metadata": {},
   "source": [
    "Não foi identificado dados vazios ou nulos, então vamos prosseguir com a tipagem dos dados"
   ]
  },
  {
   "cell_type": "code",
   "execution_count": 30,
   "id": "a9eafb8d",
   "metadata": {},
   "outputs": [
    {
     "name": "stdout",
     "output_type": "stream",
     "text": [
      "root\n",
      " |-- order_id: string (nullable = true)\n",
      " |-- order_item_id: integer (nullable = true)\n",
      " |-- product_id: string (nullable = true)\n",
      " |-- seller_id: string (nullable = true)\n",
      " |-- shipping_limit_date: timestamp (nullable = true)\n",
      " |-- price: double (nullable = true)\n",
      " |-- freight_value: double (nullable = true)\n",
      "\n"
     ]
    }
   ],
   "source": [
    "df_order_itens.printSchema()"
   ]
  },
  {
   "cell_type": "markdown",
   "id": "288e508f",
   "metadata": {},
   "source": [
    "Vamos salvar o parquet"
   ]
  },
  {
   "cell_type": "code",
   "execution_count": 31,
   "id": "ea7b4d96",
   "metadata": {},
   "outputs": [
    {
     "name": "stderr",
     "output_type": "stream",
     "text": [
      "                                                                                \r"
     ]
    }
   ],
   "source": [
    "Path(os.path.join(src_path.format(stage='silver'), 'olit_dm_order_itens')).mkdir(parents=True, exist_ok=True)\n",
    "df_order_itens.write.mode('overwrite')\\\n",
    "    .format('delta')\\\n",
    "        .option(\"compression\", \"snappy\")\\\n",
    "            .save(os.path.join(src_path.format(stage='silver'), 'olit_dm_order_itens'))"
   ]
  },
  {
   "cell_type": "code",
   "execution_count": null,
   "id": "d8a02ead",
   "metadata": {},
   "outputs": [],
   "source": []
  },
  {
   "cell_type": "markdown",
   "id": "47868077",
   "metadata": {},
   "source": [
    "# Analise do arquivo order payments dataset"
   ]
  },
  {
   "cell_type": "code",
   "execution_count": 32,
   "id": "be683362",
   "metadata": {},
   "outputs": [
    {
     "name": "stdout",
     "output_type": "stream",
     "text": [
      "+--------------------------------+------------------+------------+--------------------+-------------+\n",
      "|order_id                        |payment_sequential|payment_type|payment_installments|payment_value|\n",
      "+--------------------------------+------------------+------------+--------------------+-------------+\n",
      "|b81ef226f3fe1789b1e8b2acac839d17|1                 |credit_card |8                   |99.33        |\n",
      "|a9810da82917af2d9aefd1278f1dcfa0|1                 |credit_card |1                   |24.39        |\n",
      "|25e8ea4e93396b6fa0d3dd708e76c1bd|1                 |credit_card |1                   |65.71        |\n",
      "|ba78997921bbcdc1373bb41e913ab953|1                 |credit_card |8                   |107.78       |\n",
      "|42fdf880ba16b47b59251dd489d4441a|1                 |credit_card |2                   |128.45       |\n",
      "|298fcdf1f73eb413e4d26d01b25bc1cd|1                 |credit_card |2                   |96.12        |\n",
      "|771ee386b001f06208a7419e4fc1bbd7|1                 |credit_card |1                   |81.16        |\n",
      "|3d7239c394a212faae122962df514ac7|1                 |credit_card |3                   |51.84        |\n",
      "|1f78449c87a54faf9e96e88ba1491fa9|1                 |credit_card |6                   |341.09       |\n",
      "|0573b5e23cbd798006520e1d5b4c6714|1                 |boleto      |1                   |51.95        |\n",
      "+--------------------------------+------------------+------------+--------------------+-------------+\n",
      "only showing top 10 rows\n",
      "\n"
     ]
    }
   ],
   "source": [
    "df_order_payments = spark.read.csv(os.path.join(src_path.format(stage='bronze'), 'olist_order_payments_dataset.csv'), header=True, sep=\",\", inferSchema=True)\n",
    "df_order_payments.show(truncate=False, n=10)"
   ]
  },
  {
   "cell_type": "markdown",
   "id": "2ca15bba",
   "metadata": {},
   "source": [
    "A primeira analiase, indentifico que esses dados são referentes à caracterisca de cada pagamento"
   ]
  },
  {
   "cell_type": "markdown",
   "id": "930086eb",
   "metadata": {},
   "source": [
    "Vamos validar se há duplicados ou nulos na coluna de order_id"
   ]
  },
  {
   "cell_type": "code",
   "execution_count": 33,
   "id": "e61ff861",
   "metadata": {},
   "outputs": [
    {
     "name": "stdout",
     "output_type": "stream",
     "text": [
      "+--------+------------------+------------+--------------------+-------------+\n",
      "|order_id|payment_sequential|payment_type|payment_installments|payment_value|\n",
      "+--------+------------------+------------+--------------------+-------------+\n",
      "+--------+------------------+------------+--------------------+-------------+\n",
      "\n"
     ]
    }
   ],
   "source": [
    "df_order_payments.filter(col('order_id').isNull()).show()"
   ]
  },
  {
   "cell_type": "markdown",
   "id": "0d984186",
   "metadata": {},
   "source": [
    "Não há dados nulos"
   ]
  },
  {
   "cell_type": "code",
   "execution_count": 34,
   "id": "06473ce2",
   "metadata": {},
   "outputs": [
    {
     "name": "stderr",
     "output_type": "stream",
     "text": [
      "[Stage 88:=============================>                            (1 + 1) / 2]\r"
     ]
    },
    {
     "name": "stdout",
     "output_type": "stream",
     "text": [
      "+--------+------------------+------------+--------------------+-------------+-----+\n",
      "|order_id|payment_sequential|payment_type|payment_installments|payment_value|count|\n",
      "+--------+------------------+------------+--------------------+-------------+-----+\n",
      "+--------+------------------+------------+--------------------+-------------+-----+\n",
      "\n"
     ]
    },
    {
     "name": "stderr",
     "output_type": "stream",
     "text": [
      "                                                                                \r"
     ]
    }
   ],
   "source": [
    "df_order_payments.groupBy(df_order_payments.columns).count().filter(col('count')>1).show()"
   ]
  },
  {
   "cell_type": "markdown",
   "id": "74075228",
   "metadata": {},
   "source": [
    "Não há dados duplicados, vamos verificar a tipagem dos dados"
   ]
  },
  {
   "cell_type": "code",
   "execution_count": 35,
   "id": "6c2c6aee",
   "metadata": {},
   "outputs": [
    {
     "name": "stdout",
     "output_type": "stream",
     "text": [
      "root\n",
      " |-- order_id: string (nullable = true)\n",
      " |-- payment_sequential: integer (nullable = true)\n",
      " |-- payment_type: string (nullable = true)\n",
      " |-- payment_installments: integer (nullable = true)\n",
      " |-- payment_value: double (nullable = true)\n",
      "\n"
     ]
    }
   ],
   "source": [
    "df_order_payments.printSchema()"
   ]
  },
  {
   "cell_type": "markdown",
   "id": "76fab265",
   "metadata": {},
   "source": [
    "Vamos salvar o dataset em parquet"
   ]
  },
  {
   "cell_type": "code",
   "execution_count": 36,
   "id": "6bc5e624",
   "metadata": {},
   "outputs": [
    {
     "name": "stderr",
     "output_type": "stream",
     "text": [
      "                                                                                \r"
     ]
    }
   ],
   "source": [
    "Path(os.path.join(src_path.format(stage='silver'), 'olit_order_payment')).mkdir(parents=True, exist_ok=True)\n",
    "df_order_payments.write.mode('overwrite')\\\n",
    "    .format('delta')\\\n",
    "        .option(\"compression\", \"snappy\")\\\n",
    "            .save(os.path.join(src_path.format(stage='silver'), 'olit_order_payment'))"
   ]
  },
  {
   "cell_type": "markdown",
   "id": "589bc11d",
   "metadata": {},
   "source": [
    "# Analisando o arquivo order reviews"
   ]
  },
  {
   "cell_type": "code",
   "execution_count": 37,
   "id": "43b85d2e",
   "metadata": {},
   "outputs": [
    {
     "name": "stderr",
     "output_type": "stream",
     "text": [
      "                                                                                \r"
     ]
    },
    {
     "name": "stdout",
     "output_type": "stream",
     "text": [
      "+--------------------------------+--------------------------------+------------+--------------------+------------------------------------------------------------------------------------------------------------------------------------------------------------------------------+--------------------+-----------------------+\n",
      "|review_id                       |order_id                        |review_score|review_comment_title|review_comment_message                                                                                                                                                        |review_creation_date|review_answer_timestamp|\n",
      "+--------------------------------+--------------------------------+------------+--------------------+------------------------------------------------------------------------------------------------------------------------------------------------------------------------------+--------------------+-----------------------+\n",
      "|7bc2406110b926393aa56f80a40eba40|73fc7af87114b39712e6da79b0a377eb|4           |NULL                |NULL                                                                                                                                                                          |2018-01-18 00:00:00 |2018-01-18 21:46:59    |\n",
      "|80e641a11e56f04c1ad469d5645fdfde|a548910a1c6147796b98fdf73dbeba33|5           |NULL                |NULL                                                                                                                                                                          |2018-03-10 00:00:00 |2018-03-11 03:05:13    |\n",
      "|228ce5500dc1d8e020d8d1322874b6f0|f9e4b658b201a9f2ecdecbb34bed034b|5           |NULL                |NULL                                                                                                                                                                          |2018-02-17 00:00:00 |2018-02-18 14:36:24    |\n",
      "|e64fb393e7b32834bb789ff8bb30750e|658677c97b385a9be170737859d3511b|5           |NULL                |Recebi bem antes do prazo estipulado.                                                                                                                                         |2017-04-21 00:00:00 |2017-04-21 22:02:06    |\n",
      "|f7c4243c7fe1938f181bec41a392bdeb|8e6bfb81e283fa7e4f11123a3fb894f1|5           |NULL                |Parabéns lojas lannister adorei comprar pela Internet seguro e prático Parabéns a todos feliz Páscoa                                                                          |2018-03-01 00:00:00 |2018-03-02 10:26:53    |\n",
      "|15197aa66ff4d0650b5434f1b46cda19|b18dcdf73be66366873cd26c5724d1dc|1           |NULL                |NULL                                                                                                                                                                          |2018-04-13 00:00:00 |2018-04-16 00:39:37    |\n",
      "|07f9bee5d1b850860defd761afa7ff16|e48aa0d2dcec3a2e87348811bcfdf22b|5           |NULL                |NULL                                                                                                                                                                          |2017-07-16 00:00:00 |2017-07-18 19:30:34    |\n",
      "|7c6400515c67679fbee952a7525281ef|c31a859e34e3adac22f376954e19b39d|5           |NULL                |NULL                                                                                                                                                                          |2018-08-14 00:00:00 |2018-08-14 21:36:06    |\n",
      "|a3f6f7f6f433de0aefbb97da197c554c|9c214ac970e84273583ab523dfafd09b|5           |NULL                |NULL                                                                                                                                                                          |2017-05-17 00:00:00 |2017-05-18 12:05:37    |\n",
      "|8670d52e15e00043ae7de4c01cc2fe06|b9bf720beb4ab3728760088589c62129|4           |recomendo           |aparelho eficiente. no site a marca do aparelho esta impresso como 3desinfector e ao chegar esta com outro nome...atualizar com a marca correta uma vez que é o mesmo aparelho|2018-05-22 00:00:00 |2018-05-23 16:45:47    |\n",
      "+--------------------------------+--------------------------------+------------+--------------------+------------------------------------------------------------------------------------------------------------------------------------------------------------------------------+--------------------+-----------------------+\n",
      "only showing top 10 rows\n",
      "\n"
     ]
    }
   ],
   "source": [
    "df_orders_reviews = spark.read.csv(os.path.join(src_path.format(stage='bronze'), 'olist_order_reviews_dataset.csv'), header=True, sep=\",\", inferSchema=True)\n",
    "df_orders_reviews.show(truncate=False, n=10)"
   ]
  },
  {
   "cell_type": "markdown",
   "id": "f634d72b",
   "metadata": {},
   "source": [
    "vamos verificar se há duplicações na review_id"
   ]
  },
  {
   "cell_type": "code",
   "execution_count": 38,
   "id": "642cc8fa",
   "metadata": {},
   "outputs": [
    {
     "name": "stderr",
     "output_type": "stream",
     "text": [
      "[Stage 108:============================>                            (1 + 1) / 2]\r"
     ]
    },
    {
     "name": "stdout",
     "output_type": "stream",
     "text": [
      "+--------------------+--------------------+-------------------+--------------------+----------------------+--------------------+-----------------------+-----+\n",
      "|           review_id|            order_id|       review_score|review_comment_title|review_comment_message|review_creation_date|review_answer_timestamp|count|\n",
      "+--------------------+--------------------+-------------------+--------------------+----------------------+--------------------+-----------------------+-----+\n",
      "|Bem antes do praz...|                NULL|               NULL|                NULL|                  NULL|                NULL|                   NULL|    2|\n",
      "|A única coisa que...| 2017-11-22 00:00:00|2017-11-23 14:53:55|                NULL|                  NULL|                NULL|                   NULL|    2|\n",
      "|POREM NAO RECEBEM...| SOMENTE OS PROTE...|2018-02-22 00:00:00| 2018-02-23 20:04:41|                  NULL|                NULL|                   NULL|    2|\n",
      "|           Obrigada\"| 2016-10-27 00:00:00|2016-10-28 12:21:53|                NULL|                  NULL|                NULL|                   NULL|    2|\n",
      "|    Super recomendo.|                NULL|               NULL|                NULL|                  NULL|                NULL|                   NULL|    2|\n",
      "|entrega no prazo ...|                NULL|               NULL|                NULL|                  NULL|                NULL|                   NULL|    2|\n",
      "|          No aguardo|                NULL|               NULL|                NULL|                  NULL|                NULL|                   NULL|    3|\n",
      "|,2018-03-09 00:00...|                NULL|               NULL|                NULL|                  NULL|                NULL|                   NULL|    2|\n",
      "|,2018-08-26 00:00...|                NULL|               NULL|                NULL|                  NULL|                NULL|                   NULL|    2|\n",
      "|             Gostei\"| 2017-07-27 00:00:00|2017-07-31 03:27:15|                NULL|                  NULL|                NULL|                   NULL|    2|\n",
      "|Aguardo orientaçã...| 2018-08-03 00:00:00|2018-08-06 00:09:52|                NULL|                  NULL|                NULL|                   NULL|    3|\n",
      "|Solicito providên...|                NULL|               NULL|                NULL|                  NULL|                NULL|                   NULL|    2|\n",
      "|,2017-09-09 00:00...|                NULL|               NULL|                NULL|                  NULL|                NULL|                   NULL|    2|\n",
      "|eu super recomend...| 2018-03-20 00:00:00|2018-03-23 15:59:14|                NULL|                  NULL|                NULL|                   NULL|    2|\n",
      "|     Entrega rápida.|                NULL|               NULL|                NULL|                  NULL|                NULL|                   NULL|    2|\n",
      "|                   .|                NULL|               NULL|                NULL|                  NULL|                NULL|                   NULL|    2|\n",
      "|Tudo certo com o ...|   super recomendo. |               NULL|                NULL|                  NULL|                NULL|                   NULL|    2|\n",
      "|,2017-06-20 00:00...|                NULL|               NULL|                NULL|                  NULL|                NULL|                   NULL|    2|\n",
      "|muito satisfeita ...|                NULL|               NULL|                NULL|                  NULL|                NULL|                   NULL|    2|\n",
      "|MANDAMOS E-MAIL F...| 2018-08-15 00:00:00|2018-08-15 19:35:43|                NULL|                  NULL|                NULL|                   NULL|    2|\n",
      "+--------------------+--------------------+-------------------+--------------------+----------------------+--------------------+-----------------------+-----+\n",
      "only showing top 20 rows\n",
      "\n"
     ]
    },
    {
     "name": "stderr",
     "output_type": "stream",
     "text": [
      "                                                                                \r"
     ]
    }
   ],
   "source": [
    "df_orders_reviews.groupBy(df_orders_reviews.columns).count().filter(col('count')>1).show()"
   ]
  },
  {
   "cell_type": "markdown",
   "id": "ba9071d8",
   "metadata": {},
   "source": [
    "Além de duplicação, identificados que os dados estão bagunçadoos entre as colunas."
   ]
  },
  {
   "cell_type": "markdown",
   "id": "c082ce2f",
   "metadata": {},
   "source": [
    "vamos começar identificando o que não é uma order_id válida e retirar da nossa base"
   ]
  },
  {
   "cell_type": "code",
   "execution_count": 39,
   "id": "4253100e",
   "metadata": {},
   "outputs": [
    {
     "name": "stderr",
     "output_type": "stream",
     "text": [
      "                                                                                \r"
     ]
    },
    {
     "name": "stdout",
     "output_type": "stream",
     "text": [
      "+--------------------------------+--------------------------------+------------+-----------------------+------------------------------------------------------------------------------------------------------------------------------------------------------------------------------+--------------------+-----------------------+------------------+------------+--------------------+-------------+\n",
      "|order_id                        |review_id                       |review_score|review_comment_title   |review_comment_message                                                                                                                                                        |review_creation_date|review_answer_timestamp|payment_sequential|payment_type|payment_installments|payment_value|\n",
      "+--------------------------------+--------------------------------+------------+-----------------------+------------------------------------------------------------------------------------------------------------------------------------------------------------------------------+--------------------+-----------------------+------------------+------------+--------------------+-------------+\n",
      "|73fc7af87114b39712e6da79b0a377eb|7bc2406110b926393aa56f80a40eba40|4           |NULL                   |NULL                                                                                                                                                                          |2018-01-18 00:00:00 |2018-01-18 21:46:59    |1                 |credit_card |8                   |397.26       |\n",
      "|a548910a1c6147796b98fdf73dbeba33|80e641a11e56f04c1ad469d5645fdfde|5           |NULL                   |NULL                                                                                                                                                                          |2018-03-10 00:00:00 |2018-03-11 03:05:13    |1                 |credit_card |1                   |88.09        |\n",
      "|f9e4b658b201a9f2ecdecbb34bed034b|228ce5500dc1d8e020d8d1322874b6f0|5           |NULL                   |NULL                                                                                                                                                                          |2018-02-17 00:00:00 |2018-02-18 14:36:24    |1                 |credit_card |1                   |194.12       |\n",
      "|658677c97b385a9be170737859d3511b|e64fb393e7b32834bb789ff8bb30750e|5           |NULL                   |Recebi bem antes do prazo estipulado.                                                                                                                                         |2017-04-21 00:00:00 |2017-04-21 22:02:06    |1                 |credit_card |1                   |222.84       |\n",
      "|8e6bfb81e283fa7e4f11123a3fb894f1|f7c4243c7fe1938f181bec41a392bdeb|5           |NULL                   |Parabéns lojas lannister adorei comprar pela Internet seguro e prático Parabéns a todos feliz Páscoa                                                                          |2018-03-01 00:00:00 |2018-03-02 10:26:53    |1                 |credit_card |10                  |1333.25      |\n",
      "|b18dcdf73be66366873cd26c5724d1dc|15197aa66ff4d0650b5434f1b46cda19|1           |NULL                   |NULL                                                                                                                                                                          |2018-04-13 00:00:00 |2018-04-16 00:39:37    |1                 |credit_card |1                   |462.7        |\n",
      "|e48aa0d2dcec3a2e87348811bcfdf22b|07f9bee5d1b850860defd761afa7ff16|5           |NULL                   |NULL                                                                                                                                                                          |2017-07-16 00:00:00 |2017-07-18 19:30:34    |1                 |credit_card |2                   |58.75        |\n",
      "|c31a859e34e3adac22f376954e19b39d|7c6400515c67679fbee952a7525281ef|5           |NULL                   |NULL                                                                                                                                                                          |2018-08-14 00:00:00 |2018-08-14 21:36:06    |1                 |credit_card |3                   |198.96       |\n",
      "|9c214ac970e84273583ab523dfafd09b|a3f6f7f6f433de0aefbb97da197c554c|5           |NULL                   |NULL                                                                                                                                                                          |2017-05-17 00:00:00 |2017-05-18 12:05:37    |1                 |credit_card |3                   |102.03       |\n",
      "|b9bf720beb4ab3728760088589c62129|8670d52e15e00043ae7de4c01cc2fe06|4           |recomendo              |aparelho eficiente. no site a marca do aparelho esta impresso como 3desinfector e ao chegar esta com outro nome...atualizar com a marca correta uma vez que é o mesmo aparelho|2018-05-22 00:00:00 |2018-05-23 16:45:47    |1                 |credit_card |8                   |613.25       |\n",
      "|cdf9aa68e72324eeb25c7de974696ee2|c9cfd2d5ab5911836ababae136c3a10c|5           |NULL                   |NULL                                                                                                                                                                          |2017-12-23 00:00:00 |2017-12-26 14:36:03    |1                 |credit_card |1                   |136.99       |\n",
      "|3d374c9e46530bb5ed4a7648915306a6|96052551d87e5f62e6c9f6974ec392e9|5           |NULL                   |NULL                                                                                                                                                                          |2017-12-19 00:00:00 |2017-12-20 10:25:22    |1                 |boleto      |1                   |682.5        |\n",
      "|9d6f15f95d01e79bd1349cc208361f09|4b49719c8a200003f700d3d986ea1a19|4           |NULL                   |Mas um pouco ,travando...pelo valor ta Boa.                                                                                                                                   |NULL                |NULL                   |1                 |credit_card |2                   |42.78        |\n",
      "|2eaf8e099d871cd5c22b83b5ea8f6e0e|23f75a37effc35d9a915b4e1ad483793|4           |NULL                   |NULL                                                                                                                                                                          |2018-03-28 00:00:00 |2018-03-30 15:10:55    |1                 |credit_card |1                   |46.96        |\n",
      "|d7bd0e4afdf94846eb73642b4e3e75c3|9a0abbb668bafb95a6d2b05db43284c4|3           |NULL                   |NULL                                                                                                                                                                          |2017-04-30 00:00:00 |2017-05-03 00:02:22    |1                 |credit_card |1                   |67.72        |\n",
      "|e51478e7e277a83743b6f9991dbfa3fb|3948b09f7c818e2d86c9a546758b2335|5           |Super recomendo        |Vendedor confiável, produto ok e entrega antes do prazo.                                                                                                                      |2018-05-23 00:00:00 |2018-05-24 03:00:01    |1                 |credit_card |1                   |103.06       |\n",
      "|0dacf04c5ad59fd5a0cc1faa07c34e39|9314d6f9799f5bfba510cc7bcd468c01|2           |NULL                   |GOSTARIA DE SABER O QUE HOUVE, SEMPRE RECEBI E ESSA COMPRA AGORA ME DECPCIONOU                                                                                                |2018-01-18 00:00:00 |2018-01-20 21:25:45    |1                 |credit_card |4                   |188.65       |\n",
      "|ff1581e08b3011021e7c7de592ddc81e|8e15a274d95600fa14f8be64e37a0e67|5           |NULL                   |NULL                                                                                                                                                                          |2018-03-24 00:00:00 |2018-03-26 15:58:32    |1                 |credit_card |1                   |30.19        |\n",
      "|70a752414a13d09cc1f2b437b914b28e|fdbdb2629a7cde0f66657acc92084e7f|3           |NULL                   |NULL                                                                                                                                                                          |2017-09-29 00:00:00 |2017-10-02 01:12:49    |1                 |credit_card |1                   |170.03       |\n",
      "|583174fbe37d3d5f0d6661be3aad1786|373cbeecea8286a2b66c97b1b157ec46|1           |Não chegou meu produto |Péssimo                                                                                                                                                                       |2018-08-15 00:00:00 |2018-08-15 04:10:37    |1                 |credit_card |2                   |99.28        |\n",
      "+--------------------------------+--------------------------------+------------+-----------------------+------------------------------------------------------------------------------------------------------------------------------------------------------------------------------+--------------------+-----------------------+------------------+------------+--------------------+-------------+\n",
      "only showing top 20 rows\n",
      "\n"
     ]
    }
   ],
   "source": [
    "df_orders_reviews_orders = df_orders_reviews.join(df_order_payments, on='order_id', how='inner')\n",
    "df_orders_reviews_orders.show(truncate=False)"
   ]
  },
  {
   "cell_type": "markdown",
   "id": "f67a7e31",
   "metadata": {},
   "source": [
    "Agora que só temos ordens validas, vamos selecionar apenas as colunas referentes ao review"
   ]
  },
  {
   "cell_type": "code",
   "execution_count": 40,
   "id": "38ce4607",
   "metadata": {},
   "outputs": [
    {
     "name": "stderr",
     "output_type": "stream",
     "text": [
      "                                                                                \r"
     ]
    },
    {
     "name": "stdout",
     "output_type": "stream",
     "text": [
      "+--------------------------------+--------------------------------+------------+-----------------------+------------------------------------------------------------------------------------------------------------------------------------------------------------------------------+--------------------+-----------------------+\n",
      "|order_id                        |review_id                       |review_score|review_comment_title   |review_comment_message                                                                                                                                                        |review_creation_date|review_answer_timestamp|\n",
      "+--------------------------------+--------------------------------+------------+-----------------------+------------------------------------------------------------------------------------------------------------------------------------------------------------------------------+--------------------+-----------------------+\n",
      "|73fc7af87114b39712e6da79b0a377eb|7bc2406110b926393aa56f80a40eba40|4           |NULL                   |NULL                                                                                                                                                                          |2018-01-18 00:00:00 |2018-01-18 21:46:59    |\n",
      "|a548910a1c6147796b98fdf73dbeba33|80e641a11e56f04c1ad469d5645fdfde|5           |NULL                   |NULL                                                                                                                                                                          |2018-03-10 00:00:00 |2018-03-11 03:05:13    |\n",
      "|f9e4b658b201a9f2ecdecbb34bed034b|228ce5500dc1d8e020d8d1322874b6f0|5           |NULL                   |NULL                                                                                                                                                                          |2018-02-17 00:00:00 |2018-02-18 14:36:24    |\n",
      "|658677c97b385a9be170737859d3511b|e64fb393e7b32834bb789ff8bb30750e|5           |NULL                   |Recebi bem antes do prazo estipulado.                                                                                                                                         |2017-04-21 00:00:00 |2017-04-21 22:02:06    |\n",
      "|8e6bfb81e283fa7e4f11123a3fb894f1|f7c4243c7fe1938f181bec41a392bdeb|5           |NULL                   |Parabéns lojas lannister adorei comprar pela Internet seguro e prático Parabéns a todos feliz Páscoa                                                                          |2018-03-01 00:00:00 |2018-03-02 10:26:53    |\n",
      "|b18dcdf73be66366873cd26c5724d1dc|15197aa66ff4d0650b5434f1b46cda19|1           |NULL                   |NULL                                                                                                                                                                          |2018-04-13 00:00:00 |2018-04-16 00:39:37    |\n",
      "|e48aa0d2dcec3a2e87348811bcfdf22b|07f9bee5d1b850860defd761afa7ff16|5           |NULL                   |NULL                                                                                                                                                                          |2017-07-16 00:00:00 |2017-07-18 19:30:34    |\n",
      "|c31a859e34e3adac22f376954e19b39d|7c6400515c67679fbee952a7525281ef|5           |NULL                   |NULL                                                                                                                                                                          |2018-08-14 00:00:00 |2018-08-14 21:36:06    |\n",
      "|9c214ac970e84273583ab523dfafd09b|a3f6f7f6f433de0aefbb97da197c554c|5           |NULL                   |NULL                                                                                                                                                                          |2017-05-17 00:00:00 |2017-05-18 12:05:37    |\n",
      "|b9bf720beb4ab3728760088589c62129|8670d52e15e00043ae7de4c01cc2fe06|4           |recomendo              |aparelho eficiente. no site a marca do aparelho esta impresso como 3desinfector e ao chegar esta com outro nome...atualizar com a marca correta uma vez que é o mesmo aparelho|2018-05-22 00:00:00 |2018-05-23 16:45:47    |\n",
      "|cdf9aa68e72324eeb25c7de974696ee2|c9cfd2d5ab5911836ababae136c3a10c|5           |NULL                   |NULL                                                                                                                                                                          |2017-12-23 00:00:00 |2017-12-26 14:36:03    |\n",
      "|3d374c9e46530bb5ed4a7648915306a6|96052551d87e5f62e6c9f6974ec392e9|5           |NULL                   |NULL                                                                                                                                                                          |2017-12-19 00:00:00 |2017-12-20 10:25:22    |\n",
      "|9d6f15f95d01e79bd1349cc208361f09|4b49719c8a200003f700d3d986ea1a19|4           |NULL                   |Mas um pouco ,travando...pelo valor ta Boa.                                                                                                                                   |NULL                |NULL                   |\n",
      "|2eaf8e099d871cd5c22b83b5ea8f6e0e|23f75a37effc35d9a915b4e1ad483793|4           |NULL                   |NULL                                                                                                                                                                          |2018-03-28 00:00:00 |2018-03-30 15:10:55    |\n",
      "|d7bd0e4afdf94846eb73642b4e3e75c3|9a0abbb668bafb95a6d2b05db43284c4|3           |NULL                   |NULL                                                                                                                                                                          |2017-04-30 00:00:00 |2017-05-03 00:02:22    |\n",
      "|e51478e7e277a83743b6f9991dbfa3fb|3948b09f7c818e2d86c9a546758b2335|5           |Super recomendo        |Vendedor confiável, produto ok e entrega antes do prazo.                                                                                                                      |2018-05-23 00:00:00 |2018-05-24 03:00:01    |\n",
      "|0dacf04c5ad59fd5a0cc1faa07c34e39|9314d6f9799f5bfba510cc7bcd468c01|2           |NULL                   |GOSTARIA DE SABER O QUE HOUVE, SEMPRE RECEBI E ESSA COMPRA AGORA ME DECPCIONOU                                                                                                |2018-01-18 00:00:00 |2018-01-20 21:25:45    |\n",
      "|ff1581e08b3011021e7c7de592ddc81e|8e15a274d95600fa14f8be64e37a0e67|5           |NULL                   |NULL                                                                                                                                                                          |2018-03-24 00:00:00 |2018-03-26 15:58:32    |\n",
      "|70a752414a13d09cc1f2b437b914b28e|fdbdb2629a7cde0f66657acc92084e7f|3           |NULL                   |NULL                                                                                                                                                                          |2017-09-29 00:00:00 |2017-10-02 01:12:49    |\n",
      "|583174fbe37d3d5f0d6661be3aad1786|373cbeecea8286a2b66c97b1b157ec46|1           |Não chegou meu produto |Péssimo                                                                                                                                                                       |2018-08-15 00:00:00 |2018-08-15 04:10:37    |\n",
      "+--------------------------------+--------------------------------+------------+-----------------------+------------------------------------------------------------------------------------------------------------------------------------------------------------------------------+--------------------+-----------------------+\n",
      "only showing top 20 rows\n",
      "\n"
     ]
    }
   ],
   "source": [
    "df_orders_reviews = df_orders_reviews_orders.select(\n",
    "    'order_id', \n",
    "    'review_id', \n",
    "    'review_score', \n",
    "    'review_comment_title',\n",
    "    'review_comment_message',\n",
    "    'review_creation_date',\n",
    "    'review_answer_timestamp'\n",
    ")\n",
    "\n",
    "df_orders_reviews.show(truncate=False)"
   ]
  },
  {
   "cell_type": "markdown",
   "id": "4ae489a7",
   "metadata": {},
   "source": [
    "Verificando duplicadas na coluna de review_id"
   ]
  },
  {
   "cell_type": "code",
   "execution_count": 41,
   "id": "9b788ff9",
   "metadata": {},
   "outputs": [
    {
     "name": "stderr",
     "output_type": "stream",
     "text": [
      "[Stage 116:============================>                            (1 + 1) / 2]\r"
     ]
    },
    {
     "name": "stdout",
     "output_type": "stream",
     "text": [
      "+--------------------------------+-----+\n",
      "|review_id                       |count|\n",
      "+--------------------------------+-----+\n",
      "|f144ac1998474653203c861be02fd31f|2    |\n",
      "|e4f5fbbbf2fa8f259e02e0e529eeae26|2    |\n",
      "|e5ed97ed48e1884fafa20d5e842045c5|3    |\n",
      "|c2abd74d4d97c50f515d66ddcbd1a59b|2    |\n",
      "|868c4827b9ab7272338ae1c95d192505|2    |\n",
      "|a8ffb30c74397c7cf37ab595d3c1662e|2    |\n",
      "|952786cedfae3b1743d3f2d67bd12e01|3    |\n",
      "|dcb6c0dc808bb7101f3717be34f7e8f5|2    |\n",
      "|be6033aa21c31ae127c6d3c7f1a83528|3    |\n",
      "|37471542321c6dca40aa4813d53e322f|2    |\n",
      "|2aaed1788eac6c8d9688d00d390c3c74|2    |\n",
      "|55f5fbc835cbc7401c388e07d827abb1|2    |\n",
      "|f6e05a3f6dbc3bdb1ec3068725c67677|2    |\n",
      "|153c7691f094e2b2d8c1c21036773975|2    |\n",
      "|eb76b6dc2f62d548b9823eab120860e7|4    |\n",
      "|a6d3a3c6028f51bd2342a1c32d9c7750|4    |\n",
      "|06612663a9f70fe8fac1d6575cc02df6|2    |\n",
      "|e4d4b6477ff4777b725e5d5682fa785d|2    |\n",
      "|0f502163b90bab787e2ddfb009bf761b|2    |\n",
      "|32b4a2152df0e53c5635141e6fda6058|2    |\n",
      "+--------------------------------+-----+\n",
      "only showing top 20 rows\n",
      "\n"
     ]
    },
    {
     "name": "stderr",
     "output_type": "stream",
     "text": [
      "                                                                                \r"
     ]
    }
   ],
   "source": [
    "df_orders_reviews.groupBy(col('review_id')).count().filter(col('count')>1).show(truncate=False)"
   ]
  },
  {
   "cell_type": "code",
   "execution_count": 42,
   "id": "eaa59997",
   "metadata": {},
   "outputs": [
    {
     "name": "stdout",
     "output_type": "stream",
     "text": [
      "+--------------------------------+--------------------------------+------------+--------------------+----------------------+--------------------+-----------------------+\n",
      "|order_id                        |review_id                       |review_score|review_comment_title|review_comment_message|review_creation_date|review_answer_timestamp|\n",
      "+--------------------------------+--------------------------------+------------+--------------------+----------------------+--------------------+-----------------------+\n",
      "|ebe8e5e35f85b19e3b8132a054bbf523|f144ac1998474653203c861be02fd31f|5           |NULL                |NULL                  |2018-02-06 00:00:00 |2018-02-07 14:37:49    |\n",
      "|df3e4e0056f83d44b57664f39f3dba9d|f144ac1998474653203c861be02fd31f|5           |NULL                |NULL                  |2018-02-06 00:00:00 |2018-02-07 14:37:49    |\n",
      "+--------------------------------+--------------------------------+------------+--------------------+----------------------+--------------------+-----------------------+\n",
      "\n"
     ]
    }
   ],
   "source": [
    "df_orders_reviews.filter(col('review_id')=='f144ac1998474653203c861be02fd31f').show(truncate=False)"
   ]
  },
  {
   "cell_type": "markdown",
   "id": "08f50faf",
   "metadata": {},
   "source": [
    "Identificamos que possuimos review_id duplicado, o que faz sentido quando entendemos que o mesmo revisor pode ter feito avaliação em duas compras diferentes no mesmo dia.\n",
    "Com isso, vamos manter os dados da forma que ele está.\n"
   ]
  },
  {
   "cell_type": "markdown",
   "id": "9a56cb53",
   "metadata": {},
   "source": [
    "Vamos verificar se há valores errados nas colunas"
   ]
  },
  {
   "cell_type": "markdown",
   "id": "19eb41c1",
   "metadata": {},
   "source": [
    "Para verificar a coluna de Id, teremos que utilizar expressão regex, tendo em vista que a coluna Id é uma criptografia de 32 bits"
   ]
  },
  {
   "cell_type": "code",
   "execution_count": 43,
   "id": "9c46f572",
   "metadata": {},
   "outputs": [
    {
     "name": "stderr",
     "output_type": "stream",
     "text": [
      "                                                                                \r"
     ]
    },
    {
     "name": "stdout",
     "output_type": "stream",
     "text": [
      "+--------+---------+------------+--------------------+----------------------+--------------------+-----------------------+\n",
      "|order_id|review_id|review_score|review_comment_title|review_comment_message|review_creation_date|review_answer_timestamp|\n",
      "+--------+---------+------------+--------------------+----------------------+--------------------+-----------------------+\n",
      "+--------+---------+------------+--------------------+----------------------+--------------------+-----------------------+\n",
      "\n"
     ]
    }
   ],
   "source": [
    "df_orders_reviews_invalidos = df_orders_reviews.filter(~col('review_id').rlike(\"^[a-f0-9]{32}$\")).show(truncate=False)"
   ]
  },
  {
   "cell_type": "code",
   "execution_count": 44,
   "id": "e9d95dc1",
   "metadata": {},
   "outputs": [
    {
     "name": "stdout",
     "output_type": "stream",
     "text": [
      "+--------------------------------+--------------------------------+------------+-----------------------+------------------------------------------------------------------------------------------------------------------------------------------------------------------------------+--------------------+-----------------------+\n",
      "|order_id                        |review_id                       |review_score|review_comment_title   |review_comment_message                                                                                                                                                        |review_creation_date|review_answer_timestamp|\n",
      "+--------------------------------+--------------------------------+------------+-----------------------+------------------------------------------------------------------------------------------------------------------------------------------------------------------------------+--------------------+-----------------------+\n",
      "|73fc7af87114b39712e6da79b0a377eb|7bc2406110b926393aa56f80a40eba40|4           |NULL                   |NULL                                                                                                                                                                          |2018-01-18 00:00:00 |2018-01-18 21:46:59    |\n",
      "|a548910a1c6147796b98fdf73dbeba33|80e641a11e56f04c1ad469d5645fdfde|5           |NULL                   |NULL                                                                                                                                                                          |2018-03-10 00:00:00 |2018-03-11 03:05:13    |\n",
      "|f9e4b658b201a9f2ecdecbb34bed034b|228ce5500dc1d8e020d8d1322874b6f0|5           |NULL                   |NULL                                                                                                                                                                          |2018-02-17 00:00:00 |2018-02-18 14:36:24    |\n",
      "|658677c97b385a9be170737859d3511b|e64fb393e7b32834bb789ff8bb30750e|5           |NULL                   |Recebi bem antes do prazo estipulado.                                                                                                                                         |2017-04-21 00:00:00 |2017-04-21 22:02:06    |\n",
      "|8e6bfb81e283fa7e4f11123a3fb894f1|f7c4243c7fe1938f181bec41a392bdeb|5           |NULL                   |Parabéns lojas lannister adorei comprar pela Internet seguro e prático Parabéns a todos feliz Páscoa                                                                          |2018-03-01 00:00:00 |2018-03-02 10:26:53    |\n",
      "|b18dcdf73be66366873cd26c5724d1dc|15197aa66ff4d0650b5434f1b46cda19|1           |NULL                   |NULL                                                                                                                                                                          |2018-04-13 00:00:00 |2018-04-16 00:39:37    |\n",
      "|e48aa0d2dcec3a2e87348811bcfdf22b|07f9bee5d1b850860defd761afa7ff16|5           |NULL                   |NULL                                                                                                                                                                          |2017-07-16 00:00:00 |2017-07-18 19:30:34    |\n",
      "|c31a859e34e3adac22f376954e19b39d|7c6400515c67679fbee952a7525281ef|5           |NULL                   |NULL                                                                                                                                                                          |2018-08-14 00:00:00 |2018-08-14 21:36:06    |\n",
      "|9c214ac970e84273583ab523dfafd09b|a3f6f7f6f433de0aefbb97da197c554c|5           |NULL                   |NULL                                                                                                                                                                          |2017-05-17 00:00:00 |2017-05-18 12:05:37    |\n",
      "|b9bf720beb4ab3728760088589c62129|8670d52e15e00043ae7de4c01cc2fe06|4           |recomendo              |aparelho eficiente. no site a marca do aparelho esta impresso como 3desinfector e ao chegar esta com outro nome...atualizar com a marca correta uma vez que é o mesmo aparelho|2018-05-22 00:00:00 |2018-05-23 16:45:47    |\n",
      "|cdf9aa68e72324eeb25c7de974696ee2|c9cfd2d5ab5911836ababae136c3a10c|5           |NULL                   |NULL                                                                                                                                                                          |2017-12-23 00:00:00 |2017-12-26 14:36:03    |\n",
      "|3d374c9e46530bb5ed4a7648915306a6|96052551d87e5f62e6c9f6974ec392e9|5           |NULL                   |NULL                                                                                                                                                                          |2017-12-19 00:00:00 |2017-12-20 10:25:22    |\n",
      "|9d6f15f95d01e79bd1349cc208361f09|4b49719c8a200003f700d3d986ea1a19|4           |NULL                   |Mas um pouco ,travando...pelo valor ta Boa.                                                                                                                                   |NULL                |NULL                   |\n",
      "|2eaf8e099d871cd5c22b83b5ea8f6e0e|23f75a37effc35d9a915b4e1ad483793|4           |NULL                   |NULL                                                                                                                                                                          |2018-03-28 00:00:00 |2018-03-30 15:10:55    |\n",
      "|d7bd0e4afdf94846eb73642b4e3e75c3|9a0abbb668bafb95a6d2b05db43284c4|3           |NULL                   |NULL                                                                                                                                                                          |2017-04-30 00:00:00 |2017-05-03 00:02:22    |\n",
      "|e51478e7e277a83743b6f9991dbfa3fb|3948b09f7c818e2d86c9a546758b2335|5           |Super recomendo        |Vendedor confiável, produto ok e entrega antes do prazo.                                                                                                                      |2018-05-23 00:00:00 |2018-05-24 03:00:01    |\n",
      "|0dacf04c5ad59fd5a0cc1faa07c34e39|9314d6f9799f5bfba510cc7bcd468c01|2           |NULL                   |GOSTARIA DE SABER O QUE HOUVE, SEMPRE RECEBI E ESSA COMPRA AGORA ME DECPCIONOU                                                                                                |2018-01-18 00:00:00 |2018-01-20 21:25:45    |\n",
      "|ff1581e08b3011021e7c7de592ddc81e|8e15a274d95600fa14f8be64e37a0e67|5           |NULL                   |NULL                                                                                                                                                                          |2018-03-24 00:00:00 |2018-03-26 15:58:32    |\n",
      "|70a752414a13d09cc1f2b437b914b28e|fdbdb2629a7cde0f66657acc92084e7f|3           |NULL                   |NULL                                                                                                                                                                          |2017-09-29 00:00:00 |2017-10-02 01:12:49    |\n",
      "|583174fbe37d3d5f0d6661be3aad1786|373cbeecea8286a2b66c97b1b157ec46|1           |Não chegou meu produto |Péssimo                                                                                                                                                                       |2018-08-15 00:00:00 |2018-08-15 04:10:37    |\n",
      "+--------------------------------+--------------------------------+------------+-----------------------+------------------------------------------------------------------------------------------------------------------------------------------------------------------------------+--------------------+-----------------------+\n",
      "only showing top 20 rows\n",
      "\n"
     ]
    }
   ],
   "source": [
    "df_orders_reviews_invalidos = df_orders_reviews.filter(col('review_id').rlike(\"^[a-f0-9]{32}$\")).show(truncate=False)"
   ]
  },
  {
   "cell_type": "markdown",
   "id": "1767c147",
   "metadata": {},
   "source": [
    "Ficou evidente que não há dados inválidos na coluna de review_id\n",
    "\n",
    "Também ficou visivel dados nulos nas colunas temporais, vamos fazer a limpeza dos dados nulos"
   ]
  },
  {
   "cell_type": "code",
   "execution_count": 45,
   "id": "9379617e",
   "metadata": {},
   "outputs": [
    {
     "name": "stdout",
     "output_type": "stream",
     "text": [
      "+--------------------+--------------------+------------+--------------------+----------------------+--------------------+-----------------------+\n",
      "|            order_id|           review_id|review_score|review_comment_title|review_comment_message|review_creation_date|review_answer_timestamp|\n",
      "+--------------------+--------------------+------------+--------------------+----------------------+--------------------+-----------------------+\n",
      "|73fc7af87114b3971...|7bc2406110b926393...|           4|                NULL|                  NULL| 2018-01-18 00:00:00|    2018-01-18 21:46:59|\n",
      "|a548910a1c6147796...|80e641a11e56f04c1...|           5|                NULL|                  NULL| 2018-03-10 00:00:00|    2018-03-11 03:05:13|\n",
      "|f9e4b658b201a9f2e...|228ce5500dc1d8e02...|           5|                NULL|                  NULL| 2018-02-17 00:00:00|    2018-02-18 14:36:24|\n",
      "|658677c97b385a9be...|e64fb393e7b32834b...|           5|                NULL|  Recebi bem antes ...| 2017-04-21 00:00:00|    2017-04-21 22:02:06|\n",
      "|8e6bfb81e283fa7e4...|f7c4243c7fe1938f1...|           5|                NULL|  Parabéns lojas la...| 2018-03-01 00:00:00|    2018-03-02 10:26:53|\n",
      "|b18dcdf73be663668...|15197aa66ff4d0650...|           1|                NULL|                  NULL| 2018-04-13 00:00:00|    2018-04-16 00:39:37|\n",
      "|e48aa0d2dcec3a2e8...|07f9bee5d1b850860...|           5|                NULL|                  NULL| 2017-07-16 00:00:00|    2017-07-18 19:30:34|\n",
      "|c31a859e34e3adac2...|7c6400515c67679fb...|           5|                NULL|                  NULL| 2018-08-14 00:00:00|    2018-08-14 21:36:06|\n",
      "|9c214ac970e842735...|a3f6f7f6f433de0ae...|           5|                NULL|                  NULL| 2017-05-17 00:00:00|    2017-05-18 12:05:37|\n",
      "|b9bf720beb4ab3728...|8670d52e15e00043a...|           4|           recomendo|  aparelho eficient...| 2018-05-22 00:00:00|    2018-05-23 16:45:47|\n",
      "|cdf9aa68e72324eeb...|c9cfd2d5ab5911836...|           5|                NULL|                  NULL| 2017-12-23 00:00:00|    2017-12-26 14:36:03|\n",
      "|3d374c9e46530bb5e...|96052551d87e5f62e...|           5|                NULL|                  NULL| 2017-12-19 00:00:00|    2017-12-20 10:25:22|\n",
      "|2eaf8e099d871cd5c...|23f75a37effc35d9a...|           4|                NULL|                  NULL| 2018-03-28 00:00:00|    2018-03-30 15:10:55|\n",
      "|d7bd0e4afdf94846e...|9a0abbb668bafb95a...|           3|                NULL|                  NULL| 2017-04-30 00:00:00|    2017-05-03 00:02:22|\n",
      "|e51478e7e277a8374...|3948b09f7c818e2d8...|           5|     Super recomendo|  Vendedor confiáve...| 2018-05-23 00:00:00|    2018-05-24 03:00:01|\n",
      "|0dacf04c5ad59fd5a...|9314d6f9799f5bfba...|           2|                NULL|  GOSTARIA DE SABER...| 2018-01-18 00:00:00|    2018-01-20 21:25:45|\n",
      "|ff1581e08b3011021...|8e15a274d95600fa1...|           5|                NULL|                  NULL| 2018-03-24 00:00:00|    2018-03-26 15:58:32|\n",
      "|70a752414a13d09cc...|fdbdb2629a7cde0f6...|           3|                NULL|                  NULL| 2017-09-29 00:00:00|    2017-10-02 01:12:49|\n",
      "|583174fbe37d3d5f0...|373cbeecea8286a2b...|           1|Não chegou meu pr...|               Péssimo| 2018-08-15 00:00:00|    2018-08-15 04:10:37|\n",
      "|a9953b2f0b1665ac7...|a2ff510ca4e059c3f...|           4|                NULL|                  NULL| 2017-10-06 00:00:00|    2017-10-08 22:36:05|\n",
      "+--------------------+--------------------+------------+--------------------+----------------------+--------------------+-----------------------+\n",
      "only showing top 20 rows\n",
      "\n"
     ]
    }
   ],
   "source": [
    "df_orders_reviews = df_orders_reviews.dropna(subset=['review_creation_date'])\n",
    "df_orders_reviews.show()"
   ]
  },
  {
   "cell_type": "code",
   "execution_count": 46,
   "id": "3a38f711",
   "metadata": {},
   "outputs": [
    {
     "name": "stderr",
     "output_type": "stream",
     "text": [
      "                                                                                \r"
     ]
    },
    {
     "name": "stdout",
     "output_type": "stream",
     "text": [
      "+--------+---------+------------+--------------------+----------------------+--------------------+-----------------------+\n",
      "|order_id|review_id|review_score|review_comment_title|review_comment_message|review_creation_date|review_answer_timestamp|\n",
      "+--------+---------+------------+--------------------+----------------------+--------------------+-----------------------+\n",
      "+--------+---------+------------+--------------------+----------------------+--------------------+-----------------------+\n",
      "\n"
     ]
    }
   ],
   "source": [
    "df_orders_reviews.filter(col('review_creation_date').isNull()).show()"
   ]
  },
  {
   "cell_type": "markdown",
   "id": "96167499",
   "metadata": {},
   "source": [
    "Vamos verificar agora se há dados duplicados entre order id e review id"
   ]
  },
  {
   "cell_type": "code",
   "execution_count": 47,
   "id": "b87e0e29",
   "metadata": {},
   "outputs": [
    {
     "name": "stdout",
     "output_type": "stream",
     "text": [
      "+--------------------------------+--------------------------------+-----+\n",
      "|order_id                        |review_id                       |count|\n",
      "+--------------------------------+--------------------------------+-----+\n",
      "|9f9993914a8e2fda5081619a7a994853|32e3b541c2d80e1b430f9e2e88876788|2    |\n",
      "|6ac559b49cbb0d6d7c3eb071891785c7|84e0c9399929ec8171ef318b89af7fb5|4    |\n",
      "|ae940b7edae45de05e43817ff84efbfc|9ca5de8784e79d34283e0fdfe9531cce|2    |\n",
      "|8f3a46cc0e9d362bf43dd339e4379615|3639e59f95a0241360cc0c52933c5493|2    |\n",
      "|b485e99d1c3896c44eb56886216fcd01|3c588b9fec099991b945b3779973284b|3    |\n",
      "|72c3f657842e35f5d5279cc0fd06826b|93dfdec4d64a188b5e64aa5ecfc3b22d|2    |\n",
      "|c177bd75cb8bbff3f8ce6842201c7b6f|b01b9d62b9ae868ea704b2411dd32ecd|2    |\n",
      "|f409f5ae35c08a9135d9e5d15ec6ab67|8ba43c59f383d1df29f569800bfacbd2|2    |\n",
      "|79b49127db2c9bc718a161183671505c|068d46134e84c6eb27b45859217cfba6|3    |\n",
      "|4e81a6ed1cdc31e84c13a74ec121798c|1bdc875a8e71947c899a581d4f10a8f4|2    |\n",
      "|3ba1f632cf89a08caf9837999bf827ef|38f159e1308f0fbbd6d674adc93b7fee|2    |\n",
      "|d5d287f2402efa84433646638d83ffef|ac43c700a9ad72e6733cded0e50f2554|2    |\n",
      "|fd867bdd8258af11c6d8d6ff8c6c82db|4b9a4d35b09a803f03608918e320db35|2    |\n",
      "|189711984919a2bdda375153d796d096|f43725f2961004bf75f59c5d610271d1|2    |\n",
      "|d7f4e2f755cf2f40aa7c39804cfe01c4|0c2afd1405e5f0df16aeebe8a029b89d|4    |\n",
      "|bd894349358da79873bd34c1a65386d4|975fecf9bee30852ef97c4a3e13a4e72|2    |\n",
      "|db97652cf517d2cd03db63dec489ca62|5b550e0fa07184adf527dd78a718803e|3    |\n",
      "|3407bfcbaa0cb49c244ededbc777014c|e006eb514938bee8082fb2d3bf719495|2    |\n",
      "|99eae747b45fb42516e46311533b3064|e136151cc080d267cbeceba07763279d|4    |\n",
      "|d9ed7b8cfe99da8442618eabb0f9997c|af61456b31eb7b250eeb8a8672400fad|2    |\n",
      "+--------------------------------+--------------------------------+-----+\n",
      "only showing top 20 rows\n",
      "\n"
     ]
    },
    {
     "name": "stderr",
     "output_type": "stream",
     "text": [
      "                                                                                \r"
     ]
    }
   ],
   "source": [
    "df_orders_reviews.groupBy(\n",
    "    col('order_id'),\n",
    "    col('review_id')\n",
    ").count().filter(col('count')>1).show(truncate=False)"
   ]
  },
  {
   "cell_type": "code",
   "execution_count": 48,
   "id": "e4cca5a5",
   "metadata": {},
   "outputs": [
    {
     "name": "stderr",
     "output_type": "stream",
     "text": [
      "[Stage 138:>                                                        (0 + 1) / 1]\r"
     ]
    },
    {
     "name": "stdout",
     "output_type": "stream",
     "text": [
      "+--------------------------------+--------------------------------+------------+--------------------+-----------------------------------------------------+--------------------+-----------------------+\n",
      "|order_id                        |review_id                       |review_score|review_comment_title|review_comment_message                               |review_creation_date|review_answer_timestamp|\n",
      "+--------------------------------+--------------------------------+------------+--------------------+-----------------------------------------------------+--------------------+-----------------------+\n",
      "|99eae747b45fb42516e46311533b3064|e136151cc080d267cbeceba07763279d|5           |NULL                |Gostei do produto muito bem embalado. super recomendo|2017-10-25 00:00:00 |2017-10-25 19:32:47    |\n",
      "|99eae747b45fb42516e46311533b3064|e136151cc080d267cbeceba07763279d|5           |NULL                |Gostei do produto muito bem embalado. super recomendo|2017-10-25 00:00:00 |2017-10-25 19:32:47    |\n",
      "|99eae747b45fb42516e46311533b3064|e136151cc080d267cbeceba07763279d|5           |NULL                |Gostei do produto muito bem embalado. super recomendo|2017-10-25 00:00:00 |2017-10-25 19:32:47    |\n",
      "|99eae747b45fb42516e46311533b3064|e136151cc080d267cbeceba07763279d|5           |NULL                |Gostei do produto muito bem embalado. super recomendo|2017-10-25 00:00:00 |2017-10-25 19:32:47    |\n",
      "+--------------------------------+--------------------------------+------------+--------------------+-----------------------------------------------------+--------------------+-----------------------+\n",
      "\n"
     ]
    },
    {
     "name": "stderr",
     "output_type": "stream",
     "text": [
      "                                                                                \r"
     ]
    }
   ],
   "source": [
    "df_orders_reviews.filter(col('review_id')==\"e136151cc080d267cbeceba07763279d\").show(truncate=False)"
   ]
  },
  {
   "cell_type": "code",
   "execution_count": 49,
   "id": "9a1eecb1",
   "metadata": {},
   "outputs": [
    {
     "name": "stderr",
     "output_type": "stream",
     "text": [
      "                                                                                \r"
     ]
    },
    {
     "name": "stdout",
     "output_type": "stream",
     "text": [
      "+--------+---------+-----+\n",
      "|order_id|review_id|count|\n",
      "+--------+---------+-----+\n",
      "+--------+---------+-----+\n",
      "\n"
     ]
    }
   ],
   "source": [
    "df_orders_reviews = df_orders_reviews.dropDuplicates()\n",
    "df_orders_reviews.groupBy(\n",
    "    col('order_id'),\n",
    "    col('review_id')\n",
    ").count().filter(col('count')>1).show(truncate=False)"
   ]
  },
  {
   "cell_type": "markdown",
   "id": "64811ccb",
   "metadata": {},
   "source": [
    "Agora os dados estão limpos, vamos verificar a tipagem dos dados"
   ]
  },
  {
   "cell_type": "code",
   "execution_count": 50,
   "id": "37e0b8b5",
   "metadata": {},
   "outputs": [
    {
     "name": "stdout",
     "output_type": "stream",
     "text": [
      "root\n",
      " |-- order_id: string (nullable = true)\n",
      " |-- review_id: string (nullable = true)\n",
      " |-- review_score: string (nullable = true)\n",
      " |-- review_comment_title: string (nullable = true)\n",
      " |-- review_comment_message: string (nullable = true)\n",
      " |-- review_creation_date: string (nullable = true)\n",
      " |-- review_answer_timestamp: string (nullable = true)\n",
      "\n"
     ]
    }
   ],
   "source": [
    "df_orders_reviews.printSchema()"
   ]
  },
  {
   "cell_type": "code",
   "execution_count": 51,
   "id": "d08cc5a2",
   "metadata": {},
   "outputs": [
    {
     "name": "stderr",
     "output_type": "stream",
     "text": [
      "                                                                                \r"
     ]
    },
    {
     "name": "stderr",
     "output_type": "stream",
     "text": [
      "[Stage 150:============================>                            (1 + 1) / 2]\r"
     ]
    },
    {
     "name": "stdout",
     "output_type": "stream",
     "text": [
      "+--------------------------------+--------------------------------+------------+-------------------------+---------------------------------------------------------------------------------------------------------+--------------------+-----------------------+\n",
      "|order_id                        |review_id                       |review_score|review_comment_title     |review_comment_message                                                                                   |review_creation_date|review_answer_timestamp|\n",
      "+--------------------------------+--------------------------------+------------+-------------------------+---------------------------------------------------------------------------------------------------------+--------------------+-----------------------+\n",
      "|d14460d3fa8f54b8f0f7befd11820202|ad9c2612cc5ea378a403f3ba94cd22de|5           |Agilidade                |Chegou super rápido e bem embalado.                                                                      |2018-07-14 00:00:00 |2018-07-15 01:27:53    |\n",
      "|f2b00200fa3b427fee60eb4fa811720b|26ccedab64af303bfa98ffe1765572e0|4           |Ótimo                    |Tudo certo!                                                                                              |2018-06-08 00:00:00 |2018-06-11 12:22:41    |\n",
      "|104d88e666e2ec697eee4ce419862e5a|f67200897bebcf89fd62b89e12fc0ba8|1           |Recebi o produto errado  |Recebi um produto da mesma marca, porém inferior ao que eu havia comprado, sem aviso algum do fornecedor.|2018-06-09 00:00:00 |2018-06-12 18:26:01    |\n",
      "|0ea7c4f19490b13285f00729f7f9b276|be478d4dcd43d78a8c73a0a6f5eada0c|1           |Não recebi a colcha Fanta|Foi me enviado apenas um dos itens. A colcha Fantasy roxa não foi enviada.                               |2018-05-22 00:00:00 |2018-05-23 13:01:04    |\n",
      "|ce0fc5f1ff91f6aaf5eae637a2827b2e|be841bacf330bacd64f91f883f917379|5           |Muito bom                |Ótima compra.                                                                                            |2018-06-12 00:00:00 |2018-06-12 15:53:55    |\n",
      "+--------------------------------+--------------------------------+------------+-------------------------+---------------------------------------------------------------------------------------------------------+--------------------+-----------------------+\n",
      "only showing top 5 rows\n",
      "\n"
     ]
    },
    {
     "name": "stderr",
     "output_type": "stream",
     "text": [
      "                                                                                \r"
     ]
    }
   ],
   "source": [
    "df_orders_reviews.show(truncate=False, n=5)"
   ]
  },
  {
   "cell_type": "code",
   "execution_count": 52,
   "id": "e73fbfff",
   "metadata": {},
   "outputs": [
    {
     "name": "stdout",
     "output_type": "stream",
     "text": [
      "root\n",
      " |-- order_id: string (nullable = true)\n",
      " |-- review_id: string (nullable = true)\n",
      " |-- review_score: integer (nullable = true)\n",
      " |-- review_comment_title: string (nullable = true)\n",
      " |-- review_comment_message: string (nullable = true)\n",
      " |-- review_creation_date: date (nullable = true)\n",
      " |-- review_answer_timestamp: date (nullable = true)\n",
      "\n"
     ]
    }
   ],
   "source": [
    "df_orders_reviews = df_orders_reviews.withColumn('review_score', col('review_score').cast('int'))\\\n",
    "    .withColumn('review_creation_date', col('review_creation_date').cast('date'))\\\n",
    "    .withColumn('review_answer_timestamp', col('review_answer_timestamp').cast('date'))\n",
    "df_orders_reviews.printSchema()"
   ]
  },
  {
   "cell_type": "code",
   "execution_count": 53,
   "id": "1bd8a379",
   "metadata": {},
   "outputs": [
    {
     "name": "stderr",
     "output_type": "stream",
     "text": [
      "[Stage 154:============================>                            (1 + 1) / 2]\r"
     ]
    },
    {
     "name": "stdout",
     "output_type": "stream",
     "text": [
      "+--------------------+--------------------+------------+--------------------+----------------------+--------------------+-----------------------+\n",
      "|            order_id|           review_id|review_score|review_comment_title|review_comment_message|review_creation_date|review_answer_timestamp|\n",
      "+--------------------+--------------------+------------+--------------------+----------------------+--------------------+-----------------------+\n",
      "|d14460d3fa8f54b8f...|ad9c2612cc5ea378a...|           5|           Agilidade|  Chegou super rápi...|          2018-07-14|             2018-07-15|\n",
      "|f2b00200fa3b427fe...|26ccedab64af303bf...|           4|              Ótimo |           Tudo certo!|          2018-06-08|             2018-06-11|\n",
      "|104d88e666e2ec697...|f67200897bebcf89f...|           1|Recebi o produto ...|  Recebi um produto...|          2018-06-09|             2018-06-12|\n",
      "|0ea7c4f19490b1328...|be478d4dcd43d78a8...|           1|Não recebi a colc...|  Foi me enviado ap...|          2018-05-22|             2018-05-23|\n",
      "|ce0fc5f1ff91f6aaf...|be841bacf330bacd6...|           5|           Muito bom|         Ótima compra.|          2018-06-12|             2018-06-12|\n",
      "|9e9cfa056dcd246d1...|5adc3f51c4b9e5179...|           5|    Muito satisfeito|  Produto de qualid...|          2018-08-30|             2018-08-30|\n",
      "|ac2403ebd2706b3bd...|d49923f6cdc209435...|           5|***** recomendo 2...|  um otimo produto ...|          2018-07-24|             2018-07-25|\n",
      "|fa28b32a0c26a05ae...|08aaceadd05378920...|           5|           Muito bom|  Sempre gostei de ...|          2018-08-07|             2018-08-08|\n",
      "|875bc8ca828e1c585...|eb31553c792400e69...|           5|     Super recomendo|  Produto muito bom...|          2018-07-01|             2018-07-02|\n",
      "|d2778bedb92f5e0d8...|18a776dac8d1ef0fd...|           5|     SUPER RECOMENDO|                 OTIMO|          2018-06-05|             2018-06-06|\n",
      "|77aecc9798d57db2f...|6a88f33cfa12ff51d...|           5|          Frete ágil|  Entrega muito mai...|          2018-05-18|             2018-05-21|\n",
      "|6a8becea75ddeafc9...|1503ebc29924d7996...|           1|Recebi, está inco...|  Recebi apenas uma...|          2018-08-31|             2018-09-01|\n",
      "|b9885c0bcf45df857...|7f7262568cd71aa7d...|           4|                 Bom|  A loja ótima, o p...|          2018-08-31|             2018-09-02|\n",
      "|61a0ecb5082b25a8c...|7b50bcf02eb72d094...|           3|         Satisfeita |  Produto entregue ...|          2018-04-29|             2018-04-30|\n",
      "|16693a75a341d2087...|d7a53abb4cdb99a31...|           1|Cha verde matcha ...|  Picaretagem, anun...|          2018-08-10|             2018-08-20|\n",
      "|f5b9dc711b5c8bbb7...|acf18126190806b1d...|           5|           Excelente|   Ótimo produto e ...|          2018-08-10|             2018-08-12|\n",
      "|ad2cb7174d08a12cb...|75bbab3ac7d40ef52...|           4|                  10|  A entrega foi ant...|          2018-05-19|             2018-05-21|\n",
      "|d4bec1a24c97bd17b...|7d12ce7f6e649552e...|           2|  Faltou mercadoria |  Só veio um dos pe...|          2018-08-23|             2018-08-27|\n",
      "|58a5f1cd9fe00f55e...|29c6bdbb87aa50d68...|           5|           Perfeito |             Parabéns.|          2018-08-04|             2018-08-06|\n",
      "|fd71e966fa4f37c81...|ceb5dc7d606fc7b10...|           5|        Bom relógio |  Bom relógio! Cheg...|          2018-08-04|             2018-08-06|\n",
      "+--------------------+--------------------+------------+--------------------+----------------------+--------------------+-----------------------+\n",
      "only showing top 20 rows\n",
      "\n"
     ]
    },
    {
     "name": "stderr",
     "output_type": "stream",
     "text": [
      "                                                                                \r"
     ]
    }
   ],
   "source": [
    "df_orders_reviews.show()"
   ]
  },
  {
   "cell_type": "markdown",
   "id": "c3a7ae20",
   "metadata": {},
   "source": [
    "Agora que temos a tipagem feita, vamos salvar o arquivo final em parquet"
   ]
  },
  {
   "cell_type": "code",
   "execution_count": 54,
   "id": "823a304e",
   "metadata": {},
   "outputs": [
    {
     "name": "stderr",
     "output_type": "stream",
     "text": [
      "                                                                                \r"
     ]
    }
   ],
   "source": [
    "Path(os.path.join(src_path.format(stage='silver'), 'olit_order_reviews')).mkdir(parents=True, exist_ok=True)\n",
    "df_orders_reviews.write.mode('overwrite')\\\n",
    "    .format('delta')\\\n",
    "        .option(\"compression\", \"snappy\")\\\n",
    "            .save(os.path.join(src_path.format(stage='silver'), 'olit_order_reviews'))"
   ]
  },
  {
   "cell_type": "markdown",
   "id": "90a19b0f",
   "metadata": {},
   "source": [
    "# Analise do arquivo olist orders dataset"
   ]
  },
  {
   "cell_type": "code",
   "execution_count": 55,
   "id": "3715059e",
   "metadata": {},
   "outputs": [
    {
     "name": "stderr",
     "output_type": "stream",
     "text": [
      "                                                                                \r"
     ]
    },
    {
     "name": "stdout",
     "output_type": "stream",
     "text": [
      "+--------------------------------+--------------------------------+------------+------------------------+-------------------+----------------------------+-----------------------------+-----------------------------+\n",
      "|order_id                        |customer_id                     |order_status|order_purchase_timestamp|order_approved_at  |order_delivered_carrier_date|order_delivered_customer_date|order_estimated_delivery_date|\n",
      "+--------------------------------+--------------------------------+------------+------------------------+-------------------+----------------------------+-----------------------------+-----------------------------+\n",
      "|e481f51cbdc54678b7cc49136f2d6af7|9ef432eb6251297304e76186b10a928d|delivered   |2017-10-02 10:56:33     |2017-10-02 11:07:15|2017-10-04 19:55:00         |2017-10-10 21:25:13          |2017-10-18 00:00:00          |\n",
      "|53cdb2fc8bc7dce0b6741e2150273451|b0830fb4747a6c6d20dea0b8c802d7ef|delivered   |2018-07-24 20:41:37     |2018-07-26 03:24:27|2018-07-26 14:31:00         |2018-08-07 15:27:45          |2018-08-13 00:00:00          |\n",
      "|47770eb9100c2d0c44946d9cf07ec65d|41ce2a54c0b03bf3443c3d931a367089|delivered   |2018-08-08 08:38:49     |2018-08-08 08:55:23|2018-08-08 13:50:00         |2018-08-17 18:06:29          |2018-09-04 00:00:00          |\n",
      "|949d5b44dbf5de918fe9c16f97b45f8a|f88197465ea7920adcdbec7375364d82|delivered   |2017-11-18 19:28:06     |2017-11-18 19:45:59|2017-11-22 13:39:59         |2017-12-02 00:28:42          |2017-12-15 00:00:00          |\n",
      "|ad21c59c0840e6cb83a9ceb5573f8159|8ab97904e6daea8866dbdbc4fb7aad2c|delivered   |2018-02-13 21:18:39     |2018-02-13 22:20:29|2018-02-14 19:46:34         |2018-02-16 18:17:02          |2018-02-26 00:00:00          |\n",
      "|a4591c265e18cb1dcee52889e2d8acc3|503740e9ca751ccdda7ba28e9ab8f608|delivered   |2017-07-09 21:57:05     |2017-07-09 22:10:13|2017-07-11 14:58:04         |2017-07-26 10:57:55          |2017-08-01 00:00:00          |\n",
      "|136cce7faa42fdb2cefd53fdc79a6098|ed0271e0b7da060a393796590e7b737a|invoiced    |2017-04-11 12:22:08     |2017-04-13 13:25:17|NULL                        |NULL                         |2017-05-09 00:00:00          |\n",
      "|6514b8ad8028c9f2cc2374ded245783f|9bdf08b4b3b52b5526ff42d37d47f222|delivered   |2017-05-16 13:10:30     |2017-05-16 13:22:11|2017-05-22 10:07:46         |2017-05-26 12:55:51          |2017-06-07 00:00:00          |\n",
      "|76c6e866289321a7c93b82b54852dc33|f54a9f0e6b351c431402b8461ea51999|delivered   |2017-01-23 18:29:09     |2017-01-25 02:50:47|2017-01-26 14:16:31         |2017-02-02 14:08:10          |2017-03-06 00:00:00          |\n",
      "|e69bfb5eb88e0ed6a785585b27e16dbf|31ad1d1b63eb9962463f764d4e6e0c9d|delivered   |2017-07-29 11:55:02     |2017-07-29 12:05:32|2017-08-10 19:45:24         |2017-08-16 17:14:30          |2017-08-23 00:00:00          |\n",
      "+--------------------------------+--------------------------------+------------+------------------------+-------------------+----------------------------+-----------------------------+-----------------------------+\n",
      "only showing top 10 rows\n",
      "\n"
     ]
    }
   ],
   "source": [
    "df_orders = spark.read.csv(os.path.join(src_path.format(stage='bronze'), 'olist_orders_dataset.csv'), header=True, sep=\",\", inferSchema=True)\n",
    "df_orders.show(truncate=False, n=10)"
   ]
  },
  {
   "cell_type": "markdown",
   "id": "064a3fc7",
   "metadata": {},
   "source": [
    "Vamos verificar se há dados nulos nas colunas principais que são Order_id e customer_id"
   ]
  },
  {
   "cell_type": "markdown",
   "id": "1b669da9",
   "metadata": {},
   "source": []
  },
  {
   "cell_type": "code",
   "execution_count": 56,
   "id": "1842e5a8",
   "metadata": {},
   "outputs": [
    {
     "name": "stdout",
     "output_type": "stream",
     "text": [
      "+--------+-----------+------------+------------------------+-----------------+----------------------------+-----------------------------+-----------------------------+\n",
      "|order_id|customer_id|order_status|order_purchase_timestamp|order_approved_at|order_delivered_carrier_date|order_delivered_customer_date|order_estimated_delivery_date|\n",
      "+--------+-----------+------------+------------------------+-----------------+----------------------------+-----------------------------+-----------------------------+\n",
      "+--------+-----------+------------+------------------------+-----------------+----------------------------+-----------------------------+-----------------------------+\n",
      "\n"
     ]
    }
   ],
   "source": [
    "df_orders.filter((col('order_id').isNull()) | (col('order_id')=='')).show()"
   ]
  },
  {
   "cell_type": "code",
   "execution_count": 57,
   "id": "66bcbf9a",
   "metadata": {},
   "outputs": [
    {
     "name": "stderr",
     "output_type": "stream",
     "text": [
      "[Stage 177:>                                                        (0 + 1) / 1]\r"
     ]
    },
    {
     "name": "stdout",
     "output_type": "stream",
     "text": [
      "+--------+-----------+------------+------------------------+-----------------+----------------------------+-----------------------------+-----------------------------+\n",
      "|order_id|customer_id|order_status|order_purchase_timestamp|order_approved_at|order_delivered_carrier_date|order_delivered_customer_date|order_estimated_delivery_date|\n",
      "+--------+-----------+------------+------------------------+-----------------+----------------------------+-----------------------------+-----------------------------+\n",
      "+--------+-----------+------------+------------------------+-----------------+----------------------------+-----------------------------+-----------------------------+\n",
      "\n"
     ]
    },
    {
     "name": "stderr",
     "output_type": "stream",
     "text": [
      "                                                                                \r"
     ]
    }
   ],
   "source": [
    "df_orders.filter((col('customer_id').isNull()) | (col('customer_id')=='')).show()"
   ]
  },
  {
   "cell_type": "markdown",
   "id": "aab03000",
   "metadata": {},
   "source": [
    "Não possuimos dados nulos nas colunas principais, aogra vamos verificar se essa coluna possui uma coluna de identificador único"
   ]
  },
  {
   "cell_type": "code",
   "execution_count": 58,
   "id": "50731e04",
   "metadata": {},
   "outputs": [
    {
     "name": "stderr",
     "output_type": "stream",
     "text": [
      "[Stage 179:============================>                            (1 + 1) / 2]\r"
     ]
    },
    {
     "name": "stdout",
     "output_type": "stream",
     "text": [
      "+--------+-----+\n",
      "|order_id|count|\n",
      "+--------+-----+\n",
      "+--------+-----+\n",
      "\n"
     ]
    },
    {
     "name": "stderr",
     "output_type": "stream",
     "text": [
      "                                                                                \r"
     ]
    }
   ],
   "source": [
    "df_orders.groupBy(col('order_id')).count().filter(col('count')>1).show()"
   ]
  },
  {
   "cell_type": "markdown",
   "id": "15da1045",
   "metadata": {},
   "source": [
    "A coluna de order_id parece ser nossa coluna ID, vamos verificar a coluna de customer"
   ]
  },
  {
   "cell_type": "code",
   "execution_count": 59,
   "id": "2e7e7310",
   "metadata": {},
   "outputs": [
    {
     "name": "stderr",
     "output_type": "stream",
     "text": [
      "[Stage 184:>                                                        (0 + 2) / 2]\r"
     ]
    },
    {
     "name": "stdout",
     "output_type": "stream",
     "text": [
      "+-----------+-----+\n",
      "|customer_id|count|\n",
      "+-----------+-----+\n",
      "+-----------+-----+\n",
      "\n"
     ]
    },
    {
     "name": "stderr",
     "output_type": "stream",
     "text": [
      "                                                                                \r"
     ]
    }
   ],
   "source": [
    "df_orders.groupBy(col('customer_id')).count().filter(col('count')>1).show()"
   ]
  },
  {
   "cell_type": "markdown",
   "id": "5fe9b559",
   "metadata": {},
   "source": [
    "A coluna customer id também não possui dados duplicados"
   ]
  },
  {
   "cell_type": "markdown",
   "id": "0a359444",
   "metadata": {},
   "source": [
    "Analisando a estrutura do sistema proposto, entende-se que essa tabela deve ter como identificador único a ordem, pois a proposta é identificar o status do pedido do cliente."
   ]
  },
  {
   "cell_type": "markdown",
   "id": "2006b032",
   "metadata": {},
   "source": [
    "Agora, vamos analisar a tipagem dos dados"
   ]
  },
  {
   "cell_type": "code",
   "execution_count": 60,
   "id": "551f4115",
   "metadata": {},
   "outputs": [
    {
     "name": "stdout",
     "output_type": "stream",
     "text": [
      "root\n",
      " |-- order_id: string (nullable = true)\n",
      " |-- customer_id: string (nullable = true)\n",
      " |-- order_status: string (nullable = true)\n",
      " |-- order_purchase_timestamp: timestamp (nullable = true)\n",
      " |-- order_approved_at: timestamp (nullable = true)\n",
      " |-- order_delivered_carrier_date: timestamp (nullable = true)\n",
      " |-- order_delivered_customer_date: timestamp (nullable = true)\n",
      " |-- order_estimated_delivery_date: timestamp (nullable = true)\n",
      "\n"
     ]
    }
   ],
   "source": [
    "df_orders.printSchema()"
   ]
  },
  {
   "cell_type": "markdown",
   "id": "700b5137",
   "metadata": {},
   "source": [
    "Ao fazer a leitura do dataset com Spark, a tipagem dos dados já foi realizada com sucesso, não sendo necessario qualquer alteração"
   ]
  },
  {
   "cell_type": "markdown",
   "id": "cf2bccf4",
   "metadata": {},
   "source": [
    "vamos verificar agora os valores da coluna de status para entender as possibildiades"
   ]
  },
  {
   "cell_type": "code",
   "execution_count": 61,
   "id": "5d4698bd",
   "metadata": {},
   "outputs": [
    {
     "name": "stdout",
     "output_type": "stream",
     "text": [
      "+------------+\n",
      "|order_status|\n",
      "+------------+\n",
      "|     shipped|\n",
      "|    canceled|\n",
      "|    approved|\n",
      "|    invoiced|\n",
      "|     created|\n",
      "|   delivered|\n",
      "| unavailable|\n",
      "|  processing|\n",
      "+------------+\n",
      "\n"
     ]
    }
   ],
   "source": [
    "df_orders.select('order_status').distinct().show()"
   ]
  },
  {
   "cell_type": "markdown",
   "id": "6d83efe5",
   "metadata": {},
   "source": [
    "Vamos salvar nosso dataset em parquet"
   ]
  },
  {
   "cell_type": "code",
   "execution_count": 62,
   "id": "d8d636d9",
   "metadata": {},
   "outputs": [
    {
     "name": "stderr",
     "output_type": "stream",
     "text": [
      "                                                                                \r"
     ]
    }
   ],
   "source": [
    "Path(os.path.join(src_path.format(stage='silver'), 'olit_orders')).mkdir(parents=True, exist_ok=True)\n",
    "df_orders.write.mode('overwrite')\\\n",
    "    .format('delta')\\\n",
    "        .option(\"compression\", \"snappy\")\\\n",
    "            .save(os.path.join(src_path.format(stage='silver'), 'olit_orders'))"
   ]
  },
  {
   "cell_type": "markdown",
   "id": "2a4041b7",
   "metadata": {},
   "source": [
    "# Analisando arquivo olist products dataset"
   ]
  },
  {
   "cell_type": "code",
   "execution_count": 63,
   "id": "a7d1541f",
   "metadata": {},
   "outputs": [
    {
     "name": "stdout",
     "output_type": "stream",
     "text": [
      "+--------------------------------+---------------------+-------------------+--------------------------+------------------+----------------+-----------------+-----------------+----------------+\n",
      "|product_id                      |product_category_name|product_name_lenght|product_description_lenght|product_photos_qty|product_weight_g|product_length_cm|product_height_cm|product_width_cm|\n",
      "+--------------------------------+---------------------+-------------------+--------------------------+------------------+----------------+-----------------+-----------------+----------------+\n",
      "|1e9e8ef04dbcff4541ed26657ea517e5|perfumaria           |40                 |287                       |1                 |225             |16               |10               |14              |\n",
      "|3aa071139cb16b67ca9e5dea641aaa2f|artes                |44                 |276                       |1                 |1000            |30               |18               |20              |\n",
      "|96bd76ec8810374ed1b65e291975717f|esporte_lazer        |46                 |250                       |1                 |154             |18               |9                |15              |\n",
      "|cef67bcfe19066a932b7673e239eb23d|bebes                |27                 |261                       |1                 |371             |26               |4                |26              |\n",
      "|9dc1a7de274444849c219cff195d0b71|utilidades_domesticas|37                 |402                       |4                 |625             |20               |17               |13              |\n",
      "|41d3672d4792049fa1779bb35283ed13|instrumentos_musicais|60                 |745                       |1                 |200             |38               |5                |11              |\n",
      "|732bd381ad09e530fe0a5f457d81becb|cool_stuff           |56                 |1272                      |4                 |18350           |70               |24               |44              |\n",
      "|2548af3e6e77a690cf3eb6368e9ab61e|moveis_decoracao     |56                 |184                       |2                 |900             |40               |8                |40              |\n",
      "|37cc742be07708b53a98702e77a21a02|eletrodomesticos     |57                 |163                       |1                 |400             |27               |13               |17              |\n",
      "|8c92109888e8cdf9d66dc7e463025574|brinquedos           |36                 |1156                      |1                 |600             |17               |10               |12              |\n",
      "+--------------------------------+---------------------+-------------------+--------------------------+------------------+----------------+-----------------+-----------------+----------------+\n",
      "only showing top 10 rows\n",
      "\n"
     ]
    }
   ],
   "source": [
    "df_products = spark.read.csv(os.path.join(src_path.format(stage='bronze'), 'olist_products_dataset.csv'), header=True, sep=\",\", inferSchema=True)\n",
    "df_products.show(truncate=False, n=10)"
   ]
  },
  {
   "cell_type": "markdown",
   "id": "250efd6d",
   "metadata": {},
   "source": [
    "A primeira vista, o dataset deve ter a leitura de que o product_id é o identificador único, categoria deve ser mais multiplos e os demais são caracteristas de cada produto sendo que podem ser parecidos ou iguais, mas com Id diferentes"
   ]
  },
  {
   "cell_type": "markdown",
   "id": "cbf5015b",
   "metadata": {},
   "source": [
    "Vamos verificar se há nulos ou vazios na coluna product_id"
   ]
  },
  {
   "cell_type": "code",
   "execution_count": 64,
   "id": "501207bd",
   "metadata": {},
   "outputs": [
    {
     "name": "stdout",
     "output_type": "stream",
     "text": [
      "+----------+---------------------+-------------------+--------------------------+------------------+----------------+-----------------+-----------------+----------------+\n",
      "|product_id|product_category_name|product_name_lenght|product_description_lenght|product_photos_qty|product_weight_g|product_length_cm|product_height_cm|product_width_cm|\n",
      "+----------+---------------------+-------------------+--------------------------+------------------+----------------+-----------------+-----------------+----------------+\n",
      "+----------+---------------------+-------------------+--------------------------+------------------+----------------+-----------------+-----------------+----------------+\n",
      "\n"
     ]
    }
   ],
   "source": [
    "df_products.filter((col('product_id').isNull()) | (col('product_id')=='')).show()"
   ]
  },
  {
   "cell_type": "markdown",
   "id": "6a3be0ce",
   "metadata": {},
   "source": [
    "Não foi identificado valores nulos ou vazios, vamos agora verificar se há duplicados"
   ]
  },
  {
   "cell_type": "code",
   "execution_count": 65,
   "id": "2c6aadc8",
   "metadata": {},
   "outputs": [
    {
     "name": "stdout",
     "output_type": "stream",
     "text": [
      "+----------+-----+\n",
      "|product_id|count|\n",
      "+----------+-----+\n",
      "+----------+-----+\n",
      "\n"
     ]
    }
   ],
   "source": [
    "df_products.groupBy(col('product_id')).count().filter(col('count') > 1).show()"
   ]
  },
  {
   "cell_type": "markdown",
   "id": "c145c2f3",
   "metadata": {},
   "source": [
    "Não possuimos nulos na nossa coluna de identificador"
   ]
  },
  {
   "cell_type": "code",
   "execution_count": 66,
   "id": "c9f67212",
   "metadata": {},
   "outputs": [
    {
     "name": "stderr",
     "output_type": "stream",
     "text": [
      "[Stage 211:>                                                        (0 + 1) / 1]\r"
     ]
    },
    {
     "name": "stdout",
     "output_type": "stream",
     "text": [
      "+----------+---------------------+-------------------+--------------------------+------------------+----------------+-----------------+-----------------+----------------+-----+\n",
      "|product_id|product_category_name|product_name_lenght|product_description_lenght|product_photos_qty|product_weight_g|product_length_cm|product_height_cm|product_width_cm|count|\n",
      "+----------+---------------------+-------------------+--------------------------+------------------+----------------+-----------------+-----------------+----------------+-----+\n",
      "+----------+---------------------+-------------------+--------------------------+------------------+----------------+-----------------+-----------------+----------------+-----+\n",
      "\n"
     ]
    },
    {
     "name": "stderr",
     "output_type": "stream",
     "text": [
      "                                                                                \r"
     ]
    }
   ],
   "source": [
    "df_products.groupBy(df_products.columns).count().filter(col('count') > 1).show()"
   ]
  },
  {
   "cell_type": "markdown",
   "id": "2b09ecee",
   "metadata": {},
   "source": [
    "Vamos verificar agora a tipagem dos dados"
   ]
  },
  {
   "cell_type": "code",
   "execution_count": 67,
   "id": "4dadef85",
   "metadata": {},
   "outputs": [
    {
     "name": "stdout",
     "output_type": "stream",
     "text": [
      "root\n",
      " |-- product_id: string (nullable = true)\n",
      " |-- product_category_name: string (nullable = true)\n",
      " |-- product_name_lenght: integer (nullable = true)\n",
      " |-- product_description_lenght: integer (nullable = true)\n",
      " |-- product_photos_qty: integer (nullable = true)\n",
      " |-- product_weight_g: integer (nullable = true)\n",
      " |-- product_length_cm: integer (nullable = true)\n",
      " |-- product_height_cm: integer (nullable = true)\n",
      " |-- product_width_cm: integer (nullable = true)\n",
      "\n"
     ]
    }
   ],
   "source": [
    "df_products.printSchema()"
   ]
  },
  {
   "cell_type": "markdown",
   "id": "f828a8db",
   "metadata": {},
   "source": [
    "A tipagem dos dados está coerente com os dados do dataset, não sendo necessário fazer demais alterações. Vamos salvar nosso dataset em parquet"
   ]
  },
  {
   "cell_type": "code",
   "execution_count": 68,
   "id": "91c72e5c",
   "metadata": {},
   "outputs": [
    {
     "name": "stderr",
     "output_type": "stream",
     "text": [
      "                                                                                \r"
     ]
    }
   ],
   "source": [
    "Path(os.path.join(src_path.format(stage='silver'), 'olist_products')).mkdir(parents=True, exist_ok=True)\n",
    "df_products.write.mode('overwrite')\\\n",
    "    .format('delta')\\\n",
    "        .option(\"compression\", \"snappy\")\\\n",
    "            .save(os.path.join(src_path.format(stage='silver'), 'olist_products'))"
   ]
  },
  {
   "cell_type": "markdown",
   "id": "581d2753",
   "metadata": {},
   "source": [
    "# Analisando o arquivo olist sellers"
   ]
  },
  {
   "cell_type": "code",
   "execution_count": 69,
   "id": "1d4b897a",
   "metadata": {},
   "outputs": [
    {
     "name": "stdout",
     "output_type": "stream",
     "text": [
      "+--------------------------------+----------------------+-----------------+------------+\n",
      "|seller_id                       |seller_zip_code_prefix|seller_city      |seller_state|\n",
      "+--------------------------------+----------------------+-----------------+------------+\n",
      "|3442f8959a84dea7ee197c632cb2df15|13023                 |campinas         |SP          |\n",
      "|d1b65fc7debc3361ea86b5f14c68d2e2|13844                 |mogi guacu       |SP          |\n",
      "|ce3ad9de960102d0677a81f5d0bb7b2d|20031                 |rio de janeiro   |RJ          |\n",
      "|c0f3eea2e14555b6faeea3dd58c1b1c3|4195                  |sao paulo        |SP          |\n",
      "|51a04a8a6bdcb23deccc82b0b80742cf|12914                 |braganca paulista|SP          |\n",
      "|c240c4061717ac1806ae6ee72be3533b|20920                 |rio de janeiro   |RJ          |\n",
      "|e49c26c3edfa46d227d5121a6b6e4d37|55325                 |brejao           |PE          |\n",
      "|1b938a7ec6ac5061a66a3766e0e75f90|16304                 |penapolis        |SP          |\n",
      "|768a86e36ad6aae3d03ee3c6433d61df|1529                  |sao paulo        |SP          |\n",
      "|ccc4bbb5f32a6ab2b7066a4130f114e3|80310                 |curitiba         |PR          |\n",
      "+--------------------------------+----------------------+-----------------+------------+\n",
      "only showing top 10 rows\n",
      "\n"
     ]
    }
   ],
   "source": [
    "df_sellers = spark.read.csv(os.path.join(src_path.format(stage='bronze'), 'olist_sellers_dataset.csv'), header=True, sep=\",\", inferSchema=True)\n",
    "df_sellers.show(truncate=False, n=10)"
   ]
  },
  {
   "cell_type": "markdown",
   "id": "27dd83bc",
   "metadata": {},
   "source": [
    "A ideia proposta para esse arquivo é diferente do dataset do customers. Enquanto no customer a ideia é ter o customer_id que é relacionado à um customer_unique_id, aqui a ideia é que a coluna sellers_id já seja a coluna de identificador único, vamos seguir com a analise come essa regra."
   ]
  },
  {
   "cell_type": "code",
   "execution_count": 70,
   "id": "762cef47",
   "metadata": {},
   "outputs": [
    {
     "name": "stdout",
     "output_type": "stream",
     "text": [
      "+---------+----------------------+-----------+------------+\n",
      "|seller_id|seller_zip_code_prefix|seller_city|seller_state|\n",
      "+---------+----------------------+-----------+------------+\n",
      "+---------+----------------------+-----------+------------+\n",
      "\n"
     ]
    }
   ],
   "source": [
    "df_sellers.filter((col('seller_id').isNull()) | (col('seller_id')=='')).show()"
   ]
  },
  {
   "cell_type": "markdown",
   "id": "55833569",
   "metadata": {},
   "source": [
    "não possuimos valores nulos ou vazios na nossa coluna de identificador único. Vamos verificar a tipagem dos dados"
   ]
  },
  {
   "cell_type": "code",
   "execution_count": 71,
   "id": "283ddaec",
   "metadata": {},
   "outputs": [
    {
     "name": "stdout",
     "output_type": "stream",
     "text": [
      "root\n",
      " |-- seller_id: string (nullable = true)\n",
      " |-- seller_zip_code_prefix: integer (nullable = true)\n",
      " |-- seller_city: string (nullable = true)\n",
      " |-- seller_state: string (nullable = true)\n",
      "\n"
     ]
    }
   ],
   "source": [
    "df_sellers.printSchema()"
   ]
  },
  {
   "cell_type": "markdown",
   "id": "6fcee0ee",
   "metadata": {},
   "source": [
    "A tipagem dos dados faz sentido com os dados no dataset. Vamos salvar nosso dataset em parquet"
   ]
  },
  {
   "cell_type": "code",
   "execution_count": 76,
   "id": "061f1961",
   "metadata": {},
   "outputs": [
    {
     "name": "stdout",
     "output_type": "stream",
     "text": [
      "+--------------------+----------------------+\n",
      "|           seller_id|seller_zip_code_prefix|\n",
      "+--------------------+----------------------+\n",
      "|3442f8959a84dea7e...|                 13023|\n",
      "+--------------------+----------------------+\n",
      "only showing top 1 row\n",
      "\n"
     ]
    },
    {
     "name": "stderr",
     "output_type": "stream",
     "text": [
      "                                                                                \r"
     ]
    }
   ],
   "source": [
    "df_sellers_ = df_sellers.select(\n",
    "    col('seller_id'),\n",
    "    col('seller_zip_code_prefix'),    \n",
    ")\n",
    "\n",
    "df_geo = df_sellers.select(\n",
    "    col('seller_zip_code_prefix'),\n",
    "    col('seller_city'),\n",
    "    col('seller_state')\n",
    ")\n",
    "\n",
    "df_sellers_.show(1)"
   ]
  },
  {
   "cell_type": "code",
   "execution_count": 77,
   "id": "24f2dad0",
   "metadata": {},
   "outputs": [
    {
     "name": "stderr",
     "output_type": "stream",
     "text": [
      "                                                                                \r"
     ]
    }
   ],
   "source": [
    "Path(os.path.join(src_path.format(stage='silver'), 'olist_sellers')).mkdir(parents=True, exist_ok=True)\n",
    "df_sellers.write.mode('overwrite')\\\n",
    "    .format('delta')\\\n",
    "        .option(\"compression\", \"snappy\")\\\n",
    "            .save(os.path.join(src_path.format(stage='silver'), 'olist_sellers'))"
   ]
  },
  {
   "cell_type": "markdown",
   "id": "67e607a7",
   "metadata": {},
   "source": [
    "Agora vamos concluir o arquivo de geolocalização"
   ]
  },
  {
   "cell_type": "code",
   "execution_count": 78,
   "id": "e8a5af8b",
   "metadata": {},
   "outputs": [
    {
     "name": "stdout",
     "output_type": "stream",
     "text": [
      "+----------------------+-----------------+------------+\n",
      "|seller_zip_code_prefix|      seller_city|seller_state|\n",
      "+----------------------+-----------------+------------+\n",
      "|                 13023|         campinas|          SP|\n",
      "|                 13844|       mogi guacu|          SP|\n",
      "|                 20031|   rio de janeiro|          RJ|\n",
      "|                  4195|        sao paulo|          SP|\n",
      "|                 12914|braganca paulista|          SP|\n",
      "+----------------------+-----------------+------------+\n",
      "only showing top 5 rows\n",
      "\n"
     ]
    }
   ],
   "source": [
    "df_geo.show(5)"
   ]
  },
  {
   "cell_type": "markdown",
   "id": "dd0a0cf4",
   "metadata": {},
   "source": [
    "Agora, vamos verificar apenas os zip_codes que não estão na tabela de geolocalização e fazer uma lista dessas cidades\n",
    "a fim de coletar a latitude e longitude da cidade. Vamos utilizar localização da cidade para os casos em que não possui latitude e longitude"
   ]
  },
  {
   "cell_type": "code",
   "execution_count": null,
   "id": "35eae6c2",
   "metadata": {},
   "outputs": [
    {
     "name": "stderr",
     "output_type": "stream",
     "text": [
      "                                                                                \r"
     ]
    },
    {
     "data": {
      "text/plain": [
       "[Row(seller_city='brasilia', seller_state='DF'),\n",
       " Row(seller_city='pocos de caldas', seller_state='MG'),\n",
       " Row(seller_city='porto alegre', seller_state='RS'),\n",
       " Row(seller_city='aruja', seller_state='SP'),\n",
       " Row(seller_city='sao paulo', seller_state='SP'),\n",
       " Row(seller_city='curitiba', seller_state='PR')]"
      ]
     },
     "execution_count": 91,
     "metadata": {},
     "output_type": "execute_result"
    }
   ],
   "source": [
    "df_insert_geo = df_geo.join(df_geolocation, on=df_geolocation.geolocation_zip_code_prefix == df_geo.seller_zip_code_prefix, how=\"left_anti\")\n",
    "unique_cities = df_insert_geo.select(\"seller_city\", \"seller_state\").distinct().collect()\n",
    "unique_cities"
   ]
  },
  {
   "cell_type": "markdown",
   "id": "53a10480",
   "metadata": {},
   "source": [
    "Vamos intanciar a biblioteca GeoPy e fazer um looping pelas listas de cidades"
   ]
  },
  {
   "cell_type": "code",
   "execution_count": 95,
   "id": "dcf4ba2f",
   "metadata": {},
   "outputs": [],
   "source": [
    "geolocator = Nominatim(user_agent=\"geoapi\")\n",
    "city_coords = {}\n",
    "\n",
    "for row in unique_cities:\n",
    "    cidade = row['seller_city']\n",
    "    estado = row['seller_state']\n",
    "    local_str = f\"{cidade}, {estado}, Brasil\"\n",
    "    \n",
    "    try:\n",
    "        location = geolocator.geocode(local_str)\n",
    "        if location:\n",
    "            city_coords[(cidade.lower(), estado)] = (location.latitude, location.longitude)\n",
    "    except Exception as e:\n",
    "        print(f\"Erro em {local_str}: {e}\")\n",
    "    \n",
    "    time.sleep(1)"
   ]
  },
  {
   "cell_type": "markdown",
   "id": "7d54ef68",
   "metadata": {},
   "source": [
    "Agora vamos montar um dataset na padrão que queremos"
   ]
  },
  {
   "cell_type": "code",
   "execution_count": 96,
   "id": "2f58b1bf",
   "metadata": {},
   "outputs": [],
   "source": [
    "city_coord_rows = [\n",
    "    Row(\n",
    "        seller_city=city,\n",
    "        seller_state=state,\n",
    "        geolocation_lat=lat,\n",
    "        geolocation_lng=lng\n",
    "    )\n",
    "    for (city, state), (lat, lng) in city_coords.items()\n",
    "]\n",
    "\n",
    "df_coords = spark.createDataFrame(city_coord_rows)"
   ]
  },
  {
   "cell_type": "code",
   "execution_count": null,
   "id": "093245e8",
   "metadata": {},
   "outputs": [
    {
     "name": "stderr",
     "output_type": "stream",
     "text": [
      "                                                                                \r"
     ]
    },
    {
     "name": "stdout",
     "output_type": "stream",
     "text": [
      "+----------------+-----------------+---------------------------+---------------+---------------+\n",
      "|geolocation_city|geolocation_state|geolocation_zip_code_prefix|geolocation_lat|geolocation_lng|\n",
      "+----------------+-----------------+---------------------------+---------------+---------------+\n",
      "|        brasilia|               DF|                      72580|    -15.7939869|       -47.8828|\n",
      "|    porto alegre|               RS|                      91901|    -30.0324999|    -51.2303767|\n",
      "| pocos de caldas|               MG|                      37708|    -21.7900318|    -46.5647928|\n",
      "|       sao paulo|               SP|                       2285|    -23.5506507|    -46.6333824|\n",
      "|           aruja|               SP|                       7412|     -23.396266|    -46.3175449|\n",
      "+----------------+-----------------+---------------------------+---------------+---------------+\n",
      "only showing top 5 rows\n",
      "\n"
     ]
    }
   ],
   "source": [
    "df_result = df_insert_geo.join(\n",
    "    df_coords,\n",
    "    on=[\"seller_city\", \"seller_state\"],\n",
    "    how=\"left\"\n",
    ")\n",
    "\n",
    "df_result = df_result.withColumnRenamed(\"seller_zip_code_prefix\", \"geolocation_zip_code_prefix\") \\\n",
    "                     .withColumnRenamed(\"seller_city\", \"geolocation_city\") \\\n",
    "                     .withColumnRenamed(\"seller_state\", \"geolocation_state\")\n",
    "\n",
    "df_result.show(5)"
   ]
  },
  {
   "cell_type": "code",
   "execution_count": 101,
   "id": "bad7353d",
   "metadata": {},
   "outputs": [
    {
     "name": "stderr",
     "output_type": "stream",
     "text": [
      "                                                                                \r"
     ]
    },
    {
     "name": "stdout",
     "output_type": "stream",
     "text": [
      "+---------------------------+---------------+---------------+----------------+-----------------+\n",
      "|geolocation_zip_code_prefix|geolocation_lat|geolocation_lng|geolocation_city|geolocation_state|\n",
      "+---------------------------+---------------+---------------+----------------+-----------------+\n",
      "|                      72580|    -15.7939869|       -47.8828|        brasilia|               DF|\n",
      "|                      91901|    -30.0324999|    -51.2303767|    porto alegre|               RS|\n",
      "|                      37708|    -21.7900318|    -46.5647928| pocos de caldas|               MG|\n",
      "|                       2285|    -23.5506507|    -46.6333824|       sao paulo|               SP|\n",
      "|                       7412|     -23.396266|    -46.3175449|           aruja|               SP|\n",
      "+---------------------------+---------------+---------------+----------------+-----------------+\n",
      "only showing top 5 rows\n",
      "\n"
     ]
    }
   ],
   "source": [
    "df_insert = df_result.select(\n",
    "    col('geolocation_zip_code_prefix'),\n",
    "    col('geolocation_lat'),\n",
    "    col('geolocation_lng'),\n",
    "    col('geolocation_city'),\n",
    "    col('geolocation_state')\n",
    ")\n",
    "\n",
    "df_insert.show(5)"
   ]
  },
  {
   "cell_type": "markdown",
   "id": "ac2e2420",
   "metadata": {},
   "source": [
    "Agora vamos fazer um union com o dataset preexistente de geolocalização"
   ]
  },
  {
   "cell_type": "code",
   "execution_count": 102,
   "id": "06357aae",
   "metadata": {},
   "outputs": [
    {
     "name": "stderr",
     "output_type": "stream",
     "text": [
      "                                                                                \r"
     ]
    },
    {
     "name": "stdout",
     "output_type": "stream",
     "text": [
      "+---------------------------+---------------+---------------+----------------+-----------------+\n",
      "|geolocation_zip_code_prefix|geolocation_lat|geolocation_lng|geolocation_city|geolocation_state|\n",
      "+---------------------------+---------------+---------------+----------------+-----------------+\n",
      "|                      72580|    -15.7939869|       -47.8828|        brasilia|               DF|\n",
      "+---------------------------+---------------+---------------+----------------+-----------------+\n",
      "\n"
     ]
    }
   ],
   "source": [
    "df_geolocation_ = df_geolocation.union(df_insert)\n",
    "df_geolocation_.filter(col('geolocation_zip_code_prefix')=='72580').show()"
   ]
  },
  {
   "cell_type": "markdown",
   "id": "6b547c52",
   "metadata": {},
   "source": [
    "Agora vamos salvar o arquivo final da dimensão geolocation"
   ]
  },
  {
   "cell_type": "markdown",
   "id": "c2a00eb0",
   "metadata": {},
   "source": [
    "<!-- # Path(os.path.join(src_path.format(stage='silver'), 'olit_dm_geolocation')).mkdir(parents=True, exist_ok=True)\n",
    "# df_geolocation.write.mode('overwrite')\\\n",
    "#     .format('delta')\\\n",
    "#         .option(\"compression\", \"snappy\")\\\n",
    "#             .save(os.path.join(src_path.format(stage='silver'), 'olit_dm_geolocation')) -->"
   ]
  },
  {
   "cell_type": "code",
   "execution_count": 103,
   "id": "f8e2df58",
   "metadata": {},
   "outputs": [
    {
     "name": "stderr",
     "output_type": "stream",
     "text": [
      "                                                                                \r"
     ]
    }
   ],
   "source": [
    "Path(os.path.join(src_path.format(stage='silver'), 'olit_dm_geolocation')).mkdir(parents=True, exist_ok=True)\n",
    "df_geolocation_.write.mode('overwrite')\\\n",
    "    .format('delta')\\\n",
    "        .option(\"compression\", \"snappy\")\\\n",
    "            .save(os.path.join(src_path.format(stage='silver'), 'olit_dm_geolocation'))"
   ]
  },
  {
   "cell_type": "code",
   "execution_count": null,
   "id": "fdd689ed",
   "metadata": {},
   "outputs": [],
   "source": []
  }
 ],
 "metadata": {
  "kernelspec": {
   "display_name": ".venv",
   "language": "python",
   "name": "python3"
  },
  "language_info": {
   "codemirror_mode": {
    "name": "ipython",
    "version": 3
   },
   "file_extension": ".py",
   "mimetype": "text/x-python",
   "name": "python",
   "nbconvert_exporter": "python",
   "pygments_lexer": "ipython3",
   "version": "3.10.12"
  }
 },
 "nbformat": 4,
 "nbformat_minor": 5
}
